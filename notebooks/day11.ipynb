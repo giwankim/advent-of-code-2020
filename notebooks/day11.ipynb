{
 "cells": [
  {
   "cell_type": "code",
   "execution_count": 54,
   "metadata": {},
   "outputs": [
    {
     "data": {
      "application/javascript": [
       "\n",
       "            setTimeout(function() {\n",
       "                var nbb_cell_id = 54;\n",
       "                var nbb_unformatted_code = \"%reload_ext nb_black\";\n",
       "                var nbb_formatted_code = \"%reload_ext nb_black\";\n",
       "                var nbb_cells = Jupyter.notebook.get_cells();\n",
       "                for (var i = 0; i < nbb_cells.length; ++i) {\n",
       "                    if (nbb_cells[i].input_prompt_number == nbb_cell_id) {\n",
       "                        if (nbb_cells[i].get_text() == nbb_unformatted_code) {\n",
       "                             nbb_cells[i].set_text(nbb_formatted_code);\n",
       "                        }\n",
       "                        break;\n",
       "                    }\n",
       "                }\n",
       "            }, 500);\n",
       "            "
      ],
      "text/plain": [
       "<IPython.core.display.Javascript object>"
      ]
     },
     "metadata": {},
     "output_type": "display_data"
    },
    {
     "data": {
      "application/javascript": [
       "\n",
       "            setTimeout(function() {\n",
       "                var nbb_cell_id = 54;\n",
       "                var nbb_unformatted_code = \"%reload_ext nb_black\";\n",
       "                var nbb_formatted_code = \"%reload_ext nb_black\";\n",
       "                var nbb_cells = Jupyter.notebook.get_cells();\n",
       "                for (var i = 0; i < nbb_cells.length; ++i) {\n",
       "                    if (nbb_cells[i].input_prompt_number == nbb_cell_id) {\n",
       "                        if (nbb_cells[i].get_text() == nbb_unformatted_code) {\n",
       "                             nbb_cells[i].set_text(nbb_formatted_code);\n",
       "                        }\n",
       "                        break;\n",
       "                    }\n",
       "                }\n",
       "            }, 500);\n",
       "            "
      ],
      "text/plain": [
       "<IPython.core.display.Javascript object>"
      ]
     },
     "metadata": {},
     "output_type": "display_data"
    }
   ],
   "source": [
    "%reload_ext nb_black"
   ]
  },
  {
   "cell_type": "markdown",
   "metadata": {},
   "source": [
    "# Day 11"
   ]
  },
  {
   "cell_type": "code",
   "execution_count": 55,
   "metadata": {},
   "outputs": [
    {
     "data": {
      "application/javascript": [
       "\n",
       "            setTimeout(function() {\n",
       "                var nbb_cell_id = 55;\n",
       "                var nbb_unformatted_code = \"from __future__ import annotations\\nfrom typing import List, Dict, NamedTuple\\nfrom collections import deque\";\n",
       "                var nbb_formatted_code = \"from __future__ import annotations\\nfrom typing import List, Dict, NamedTuple\\nfrom collections import deque\";\n",
       "                var nbb_cells = Jupyter.notebook.get_cells();\n",
       "                for (var i = 0; i < nbb_cells.length; ++i) {\n",
       "                    if (nbb_cells[i].input_prompt_number == nbb_cell_id) {\n",
       "                        if (nbb_cells[i].get_text() == nbb_unformatted_code) {\n",
       "                             nbb_cells[i].set_text(nbb_formatted_code);\n",
       "                        }\n",
       "                        break;\n",
       "                    }\n",
       "                }\n",
       "            }, 500);\n",
       "            "
      ],
      "text/plain": [
       "<IPython.core.display.Javascript object>"
      ]
     },
     "metadata": {},
     "output_type": "display_data"
    },
    {
     "data": {
      "application/javascript": [
       "\n",
       "            setTimeout(function() {\n",
       "                var nbb_cell_id = 55;\n",
       "                var nbb_unformatted_code = \"from __future__ import annotations\\nfrom typing import List, Dict, NamedTuple\\nfrom collections import deque\";\n",
       "                var nbb_formatted_code = \"from __future__ import annotations\\nfrom typing import List, Dict, NamedTuple\\nfrom collections import deque\";\n",
       "                var nbb_cells = Jupyter.notebook.get_cells();\n",
       "                for (var i = 0; i < nbb_cells.length; ++i) {\n",
       "                    if (nbb_cells[i].input_prompt_number == nbb_cell_id) {\n",
       "                        if (nbb_cells[i].get_text() == nbb_unformatted_code) {\n",
       "                             nbb_cells[i].set_text(nbb_formatted_code);\n",
       "                        }\n",
       "                        break;\n",
       "                    }\n",
       "                }\n",
       "            }, 500);\n",
       "            "
      ],
      "text/plain": [
       "<IPython.core.display.Javascript object>"
      ]
     },
     "metadata": {},
     "output_type": "display_data"
    }
   ],
   "source": [
    "from __future__ import annotations\n",
    "from typing import List, Dict, NamedTuple\n",
    "from collections import deque"
   ]
  },
  {
   "cell_type": "markdown",
   "metadata": {},
   "source": [
    "## Part One"
   ]
  },
  {
   "cell_type": "code",
   "execution_count": 75,
   "metadata": {},
   "outputs": [
    {
     "data": {
      "application/javascript": [
       "\n",
       "            setTimeout(function() {\n",
       "                var nbb_cell_id = 75;\n",
       "                var nbb_unformatted_code = \"def parse(raw: str) -> List[List[str]]:\\n    raw = raw.strip()\\n    seats = raw.split(\\\"\\\\n\\\")\\n    seats = [list(row) for row in seats]\\n    return seats\";\n",
       "                var nbb_formatted_code = \"def parse(raw: str) -> List[List[str]]:\\n    raw = raw.strip()\\n    seats = raw.split(\\\"\\\\n\\\")\\n    seats = [list(row) for row in seats]\\n    return seats\";\n",
       "                var nbb_cells = Jupyter.notebook.get_cells();\n",
       "                for (var i = 0; i < nbb_cells.length; ++i) {\n",
       "                    if (nbb_cells[i].input_prompt_number == nbb_cell_id) {\n",
       "                        if (nbb_cells[i].get_text() == nbb_unformatted_code) {\n",
       "                             nbb_cells[i].set_text(nbb_formatted_code);\n",
       "                        }\n",
       "                        break;\n",
       "                    }\n",
       "                }\n",
       "            }, 500);\n",
       "            "
      ],
      "text/plain": [
       "<IPython.core.display.Javascript object>"
      ]
     },
     "metadata": {},
     "output_type": "display_data"
    },
    {
     "data": {
      "application/javascript": [
       "\n",
       "            setTimeout(function() {\n",
       "                var nbb_cell_id = 75;\n",
       "                var nbb_unformatted_code = \"def parse(raw: str) -> List[List[str]]:\\n    raw = raw.strip()\\n    seats = raw.split(\\\"\\\\n\\\")\\n    seats = [list(row) for row in seats]\\n    return seats\";\n",
       "                var nbb_formatted_code = \"def parse(raw: str) -> List[List[str]]:\\n    raw = raw.strip()\\n    seats = raw.split(\\\"\\\\n\\\")\\n    seats = [list(row) for row in seats]\\n    return seats\";\n",
       "                var nbb_cells = Jupyter.notebook.get_cells();\n",
       "                for (var i = 0; i < nbb_cells.length; ++i) {\n",
       "                    if (nbb_cells[i].input_prompt_number == nbb_cell_id) {\n",
       "                        if (nbb_cells[i].get_text() == nbb_unformatted_code) {\n",
       "                             nbb_cells[i].set_text(nbb_formatted_code);\n",
       "                        }\n",
       "                        break;\n",
       "                    }\n",
       "                }\n",
       "            }, 500);\n",
       "            "
      ],
      "text/plain": [
       "<IPython.core.display.Javascript object>"
      ]
     },
     "metadata": {},
     "output_type": "display_data"
    }
   ],
   "source": [
    "def parse(raw: str) -> List[List[str]]:\n",
    "    raw = raw.strip()\n",
    "    seats = raw.split(\"\\n\")\n",
    "    seats = [list(row) for row in seats]\n",
    "    return seats"
   ]
  },
  {
   "cell_type": "code",
   "execution_count": 76,
   "metadata": {},
   "outputs": [
    {
     "data": {
      "application/javascript": [
       "\n",
       "            setTimeout(function() {\n",
       "                var nbb_cell_id = 76;\n",
       "                var nbb_unformatted_code = \"def count_adj(x: int, y: int, seats: List[List[str]]) -> int:\\n    dx = [-1, -1, -1, 0, 0, 1, 1, 1]\\n    dy = [-1, 0, 1, -1, 1, -1, 0, 1]\\n    cnt = 0\\n    for k in range(len(dx)):\\n        nx = x + dx[k]\\n        ny = y + dy[k]\\n        if 0 <= nx < len(seats) and 0 <= ny < len(seats[x]):\\n            if seats[nx][ny] == \\\"#\\\":\\n                cnt += 1\\n    return cnt\\n\\n\\ndef one_round(seats: List[List[str]], limit=4, count_fn=count_adj) -> List[List[str]]:\\n    changed = 0\\n    nseats = [[c for c in row] for row in seats]\\n    for i in range(len(seats)):\\n        for j in range(len(seats[i])):\\n            cnt = count_fn(i, j, seats)\\n            if seats[i][j] == \\\"L\\\" and cnt == 0:\\n                nseats[i][j] = \\\"#\\\"\\n                changed += 1\\n            elif seats[i][j] == \\\"#\\\" and cnt >= limit:\\n                nseats[i][j] = \\\"L\\\"\\n                changed += 1\\n    return nseats, changed\";\n",
       "                var nbb_formatted_code = \"def count_adj(x: int, y: int, seats: List[List[str]]) -> int:\\n    dx = [-1, -1, -1, 0, 0, 1, 1, 1]\\n    dy = [-1, 0, 1, -1, 1, -1, 0, 1]\\n    cnt = 0\\n    for k in range(len(dx)):\\n        nx = x + dx[k]\\n        ny = y + dy[k]\\n        if 0 <= nx < len(seats) and 0 <= ny < len(seats[x]):\\n            if seats[nx][ny] == \\\"#\\\":\\n                cnt += 1\\n    return cnt\\n\\n\\ndef one_round(seats: List[List[str]], limit=4, count_fn=count_adj) -> List[List[str]]:\\n    changed = 0\\n    nseats = [[c for c in row] for row in seats]\\n    for i in range(len(seats)):\\n        for j in range(len(seats[i])):\\n            cnt = count_fn(i, j, seats)\\n            if seats[i][j] == \\\"L\\\" and cnt == 0:\\n                nseats[i][j] = \\\"#\\\"\\n                changed += 1\\n            elif seats[i][j] == \\\"#\\\" and cnt >= limit:\\n                nseats[i][j] = \\\"L\\\"\\n                changed += 1\\n    return nseats, changed\";\n",
       "                var nbb_cells = Jupyter.notebook.get_cells();\n",
       "                for (var i = 0; i < nbb_cells.length; ++i) {\n",
       "                    if (nbb_cells[i].input_prompt_number == nbb_cell_id) {\n",
       "                        if (nbb_cells[i].get_text() == nbb_unformatted_code) {\n",
       "                             nbb_cells[i].set_text(nbb_formatted_code);\n",
       "                        }\n",
       "                        break;\n",
       "                    }\n",
       "                }\n",
       "            }, 500);\n",
       "            "
      ],
      "text/plain": [
       "<IPython.core.display.Javascript object>"
      ]
     },
     "metadata": {},
     "output_type": "display_data"
    },
    {
     "data": {
      "application/javascript": [
       "\n",
       "            setTimeout(function() {\n",
       "                var nbb_cell_id = 76;\n",
       "                var nbb_unformatted_code = \"def count_adj(x: int, y: int, seats: List[List[str]]) -> int:\\n    dx = [-1, -1, -1, 0, 0, 1, 1, 1]\\n    dy = [-1, 0, 1, -1, 1, -1, 0, 1]\\n    cnt = 0\\n    for k in range(len(dx)):\\n        nx = x + dx[k]\\n        ny = y + dy[k]\\n        if 0 <= nx < len(seats) and 0 <= ny < len(seats[x]):\\n            if seats[nx][ny] == \\\"#\\\":\\n                cnt += 1\\n    return cnt\\n\\n\\ndef one_round(seats: List[List[str]], limit=4, count_fn=count_adj) -> List[List[str]]:\\n    changed = 0\\n    nseats = [[c for c in row] for row in seats]\\n    for i in range(len(seats)):\\n        for j in range(len(seats[i])):\\n            cnt = count_fn(i, j, seats)\\n            if seats[i][j] == \\\"L\\\" and cnt == 0:\\n                nseats[i][j] = \\\"#\\\"\\n                changed += 1\\n            elif seats[i][j] == \\\"#\\\" and cnt >= limit:\\n                nseats[i][j] = \\\"L\\\"\\n                changed += 1\\n    return nseats, changed\";\n",
       "                var nbb_formatted_code = \"def count_adj(x: int, y: int, seats: List[List[str]]) -> int:\\n    dx = [-1, -1, -1, 0, 0, 1, 1, 1]\\n    dy = [-1, 0, 1, -1, 1, -1, 0, 1]\\n    cnt = 0\\n    for k in range(len(dx)):\\n        nx = x + dx[k]\\n        ny = y + dy[k]\\n        if 0 <= nx < len(seats) and 0 <= ny < len(seats[x]):\\n            if seats[nx][ny] == \\\"#\\\":\\n                cnt += 1\\n    return cnt\\n\\n\\ndef one_round(seats: List[List[str]], limit=4, count_fn=count_adj) -> List[List[str]]:\\n    changed = 0\\n    nseats = [[c for c in row] for row in seats]\\n    for i in range(len(seats)):\\n        for j in range(len(seats[i])):\\n            cnt = count_fn(i, j, seats)\\n            if seats[i][j] == \\\"L\\\" and cnt == 0:\\n                nseats[i][j] = \\\"#\\\"\\n                changed += 1\\n            elif seats[i][j] == \\\"#\\\" and cnt >= limit:\\n                nseats[i][j] = \\\"L\\\"\\n                changed += 1\\n    return nseats, changed\";\n",
       "                var nbb_cells = Jupyter.notebook.get_cells();\n",
       "                for (var i = 0; i < nbb_cells.length; ++i) {\n",
       "                    if (nbb_cells[i].input_prompt_number == nbb_cell_id) {\n",
       "                        if (nbb_cells[i].get_text() == nbb_unformatted_code) {\n",
       "                             nbb_cells[i].set_text(nbb_formatted_code);\n",
       "                        }\n",
       "                        break;\n",
       "                    }\n",
       "                }\n",
       "            }, 500);\n",
       "            "
      ],
      "text/plain": [
       "<IPython.core.display.Javascript object>"
      ]
     },
     "metadata": {},
     "output_type": "display_data"
    }
   ],
   "source": [
    "def count_adj(x: int, y: int, seats: List[List[str]]) -> int:\n",
    "    dx = [-1, -1, -1, 0, 0, 1, 1, 1]\n",
    "    dy = [-1, 0, 1, -1, 1, -1, 0, 1]\n",
    "    cnt = 0\n",
    "    for k in range(len(dx)):\n",
    "        nx = x + dx[k]\n",
    "        ny = y + dy[k]\n",
    "        if 0 <= nx < len(seats) and 0 <= ny < len(seats[x]):\n",
    "            if seats[nx][ny] == \"#\":\n",
    "                cnt += 1\n",
    "    return cnt\n",
    "\n",
    "\n",
    "def one_round(seats: List[List[str]], limit=4, count_fn=count_adj) -> List[List[str]]:\n",
    "    changed = 0\n",
    "    nseats = [[c for c in row] for row in seats]\n",
    "    for i in range(len(seats)):\n",
    "        for j in range(len(seats[i])):\n",
    "            cnt = count_fn(i, j, seats)\n",
    "            if seats[i][j] == \"L\" and cnt == 0:\n",
    "                nseats[i][j] = \"#\"\n",
    "                changed += 1\n",
    "            elif seats[i][j] == \"#\" and cnt >= limit:\n",
    "                nseats[i][j] = \"L\"\n",
    "                changed += 1\n",
    "    return nseats, changed"
   ]
  },
  {
   "cell_type": "code",
   "execution_count": 77,
   "metadata": {},
   "outputs": [
    {
     "data": {
      "application/javascript": [
       "\n",
       "            setTimeout(function() {\n",
       "                var nbb_cell_id = 77;\n",
       "                var nbb_unformatted_code = \"def simulate(seats: List[List[str]], limit=4, count_fn=count_adj) -> int:\\n    changed = -1\\n    while changed:\\n        seats, changed = one_round(seats, limit=limit, count_fn=count_fn)\\n    #     import pprint\\n    #     pprint.pprint(seats)\\n    #     print(\\\"\\\\n\\\".join([\\\"\\\".join(row) for row in seats]))\\n    answer = sum(c == \\\"#\\\" for row in seats for c in row)\\n    return answer\";\n",
       "                var nbb_formatted_code = \"def simulate(seats: List[List[str]], limit=4, count_fn=count_adj) -> int:\\n    changed = -1\\n    while changed:\\n        seats, changed = one_round(seats, limit=limit, count_fn=count_fn)\\n    #     import pprint\\n    #     pprint.pprint(seats)\\n    #     print(\\\"\\\\n\\\".join([\\\"\\\".join(row) for row in seats]))\\n    answer = sum(c == \\\"#\\\" for row in seats for c in row)\\n    return answer\";\n",
       "                var nbb_cells = Jupyter.notebook.get_cells();\n",
       "                for (var i = 0; i < nbb_cells.length; ++i) {\n",
       "                    if (nbb_cells[i].input_prompt_number == nbb_cell_id) {\n",
       "                        if (nbb_cells[i].get_text() == nbb_unformatted_code) {\n",
       "                             nbb_cells[i].set_text(nbb_formatted_code);\n",
       "                        }\n",
       "                        break;\n",
       "                    }\n",
       "                }\n",
       "            }, 500);\n",
       "            "
      ],
      "text/plain": [
       "<IPython.core.display.Javascript object>"
      ]
     },
     "metadata": {},
     "output_type": "display_data"
    },
    {
     "data": {
      "application/javascript": [
       "\n",
       "            setTimeout(function() {\n",
       "                var nbb_cell_id = 77;\n",
       "                var nbb_unformatted_code = \"def simulate(seats: List[List[str]], limit=4, count_fn=count_adj) -> int:\\n    changed = -1\\n    while changed:\\n        seats, changed = one_round(seats, limit=limit, count_fn=count_fn)\\n    #     import pprint\\n    #     pprint.pprint(seats)\\n    #     print(\\\"\\\\n\\\".join([\\\"\\\".join(row) for row in seats]))\\n    answer = sum(c == \\\"#\\\" for row in seats for c in row)\\n    return answer\";\n",
       "                var nbb_formatted_code = \"def simulate(seats: List[List[str]], limit=4, count_fn=count_adj) -> int:\\n    changed = -1\\n    while changed:\\n        seats, changed = one_round(seats, limit=limit, count_fn=count_fn)\\n    #     import pprint\\n    #     pprint.pprint(seats)\\n    #     print(\\\"\\\\n\\\".join([\\\"\\\".join(row) for row in seats]))\\n    answer = sum(c == \\\"#\\\" for row in seats for c in row)\\n    return answer\";\n",
       "                var nbb_cells = Jupyter.notebook.get_cells();\n",
       "                for (var i = 0; i < nbb_cells.length; ++i) {\n",
       "                    if (nbb_cells[i].input_prompt_number == nbb_cell_id) {\n",
       "                        if (nbb_cells[i].get_text() == nbb_unformatted_code) {\n",
       "                             nbb_cells[i].set_text(nbb_formatted_code);\n",
       "                        }\n",
       "                        break;\n",
       "                    }\n",
       "                }\n",
       "            }, 500);\n",
       "            "
      ],
      "text/plain": [
       "<IPython.core.display.Javascript object>"
      ]
     },
     "metadata": {},
     "output_type": "display_data"
    }
   ],
   "source": [
    "def simulate(seats: List[List[str]], limit=4, count_fn=count_adj) -> int:\n",
    "    changed = -1\n",
    "    while changed:\n",
    "        seats, changed = one_round(seats, limit=limit, count_fn=count_fn)\n",
    "    #     import pprint\n",
    "    #     pprint.pprint(seats)\n",
    "    #     print(\"\\n\".join([\"\".join(row) for row in seats]))\n",
    "    answer = sum(c == \"#\" for row in seats for c in row)\n",
    "    return answer"
   ]
  },
  {
   "cell_type": "code",
   "execution_count": 78,
   "metadata": {},
   "outputs": [
    {
     "data": {
      "application/javascript": [
       "\n",
       "            setTimeout(function() {\n",
       "                var nbb_cell_id = 78;\n",
       "                var nbb_unformatted_code = \"RAW = \\\"\\\"\\\"L.LL.LL.LL\\nLLLLLLL.LL\\nL.L.L..L..\\nLLLL.LL.LL\\nL.LL.LL.LL\\nL.LLLLL.LL\\n..L.L.....\\nLLLLLLLLLL\\nL.LLLLLL.L\\nL.LLLLL.LL\\\"\\\"\\\"\\nseats = parse(RAW)\\nassert simulate(seats) == 37\";\n",
       "                var nbb_formatted_code = \"RAW = \\\"\\\"\\\"L.LL.LL.LL\\nLLLLLLL.LL\\nL.L.L..L..\\nLLLL.LL.LL\\nL.LL.LL.LL\\nL.LLLLL.LL\\n..L.L.....\\nLLLLLLLLLL\\nL.LLLLLL.L\\nL.LLLLL.LL\\\"\\\"\\\"\\nseats = parse(RAW)\\nassert simulate(seats) == 37\";\n",
       "                var nbb_cells = Jupyter.notebook.get_cells();\n",
       "                for (var i = 0; i < nbb_cells.length; ++i) {\n",
       "                    if (nbb_cells[i].input_prompt_number == nbb_cell_id) {\n",
       "                        if (nbb_cells[i].get_text() == nbb_unformatted_code) {\n",
       "                             nbb_cells[i].set_text(nbb_formatted_code);\n",
       "                        }\n",
       "                        break;\n",
       "                    }\n",
       "                }\n",
       "            }, 500);\n",
       "            "
      ],
      "text/plain": [
       "<IPython.core.display.Javascript object>"
      ]
     },
     "metadata": {},
     "output_type": "display_data"
    },
    {
     "data": {
      "application/javascript": [
       "\n",
       "            setTimeout(function() {\n",
       "                var nbb_cell_id = 78;\n",
       "                var nbb_unformatted_code = \"RAW = \\\"\\\"\\\"L.LL.LL.LL\\nLLLLLLL.LL\\nL.L.L..L..\\nLLLL.LL.LL\\nL.LL.LL.LL\\nL.LLLLL.LL\\n..L.L.....\\nLLLLLLLLLL\\nL.LLLLLL.L\\nL.LLLLL.LL\\\"\\\"\\\"\\nseats = parse(RAW)\\nassert simulate(seats) == 37\";\n",
       "                var nbb_formatted_code = \"RAW = \\\"\\\"\\\"L.LL.LL.LL\\nLLLLLLL.LL\\nL.L.L..L..\\nLLLL.LL.LL\\nL.LL.LL.LL\\nL.LLLLL.LL\\n..L.L.....\\nLLLLLLLLLL\\nL.LLLLLL.L\\nL.LLLLL.LL\\\"\\\"\\\"\\nseats = parse(RAW)\\nassert simulate(seats) == 37\";\n",
       "                var nbb_cells = Jupyter.notebook.get_cells();\n",
       "                for (var i = 0; i < nbb_cells.length; ++i) {\n",
       "                    if (nbb_cells[i].input_prompt_number == nbb_cell_id) {\n",
       "                        if (nbb_cells[i].get_text() == nbb_unformatted_code) {\n",
       "                             nbb_cells[i].set_text(nbb_formatted_code);\n",
       "                        }\n",
       "                        break;\n",
       "                    }\n",
       "                }\n",
       "            }, 500);\n",
       "            "
      ],
      "text/plain": [
       "<IPython.core.display.Javascript object>"
      ]
     },
     "metadata": {},
     "output_type": "display_data"
    }
   ],
   "source": [
    "RAW = \"\"\"L.LL.LL.LL\n",
    "LLLLLLL.LL\n",
    "L.L.L..L..\n",
    "LLLL.LL.LL\n",
    "L.LL.LL.LL\n",
    "L.LLLLL.LL\n",
    "..L.L.....\n",
    "LLLLLLLLLL\n",
    "L.LLLLLL.L\n",
    "L.LLLLL.LL\"\"\"\n",
    "seats = parse(RAW)\n",
    "assert simulate(seats) == 37"
   ]
  },
  {
   "cell_type": "code",
   "execution_count": 79,
   "metadata": {},
   "outputs": [
    {
     "name": "stdout",
     "output_type": "stream",
     "text": [
      "2249\n"
     ]
    },
    {
     "data": {
      "application/javascript": [
       "\n",
       "            setTimeout(function() {\n",
       "                var nbb_cell_id = 79;\n",
       "                var nbb_unformatted_code = \"with open(\\\"../input/day11.txt\\\") as f:\\n    raw = f.read()\\nseats = parse(raw)\\nprint(simulate(seats))\";\n",
       "                var nbb_formatted_code = \"with open(\\\"../input/day11.txt\\\") as f:\\n    raw = f.read()\\nseats = parse(raw)\\nprint(simulate(seats))\";\n",
       "                var nbb_cells = Jupyter.notebook.get_cells();\n",
       "                for (var i = 0; i < nbb_cells.length; ++i) {\n",
       "                    if (nbb_cells[i].input_prompt_number == nbb_cell_id) {\n",
       "                        if (nbb_cells[i].get_text() == nbb_unformatted_code) {\n",
       "                             nbb_cells[i].set_text(nbb_formatted_code);\n",
       "                        }\n",
       "                        break;\n",
       "                    }\n",
       "                }\n",
       "            }, 500);\n",
       "            "
      ],
      "text/plain": [
       "<IPython.core.display.Javascript object>"
      ]
     },
     "metadata": {},
     "output_type": "display_data"
    },
    {
     "data": {
      "application/javascript": [
       "\n",
       "            setTimeout(function() {\n",
       "                var nbb_cell_id = 79;\n",
       "                var nbb_unformatted_code = \"with open(\\\"../input/day11.txt\\\") as f:\\n    raw = f.read()\\nseats = parse(raw)\\nprint(simulate(seats))\";\n",
       "                var nbb_formatted_code = \"with open(\\\"../input/day11.txt\\\") as f:\\n    raw = f.read()\\nseats = parse(raw)\\nprint(simulate(seats))\";\n",
       "                var nbb_cells = Jupyter.notebook.get_cells();\n",
       "                for (var i = 0; i < nbb_cells.length; ++i) {\n",
       "                    if (nbb_cells[i].input_prompt_number == nbb_cell_id) {\n",
       "                        if (nbb_cells[i].get_text() == nbb_unformatted_code) {\n",
       "                             nbb_cells[i].set_text(nbb_formatted_code);\n",
       "                        }\n",
       "                        break;\n",
       "                    }\n",
       "                }\n",
       "            }, 500);\n",
       "            "
      ],
      "text/plain": [
       "<IPython.core.display.Javascript object>"
      ]
     },
     "metadata": {},
     "output_type": "display_data"
    }
   ],
   "source": [
    "with open(\"../input/day11.txt\") as f:\n",
    "    raw = f.read()\n",
    "seats = parse(raw)\n",
    "print(simulate(seats))"
   ]
  },
  {
   "cell_type": "markdown",
   "metadata": {},
   "source": [
    "## Part Two"
   ]
  },
  {
   "cell_type": "code",
   "execution_count": 105,
   "metadata": {},
   "outputs": [
    {
     "data": {
      "application/javascript": [
       "\n",
       "            setTimeout(function() {\n",
       "                var nbb_cell_id = 105;\n",
       "                var nbb_unformatted_code = \"def count_adj2(x: int, y: int, seats: List[List[str]]) -> int:\\n    cnt = 0\\n    dxs = [-1, -1, -1, 0, 0, 1, 1, 1]\\n    dys = [-1, 0, 1, -1, 1, -1, 0, 1]\\n    n, m = len(seats), len(seats[0])\\n    for dx, dy in zip(dxs, dys):\\n        nx, ny = x, y\\n        while True:\\n            nx += dx\\n            ny += dy\\n            if nx < 0 or nx >= n or ny < 0 or ny >= m:\\n                break\\n            if seats[nx][ny] == \\\"#\\\":\\n                cnt += 1\\n                break\\n            elif seats[nx][ny] == \\\"L\\\":\\n                break\\n    return cnt\";\n",
       "                var nbb_formatted_code = \"def count_adj2(x: int, y: int, seats: List[List[str]]) -> int:\\n    cnt = 0\\n    dxs = [-1, -1, -1, 0, 0, 1, 1, 1]\\n    dys = [-1, 0, 1, -1, 1, -1, 0, 1]\\n    n, m = len(seats), len(seats[0])\\n    for dx, dy in zip(dxs, dys):\\n        nx, ny = x, y\\n        while True:\\n            nx += dx\\n            ny += dy\\n            if nx < 0 or nx >= n or ny < 0 or ny >= m:\\n                break\\n            if seats[nx][ny] == \\\"#\\\":\\n                cnt += 1\\n                break\\n            elif seats[nx][ny] == \\\"L\\\":\\n                break\\n    return cnt\";\n",
       "                var nbb_cells = Jupyter.notebook.get_cells();\n",
       "                for (var i = 0; i < nbb_cells.length; ++i) {\n",
       "                    if (nbb_cells[i].input_prompt_number == nbb_cell_id) {\n",
       "                        if (nbb_cells[i].get_text() == nbb_unformatted_code) {\n",
       "                             nbb_cells[i].set_text(nbb_formatted_code);\n",
       "                        }\n",
       "                        break;\n",
       "                    }\n",
       "                }\n",
       "            }, 500);\n",
       "            "
      ],
      "text/plain": [
       "<IPython.core.display.Javascript object>"
      ]
     },
     "metadata": {},
     "output_type": "display_data"
    },
    {
     "data": {
      "application/javascript": [
       "\n",
       "            setTimeout(function() {\n",
       "                var nbb_cell_id = 105;\n",
       "                var nbb_unformatted_code = \"def count_adj2(x: int, y: int, seats: List[List[str]]) -> int:\\n    cnt = 0\\n    dxs = [-1, -1, -1, 0, 0, 1, 1, 1]\\n    dys = [-1, 0, 1, -1, 1, -1, 0, 1]\\n    n, m = len(seats), len(seats[0])\\n    for dx, dy in zip(dxs, dys):\\n        nx, ny = x, y\\n        while True:\\n            nx += dx\\n            ny += dy\\n            if nx < 0 or nx >= n or ny < 0 or ny >= m:\\n                break\\n            if seats[nx][ny] == \\\"#\\\":\\n                cnt += 1\\n                break\\n            elif seats[nx][ny] == \\\"L\\\":\\n                break\\n    return cnt\";\n",
       "                var nbb_formatted_code = \"def count_adj2(x: int, y: int, seats: List[List[str]]) -> int:\\n    cnt = 0\\n    dxs = [-1, -1, -1, 0, 0, 1, 1, 1]\\n    dys = [-1, 0, 1, -1, 1, -1, 0, 1]\\n    n, m = len(seats), len(seats[0])\\n    for dx, dy in zip(dxs, dys):\\n        nx, ny = x, y\\n        while True:\\n            nx += dx\\n            ny += dy\\n            if nx < 0 or nx >= n or ny < 0 or ny >= m:\\n                break\\n            if seats[nx][ny] == \\\"#\\\":\\n                cnt += 1\\n                break\\n            elif seats[nx][ny] == \\\"L\\\":\\n                break\\n    return cnt\";\n",
       "                var nbb_cells = Jupyter.notebook.get_cells();\n",
       "                for (var i = 0; i < nbb_cells.length; ++i) {\n",
       "                    if (nbb_cells[i].input_prompt_number == nbb_cell_id) {\n",
       "                        if (nbb_cells[i].get_text() == nbb_unformatted_code) {\n",
       "                             nbb_cells[i].set_text(nbb_formatted_code);\n",
       "                        }\n",
       "                        break;\n",
       "                    }\n",
       "                }\n",
       "            }, 500);\n",
       "            "
      ],
      "text/plain": [
       "<IPython.core.display.Javascript object>"
      ]
     },
     "metadata": {},
     "output_type": "display_data"
    }
   ],
   "source": [
    "def count_adj2(x: int, y: int, seats: List[List[str]]) -> int:\n",
    "    cnt = 0\n",
    "    dxs = [-1, -1, -1, 0, 0, 1, 1, 1]\n",
    "    dys = [-1, 0, 1, -1, 1, -1, 0, 1]\n",
    "    n, m = len(seats), len(seats[0])\n",
    "    for dx, dy in zip(dxs, dys):\n",
    "        nx, ny = x, y\n",
    "        while True:\n",
    "            nx += dx\n",
    "            ny += dy\n",
    "            if nx < 0 or nx >= n or ny < 0 or ny >= m:\n",
    "                break\n",
    "            if seats[nx][ny] == \"#\":\n",
    "                cnt += 1\n",
    "                break\n",
    "            elif seats[nx][ny] == \"L\":\n",
    "                break\n",
    "    return cnt"
   ]
  },
  {
   "cell_type": "code",
   "execution_count": 117,
   "metadata": {},
   "outputs": [
    {
     "data": {
      "application/javascript": [
       "\n",
       "            setTimeout(function() {\n",
       "                var nbb_cell_id = 117;\n",
       "                var nbb_unformatted_code = \"RAW = \\\"\\\"\\\"L.LL.LL.LL\\nLLLLLLL.LL\\nL.L.L..L..\\nLLLL.LL.LL\\nL.LL.LL.LL\\nL.LLLLL.LL\\n..L.L.....\\nLLLLLLLLLL\\nL.LLLLLL.L\\nL.LLLLL.LL\\\"\\\"\\\"\\nSEATS = parse(RAW)\\nassert simulate(SEATS, limit=5, count_fn=count_adj2) == 26\";\n",
       "                var nbb_formatted_code = \"RAW = \\\"\\\"\\\"L.LL.LL.LL\\nLLLLLLL.LL\\nL.L.L..L..\\nLLLL.LL.LL\\nL.LL.LL.LL\\nL.LLLLL.LL\\n..L.L.....\\nLLLLLLLLLL\\nL.LLLLLL.L\\nL.LLLLL.LL\\\"\\\"\\\"\\nSEATS = parse(RAW)\\nassert simulate(SEATS, limit=5, count_fn=count_adj2) == 26\";\n",
       "                var nbb_cells = Jupyter.notebook.get_cells();\n",
       "                for (var i = 0; i < nbb_cells.length; ++i) {\n",
       "                    if (nbb_cells[i].input_prompt_number == nbb_cell_id) {\n",
       "                        if (nbb_cells[i].get_text() == nbb_unformatted_code) {\n",
       "                             nbb_cells[i].set_text(nbb_formatted_code);\n",
       "                        }\n",
       "                        break;\n",
       "                    }\n",
       "                }\n",
       "            }, 500);\n",
       "            "
      ],
      "text/plain": [
       "<IPython.core.display.Javascript object>"
      ]
     },
     "metadata": {},
     "output_type": "display_data"
    },
    {
     "data": {
      "application/javascript": [
       "\n",
       "            setTimeout(function() {\n",
       "                var nbb_cell_id = 117;\n",
       "                var nbb_unformatted_code = \"RAW = \\\"\\\"\\\"L.LL.LL.LL\\nLLLLLLL.LL\\nL.L.L..L..\\nLLLL.LL.LL\\nL.LL.LL.LL\\nL.LLLLL.LL\\n..L.L.....\\nLLLLLLLLLL\\nL.LLLLLL.L\\nL.LLLLL.LL\\\"\\\"\\\"\\nSEATS = parse(RAW)\\nassert simulate(SEATS, limit=5, count_fn=count_adj2) == 26\";\n",
       "                var nbb_formatted_code = \"RAW = \\\"\\\"\\\"L.LL.LL.LL\\nLLLLLLL.LL\\nL.L.L..L..\\nLLLL.LL.LL\\nL.LL.LL.LL\\nL.LLLLL.LL\\n..L.L.....\\nLLLLLLLLLL\\nL.LLLLLL.L\\nL.LLLLL.LL\\\"\\\"\\\"\\nSEATS = parse(RAW)\\nassert simulate(SEATS, limit=5, count_fn=count_adj2) == 26\";\n",
       "                var nbb_cells = Jupyter.notebook.get_cells();\n",
       "                for (var i = 0; i < nbb_cells.length; ++i) {\n",
       "                    if (nbb_cells[i].input_prompt_number == nbb_cell_id) {\n",
       "                        if (nbb_cells[i].get_text() == nbb_unformatted_code) {\n",
       "                             nbb_cells[i].set_text(nbb_formatted_code);\n",
       "                        }\n",
       "                        break;\n",
       "                    }\n",
       "                }\n",
       "            }, 500);\n",
       "            "
      ],
      "text/plain": [
       "<IPython.core.display.Javascript object>"
      ]
     },
     "metadata": {},
     "output_type": "display_data"
    }
   ],
   "source": [
    "RAW = \"\"\"L.LL.LL.LL\n",
    "LLLLLLL.LL\n",
    "L.L.L..L..\n",
    "LLLL.LL.LL\n",
    "L.LL.LL.LL\n",
    "L.LLLLL.LL\n",
    "..L.L.....\n",
    "LLLLLLLLLL\n",
    "L.LLLLLL.L\n",
    "L.LLLLL.LL\"\"\"\n",
    "SEATS = parse(RAW)\n",
    "assert simulate(SEATS, limit=5, count_fn=count_adj2) == 26"
   ]
  },
  {
   "cell_type": "code",
   "execution_count": 116,
   "metadata": {},
   "outputs": [
    {
     "name": "stdout",
     "output_type": "stream",
     "text": [
      "2023\n"
     ]
    },
    {
     "data": {
      "application/javascript": [
       "\n",
       "            setTimeout(function() {\n",
       "                var nbb_cell_id = 116;\n",
       "                var nbb_unformatted_code = \"with open(\\\"../input/day11.txt\\\") as f:\\n    raw = f.read()\\nseats = parse(raw)\\nprint(simulate(seats, limit=5, count_fn=count_adj2))\";\n",
       "                var nbb_formatted_code = \"with open(\\\"../input/day11.txt\\\") as f:\\n    raw = f.read()\\nseats = parse(raw)\\nprint(simulate(seats, limit=5, count_fn=count_adj2))\";\n",
       "                var nbb_cells = Jupyter.notebook.get_cells();\n",
       "                for (var i = 0; i < nbb_cells.length; ++i) {\n",
       "                    if (nbb_cells[i].input_prompt_number == nbb_cell_id) {\n",
       "                        if (nbb_cells[i].get_text() == nbb_unformatted_code) {\n",
       "                             nbb_cells[i].set_text(nbb_formatted_code);\n",
       "                        }\n",
       "                        break;\n",
       "                    }\n",
       "                }\n",
       "            }, 500);\n",
       "            "
      ],
      "text/plain": [
       "<IPython.core.display.Javascript object>"
      ]
     },
     "metadata": {},
     "output_type": "display_data"
    },
    {
     "data": {
      "application/javascript": [
       "\n",
       "            setTimeout(function() {\n",
       "                var nbb_cell_id = 116;\n",
       "                var nbb_unformatted_code = \"with open(\\\"../input/day11.txt\\\") as f:\\n    raw = f.read()\\nseats = parse(raw)\\nprint(simulate(seats, limit=5, count_fn=count_adj2))\";\n",
       "                var nbb_formatted_code = \"with open(\\\"../input/day11.txt\\\") as f:\\n    raw = f.read()\\nseats = parse(raw)\\nprint(simulate(seats, limit=5, count_fn=count_adj2))\";\n",
       "                var nbb_cells = Jupyter.notebook.get_cells();\n",
       "                for (var i = 0; i < nbb_cells.length; ++i) {\n",
       "                    if (nbb_cells[i].input_prompt_number == nbb_cell_id) {\n",
       "                        if (nbb_cells[i].get_text() == nbb_unformatted_code) {\n",
       "                             nbb_cells[i].set_text(nbb_formatted_code);\n",
       "                        }\n",
       "                        break;\n",
       "                    }\n",
       "                }\n",
       "            }, 500);\n",
       "            "
      ],
      "text/plain": [
       "<IPython.core.display.Javascript object>"
      ]
     },
     "metadata": {},
     "output_type": "display_data"
    }
   ],
   "source": [
    "with open(\"../input/day11.txt\") as f:\n",
    "    raw = f.read()\n",
    "seats = parse(raw)\n",
    "print(simulate(seats, limit=5, count_fn=count_adj2))"
   ]
  },
  {
   "cell_type": "code",
   "execution_count": null,
   "metadata": {},
   "outputs": [],
   "source": []
  }
 ],
 "metadata": {
  "kernelspec": {
   "display_name": "Python [conda env:ml] *",
   "language": "python",
   "name": "conda-env-ml-py"
  },
  "language_info": {
   "codemirror_mode": {
    "name": "ipython",
    "version": 3
   },
   "file_extension": ".py",
   "mimetype": "text/x-python",
   "name": "python",
   "nbconvert_exporter": "python",
   "pygments_lexer": "ipython3",
   "version": "3.8.6"
  }
 },
 "nbformat": 4,
 "nbformat_minor": 4
}
