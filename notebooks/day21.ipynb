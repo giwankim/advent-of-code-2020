{
 "cells": [
  {
   "cell_type": "code",
   "execution_count": 1,
   "metadata": {},
   "outputs": [
    {
     "data": {
      "application/javascript": [
       "\n",
       "            setTimeout(function() {\n",
       "                var nbb_cell_id = 1;\n",
       "                var nbb_unformatted_code = \"%reload_ext nb_black\";\n",
       "                var nbb_formatted_code = \"%reload_ext nb_black\";\n",
       "                var nbb_cells = Jupyter.notebook.get_cells();\n",
       "                for (var i = 0; i < nbb_cells.length; ++i) {\n",
       "                    if (nbb_cells[i].input_prompt_number == nbb_cell_id) {\n",
       "                        if (nbb_cells[i].get_text() == nbb_unformatted_code) {\n",
       "                             nbb_cells[i].set_text(nbb_formatted_code);\n",
       "                        }\n",
       "                        break;\n",
       "                    }\n",
       "                }\n",
       "            }, 500);\n",
       "            "
      ],
      "text/plain": [
       "<IPython.core.display.Javascript object>"
      ]
     },
     "metadata": {},
     "output_type": "display_data"
    }
   ],
   "source": [
    "%reload_ext nb_black"
   ]
  },
  {
   "cell_type": "markdown",
   "metadata": {},
   "source": [
    "# Day 21: Allergen Assessment"
   ]
  },
  {
   "cell_type": "code",
   "execution_count": 2,
   "metadata": {},
   "outputs": [
    {
     "data": {
      "application/javascript": [
       "\n",
       "            setTimeout(function() {\n",
       "                var nbb_cell_id = 2;\n",
       "                var nbb_unformatted_code = \"from __future__ import annotations\\nfrom typing import *\\nfrom collections import *\\nimport re\";\n",
       "                var nbb_formatted_code = \"from __future__ import annotations\\nfrom typing import *\\nfrom collections import *\\nimport re\";\n",
       "                var nbb_cells = Jupyter.notebook.get_cells();\n",
       "                for (var i = 0; i < nbb_cells.length; ++i) {\n",
       "                    if (nbb_cells[i].input_prompt_number == nbb_cell_id) {\n",
       "                        if (nbb_cells[i].get_text() == nbb_unformatted_code) {\n",
       "                             nbb_cells[i].set_text(nbb_formatted_code);\n",
       "                        }\n",
       "                        break;\n",
       "                    }\n",
       "                }\n",
       "            }, 500);\n",
       "            "
      ],
      "text/plain": [
       "<IPython.core.display.Javascript object>"
      ]
     },
     "metadata": {},
     "output_type": "display_data"
    }
   ],
   "source": [
    "from __future__ import annotations\n",
    "from typing import *\n",
    "from collections import *\n",
    "import re"
   ]
  },
  {
   "cell_type": "markdown",
   "metadata": {},
   "source": [
    "## Part One"
   ]
  },
  {
   "cell_type": "code",
   "execution_count": 3,
   "metadata": {},
   "outputs": [
    {
     "data": {
      "application/javascript": [
       "\n",
       "            setTimeout(function() {\n",
       "                var nbb_cell_id = 3;\n",
       "                var nbb_unformatted_code = \"RAW = \\\"\\\"\\\"mxmxvkd kfcds sqjhc nhms (contains dairy, fish)\\ntrh fvjkl sbzzf mxmxvkd (contains dairy)\\nsqjhc fvjkl (contains soy)\\nsqjhc mxmxvkd sbzzf (contains fish)\\\"\\\"\\\"\";\n",
       "                var nbb_formatted_code = \"RAW = \\\"\\\"\\\"mxmxvkd kfcds sqjhc nhms (contains dairy, fish)\\ntrh fvjkl sbzzf mxmxvkd (contains dairy)\\nsqjhc fvjkl (contains soy)\\nsqjhc mxmxvkd sbzzf (contains fish)\\\"\\\"\\\"\";\n",
       "                var nbb_cells = Jupyter.notebook.get_cells();\n",
       "                for (var i = 0; i < nbb_cells.length; ++i) {\n",
       "                    if (nbb_cells[i].input_prompt_number == nbb_cell_id) {\n",
       "                        if (nbb_cells[i].get_text() == nbb_unformatted_code) {\n",
       "                             nbb_cells[i].set_text(nbb_formatted_code);\n",
       "                        }\n",
       "                        break;\n",
       "                    }\n",
       "                }\n",
       "            }, 500);\n",
       "            "
      ],
      "text/plain": [
       "<IPython.core.display.Javascript object>"
      ]
     },
     "metadata": {},
     "output_type": "display_data"
    }
   ],
   "source": [
    "RAW = \"\"\"mxmxvkd kfcds sqjhc nhms (contains dairy, fish)\n",
    "trh fvjkl sbzzf mxmxvkd (contains dairy)\n",
    "sqjhc fvjkl (contains soy)\n",
    "sqjhc mxmxvkd sbzzf (contains fish)\"\"\""
   ]
  },
  {
   "cell_type": "code",
   "execution_count": 4,
   "metadata": {},
   "outputs": [
    {
     "data": {
      "application/javascript": [
       "\n",
       "            setTimeout(function() {\n",
       "                var nbb_cell_id = 4;\n",
       "                var nbb_unformatted_code = \"class Food(NamedTuple):\\n    ingredients: List[str]\\n    allergens: Set[str]\\n\\n    def parse(line: str) -> Food:\\n        m = re.fullmatch(r\\\"(.*) \\\\(contains (.*)\\\\)\\\", line)\\n        assert m is not None, line\\n        ingredients = m.group(1).split()\\n        allergens = m.group(2).split(\\\", \\\")\\n        allergens = set(allergens)\\n        return Food(ingredients, allergens)\";\n",
       "                var nbb_formatted_code = \"class Food(NamedTuple):\\n    ingredients: List[str]\\n    allergens: Set[str]\\n\\n    def parse(line: str) -> Food:\\n        m = re.fullmatch(r\\\"(.*) \\\\(contains (.*)\\\\)\\\", line)\\n        assert m is not None, line\\n        ingredients = m.group(1).split()\\n        allergens = m.group(2).split(\\\", \\\")\\n        allergens = set(allergens)\\n        return Food(ingredients, allergens)\";\n",
       "                var nbb_cells = Jupyter.notebook.get_cells();\n",
       "                for (var i = 0; i < nbb_cells.length; ++i) {\n",
       "                    if (nbb_cells[i].input_prompt_number == nbb_cell_id) {\n",
       "                        if (nbb_cells[i].get_text() == nbb_unformatted_code) {\n",
       "                             nbb_cells[i].set_text(nbb_formatted_code);\n",
       "                        }\n",
       "                        break;\n",
       "                    }\n",
       "                }\n",
       "            }, 500);\n",
       "            "
      ],
      "text/plain": [
       "<IPython.core.display.Javascript object>"
      ]
     },
     "metadata": {},
     "output_type": "display_data"
    }
   ],
   "source": [
    "class Food(NamedTuple):\n",
    "    ingredients: List[str]\n",
    "    allergens: Set[str]\n",
    "\n",
    "    def parse(line: str) -> Food:\n",
    "        m = re.fullmatch(r\"(.*) \\(contains (.*)\\)\", line)\n",
    "        assert m is not None, line\n",
    "        ingredients = m.group(1).split()\n",
    "        allergens = m.group(2).split(\", \")\n",
    "        allergens = set(allergens)\n",
    "        return Food(ingredients, allergens)"
   ]
  },
  {
   "cell_type": "code",
   "execution_count": 5,
   "metadata": {},
   "outputs": [
    {
     "data": {
      "application/javascript": [
       "\n",
       "            setTimeout(function() {\n",
       "                var nbb_cell_id = 5;\n",
       "                var nbb_unformatted_code = \"FOODS = [Food.parse(line) for line in RAW.strip().split(\\\"\\\\n\\\")]\";\n",
       "                var nbb_formatted_code = \"FOODS = [Food.parse(line) for line in RAW.strip().split(\\\"\\\\n\\\")]\";\n",
       "                var nbb_cells = Jupyter.notebook.get_cells();\n",
       "                for (var i = 0; i < nbb_cells.length; ++i) {\n",
       "                    if (nbb_cells[i].input_prompt_number == nbb_cell_id) {\n",
       "                        if (nbb_cells[i].get_text() == nbb_unformatted_code) {\n",
       "                             nbb_cells[i].set_text(nbb_formatted_code);\n",
       "                        }\n",
       "                        break;\n",
       "                    }\n",
       "                }\n",
       "            }, 500);\n",
       "            "
      ],
      "text/plain": [
       "<IPython.core.display.Javascript object>"
      ]
     },
     "metadata": {},
     "output_type": "display_data"
    }
   ],
   "source": [
    "FOODS = [Food.parse(line) for line in RAW.strip().split(\"\\n\")]"
   ]
  },
  {
   "cell_type": "code",
   "execution_count": 6,
   "metadata": {},
   "outputs": [
    {
     "data": {
      "application/javascript": [
       "\n",
       "            setTimeout(function() {\n",
       "                var nbb_cell_id = 6;\n",
       "                var nbb_unformatted_code = \"def get_ingredients_with_allergens(foods: List[Food]) -> List[str]:\\n    # map each allergen to possible ingredients\\n    candidates: Dict[str, set[str]] = {}\\n    for food in foods:\\n        for allergen in food.allergens:\\n            if allergen in candidates:\\n                candidates[allergen] = candidates[allergen] & set(food.ingredients)\\n            else:\\n                candidates[allergen] = set(food.ingredients)\\n\\n    while True:\\n        uniques = {\\n            allergen: ingredients\\n            for allergen, ingredients in candidates.items()\\n            if len(ingredients) == 1\\n        }\\n        keep_going = False\\n        for allergen, ingredient in uniques.items():\\n            for cand in candidates:\\n                if cand not in uniques:\\n                    candidates[cand] = candidates[cand] - ingredient\\n                    keep_going = True\\n\\n        if not keep_going:\\n            break\\n\\n    return {\\n        ingredient for ingredients in candidates.values() for ingredient in ingredients\\n    }\";\n",
       "                var nbb_formatted_code = \"def get_ingredients_with_allergens(foods: List[Food]) -> List[str]:\\n    # map each allergen to possible ingredients\\n    candidates: Dict[str, set[str]] = {}\\n    for food in foods:\\n        for allergen in food.allergens:\\n            if allergen in candidates:\\n                candidates[allergen] = candidates[allergen] & set(food.ingredients)\\n            else:\\n                candidates[allergen] = set(food.ingredients)\\n\\n    while True:\\n        uniques = {\\n            allergen: ingredients\\n            for allergen, ingredients in candidates.items()\\n            if len(ingredients) == 1\\n        }\\n        keep_going = False\\n        for allergen, ingredient in uniques.items():\\n            for cand in candidates:\\n                if cand not in uniques:\\n                    candidates[cand] = candidates[cand] - ingredient\\n                    keep_going = True\\n\\n        if not keep_going:\\n            break\\n\\n    return {\\n        ingredient for ingredients in candidates.values() for ingredient in ingredients\\n    }\";\n",
       "                var nbb_cells = Jupyter.notebook.get_cells();\n",
       "                for (var i = 0; i < nbb_cells.length; ++i) {\n",
       "                    if (nbb_cells[i].input_prompt_number == nbb_cell_id) {\n",
       "                        if (nbb_cells[i].get_text() == nbb_unformatted_code) {\n",
       "                             nbb_cells[i].set_text(nbb_formatted_code);\n",
       "                        }\n",
       "                        break;\n",
       "                    }\n",
       "                }\n",
       "            }, 500);\n",
       "            "
      ],
      "text/plain": [
       "<IPython.core.display.Javascript object>"
      ]
     },
     "metadata": {},
     "output_type": "display_data"
    }
   ],
   "source": [
    "def get_ingredients_with_allergens(foods: List[Food]) -> List[str]:\n",
    "    # map each allergen to possible ingredients\n",
    "    candidates: Dict[str, set[str]] = {}\n",
    "    for food in foods:\n",
    "        for allergen in food.allergens:\n",
    "            if allergen in candidates:\n",
    "                candidates[allergen] = candidates[allergen] & set(food.ingredients)\n",
    "            else:\n",
    "                candidates[allergen] = set(food.ingredients)\n",
    "\n",
    "    while True:\n",
    "        uniques = {\n",
    "            allergen: ingredients\n",
    "            for allergen, ingredients in candidates.items()\n",
    "            if len(ingredients) == 1\n",
    "        }\n",
    "        keep_going = False\n",
    "        for allergen, ingredient in uniques.items():\n",
    "            for cand in candidates:\n",
    "                if cand not in uniques:\n",
    "                    candidates[cand] = candidates[cand] - ingredient\n",
    "                    keep_going = True\n",
    "\n",
    "        if not keep_going:\n",
    "            break\n",
    "\n",
    "    return {\n",
    "        ingredient for ingredients in candidates.values() for ingredient in ingredients\n",
    "    }"
   ]
  },
  {
   "cell_type": "code",
   "execution_count": 9,
   "metadata": {},
   "outputs": [
    {
     "data": {
      "application/javascript": [
       "\n",
       "            setTimeout(function() {\n",
       "                var nbb_cell_id = 9;\n",
       "                var nbb_unformatted_code = \"def count_ingredients_without_allergens(foods: List[Food]) -> int:\\n    ingredients_with_allergens = get_ingredients_with_allergens(foods)\\n    return sum(ingredient not in ingredients_with_allergens for food in foods for ingredient in food.ingredients)\";\n",
       "                var nbb_formatted_code = \"def count_ingredients_without_allergens(foods: List[Food]) -> int:\\n    ingredients_with_allergens = get_ingredients_with_allergens(foods)\\n    return sum(\\n        ingredient not in ingredients_with_allergens\\n        for food in foods\\n        for ingredient in food.ingredients\\n    )\";\n",
       "                var nbb_cells = Jupyter.notebook.get_cells();\n",
       "                for (var i = 0; i < nbb_cells.length; ++i) {\n",
       "                    if (nbb_cells[i].input_prompt_number == nbb_cell_id) {\n",
       "                        if (nbb_cells[i].get_text() == nbb_unformatted_code) {\n",
       "                             nbb_cells[i].set_text(nbb_formatted_code);\n",
       "                        }\n",
       "                        break;\n",
       "                    }\n",
       "                }\n",
       "            }, 500);\n",
       "            "
      ],
      "text/plain": [
       "<IPython.core.display.Javascript object>"
      ]
     },
     "metadata": {},
     "output_type": "display_data"
    }
   ],
   "source": [
    "def count_ingredients_without_allergens(foods: List[Food]) -> int:\n",
    "    ingredients_with_allergens = get_ingredients_with_allergens(foods)\n",
    "    return sum(\n",
    "        ingredient not in ingredients_with_allergens\n",
    "        for food in foods\n",
    "        for ingredient in food.ingredients\n",
    "    )"
   ]
  },
  {
   "cell_type": "code",
   "execution_count": 11,
   "metadata": {},
   "outputs": [
    {
     "data": {
      "application/javascript": [
       "\n",
       "            setTimeout(function() {\n",
       "                var nbb_cell_id = 11;\n",
       "                var nbb_unformatted_code = \"assert count_ingredients_without_allergens(FOODS) == 5\";\n",
       "                var nbb_formatted_code = \"assert count_ingredients_without_allergens(FOODS) == 5\";\n",
       "                var nbb_cells = Jupyter.notebook.get_cells();\n",
       "                for (var i = 0; i < nbb_cells.length; ++i) {\n",
       "                    if (nbb_cells[i].input_prompt_number == nbb_cell_id) {\n",
       "                        if (nbb_cells[i].get_text() == nbb_unformatted_code) {\n",
       "                             nbb_cells[i].set_text(nbb_formatted_code);\n",
       "                        }\n",
       "                        break;\n",
       "                    }\n",
       "                }\n",
       "            }, 500);\n",
       "            "
      ],
      "text/plain": [
       "<IPython.core.display.Javascript object>"
      ]
     },
     "metadata": {},
     "output_type": "display_data"
    }
   ],
   "source": [
    "assert count_ingredients_without_allergens(FOODS) == 5"
   ]
  },
  {
   "cell_type": "code",
   "execution_count": 12,
   "metadata": {},
   "outputs": [
    {
     "data": {
      "text/plain": [
       "1977"
      ]
     },
     "execution_count": 12,
     "metadata": {},
     "output_type": "execute_result"
    },
    {
     "data": {
      "application/javascript": [
       "\n",
       "            setTimeout(function() {\n",
       "                var nbb_cell_id = 12;\n",
       "                var nbb_unformatted_code = \"with open(\\\"../input/day21.txt\\\") as f:\\n    foods = [Food.parse(line.strip()) for line in f]\\ncount_ingredients_without_allergens(foods)\";\n",
       "                var nbb_formatted_code = \"with open(\\\"../input/day21.txt\\\") as f:\\n    foods = [Food.parse(line.strip()) for line in f]\\ncount_ingredients_without_allergens(foods)\";\n",
       "                var nbb_cells = Jupyter.notebook.get_cells();\n",
       "                for (var i = 0; i < nbb_cells.length; ++i) {\n",
       "                    if (nbb_cells[i].input_prompt_number == nbb_cell_id) {\n",
       "                        if (nbb_cells[i].get_text() == nbb_unformatted_code) {\n",
       "                             nbb_cells[i].set_text(nbb_formatted_code);\n",
       "                        }\n",
       "                        break;\n",
       "                    }\n",
       "                }\n",
       "            }, 500);\n",
       "            "
      ],
      "text/plain": [
       "<IPython.core.display.Javascript object>"
      ]
     },
     "metadata": {},
     "output_type": "display_data"
    }
   ],
   "source": [
    "with open(\"../input/day21.txt\") as f:\n",
    "    foods = [Food.parse(line.strip()) for line in f]\n",
    "count_ingredients_without_allergens(foods)"
   ]
  },
  {
   "cell_type": "markdown",
   "metadata": {},
   "source": [
    "## Part Two"
   ]
  },
  {
   "cell_type": "code",
   "execution_count": 19,
   "metadata": {},
   "outputs": [
    {
     "data": {
      "application/javascript": [
       "\n",
       "            setTimeout(function() {\n",
       "                var nbb_cell_id = 19;\n",
       "                var nbb_unformatted_code = \"def get_ingredients_with_allergens2(foods: List[Food]) -> List[str]:\\n    # map each allergen to possible ingredients\\n    candidates: Dict[str, set[str]] = {}\\n    for food in foods:\\n        for allergen in food.allergens:\\n            if allergen in candidates:\\n                candidates[allergen] = candidates[allergen] & set(food.ingredients)\\n            else:\\n                candidates[allergen] = set(food.ingredients)\\n\\n    while True:\\n        uniques = {\\n            allergen: ingredients\\n            for allergen, ingredients in candidates.items()\\n            if len(ingredients) == 1\\n        }\\n        keep_going = False\\n        for allergen, ingredient in uniques.items():\\n            for cand in candidates:\\n                if cand not in uniques:\\n                    candidates[cand] = candidates[cand] - ingredient\\n                    keep_going = True\\n\\n        if not keep_going:\\n            break\\n\\n    return \\\",\\\".join(\\n        next(iter(ingredients)) for allergen, ingredients in sorted(candidates.items())\\n    )\";\n",
       "                var nbb_formatted_code = \"def get_ingredients_with_allergens2(foods: List[Food]) -> List[str]:\\n    # map each allergen to possible ingredients\\n    candidates: Dict[str, set[str]] = {}\\n    for food in foods:\\n        for allergen in food.allergens:\\n            if allergen in candidates:\\n                candidates[allergen] = candidates[allergen] & set(food.ingredients)\\n            else:\\n                candidates[allergen] = set(food.ingredients)\\n\\n    while True:\\n        uniques = {\\n            allergen: ingredients\\n            for allergen, ingredients in candidates.items()\\n            if len(ingredients) == 1\\n        }\\n        keep_going = False\\n        for allergen, ingredient in uniques.items():\\n            for cand in candidates:\\n                if cand not in uniques:\\n                    candidates[cand] = candidates[cand] - ingredient\\n                    keep_going = True\\n\\n        if not keep_going:\\n            break\\n\\n    return \\\",\\\".join(\\n        next(iter(ingredients)) for allergen, ingredients in sorted(candidates.items())\\n    )\";\n",
       "                var nbb_cells = Jupyter.notebook.get_cells();\n",
       "                for (var i = 0; i < nbb_cells.length; ++i) {\n",
       "                    if (nbb_cells[i].input_prompt_number == nbb_cell_id) {\n",
       "                        if (nbb_cells[i].get_text() == nbb_unformatted_code) {\n",
       "                             nbb_cells[i].set_text(nbb_formatted_code);\n",
       "                        }\n",
       "                        break;\n",
       "                    }\n",
       "                }\n",
       "            }, 500);\n",
       "            "
      ],
      "text/plain": [
       "<IPython.core.display.Javascript object>"
      ]
     },
     "metadata": {},
     "output_type": "display_data"
    }
   ],
   "source": [
    "def get_ingredients_with_allergens2(foods: List[Food]) -> List[str]:\n",
    "    # map each allergen to possible ingredients\n",
    "    candidates: Dict[str, set[str]] = {}\n",
    "    for food in foods:\n",
    "        for allergen in food.allergens:\n",
    "            if allergen in candidates:\n",
    "                candidates[allergen] = candidates[allergen] & set(food.ingredients)\n",
    "            else:\n",
    "                candidates[allergen] = set(food.ingredients)\n",
    "\n",
    "    while True:\n",
    "        uniques = {\n",
    "            allergen: ingredients\n",
    "            for allergen, ingredients in candidates.items()\n",
    "            if len(ingredients) == 1\n",
    "        }\n",
    "        keep_going = False\n",
    "        for allergen, ingredient in uniques.items():\n",
    "            for cand in candidates:\n",
    "                if cand not in uniques:\n",
    "                    candidates[cand] = candidates[cand] - ingredient\n",
    "                    keep_going = True\n",
    "\n",
    "        if not keep_going:\n",
    "            break\n",
    "\n",
    "    return \",\".join(\n",
    "        next(iter(ingredients)) for allergen, ingredients in sorted(candidates.items())\n",
    "    )"
   ]
  },
  {
   "cell_type": "code",
   "execution_count": 20,
   "metadata": {},
   "outputs": [
    {
     "data": {
      "application/javascript": [
       "\n",
       "            setTimeout(function() {\n",
       "                var nbb_cell_id = 20;\n",
       "                var nbb_unformatted_code = \"assert get_ingredients_with_allergens2(FOODS) == \\\"mxmxvkd,sqjhc,fvjkl\\\"\";\n",
       "                var nbb_formatted_code = \"assert get_ingredients_with_allergens2(FOODS) == \\\"mxmxvkd,sqjhc,fvjkl\\\"\";\n",
       "                var nbb_cells = Jupyter.notebook.get_cells();\n",
       "                for (var i = 0; i < nbb_cells.length; ++i) {\n",
       "                    if (nbb_cells[i].input_prompt_number == nbb_cell_id) {\n",
       "                        if (nbb_cells[i].get_text() == nbb_unformatted_code) {\n",
       "                             nbb_cells[i].set_text(nbb_formatted_code);\n",
       "                        }\n",
       "                        break;\n",
       "                    }\n",
       "                }\n",
       "            }, 500);\n",
       "            "
      ],
      "text/plain": [
       "<IPython.core.display.Javascript object>"
      ]
     },
     "metadata": {},
     "output_type": "display_data"
    }
   ],
   "source": [
    "assert get_ingredients_with_allergens2(FOODS) == \"mxmxvkd,sqjhc,fvjkl\""
   ]
  },
  {
   "cell_type": "code",
   "execution_count": 21,
   "metadata": {},
   "outputs": [
    {
     "data": {
      "text/plain": [
       "'dpkvsdk,xmmpt,cxjqxbt,drbq,zmzq,mnrjrf,kjgl,rkcpxs'"
      ]
     },
     "execution_count": 21,
     "metadata": {},
     "output_type": "execute_result"
    },
    {
     "data": {
      "application/javascript": [
       "\n",
       "            setTimeout(function() {\n",
       "                var nbb_cell_id = 21;\n",
       "                var nbb_unformatted_code = \"get_ingredients_with_allergens2(foods)\";\n",
       "                var nbb_formatted_code = \"get_ingredients_with_allergens2(foods)\";\n",
       "                var nbb_cells = Jupyter.notebook.get_cells();\n",
       "                for (var i = 0; i < nbb_cells.length; ++i) {\n",
       "                    if (nbb_cells[i].input_prompt_number == nbb_cell_id) {\n",
       "                        if (nbb_cells[i].get_text() == nbb_unformatted_code) {\n",
       "                             nbb_cells[i].set_text(nbb_formatted_code);\n",
       "                        }\n",
       "                        break;\n",
       "                    }\n",
       "                }\n",
       "            }, 500);\n",
       "            "
      ],
      "text/plain": [
       "<IPython.core.display.Javascript object>"
      ]
     },
     "metadata": {},
     "output_type": "display_data"
    }
   ],
   "source": [
    "get_ingredients_with_allergens2(foods)"
   ]
  },
  {
   "cell_type": "code",
   "execution_count": null,
   "metadata": {},
   "outputs": [],
   "source": []
  }
 ],
 "metadata": {
  "kernelspec": {
   "display_name": "Python [conda env:ml] *",
   "language": "python",
   "name": "conda-env-ml-py"
  },
  "language_info": {
   "codemirror_mode": {
    "name": "ipython",
    "version": 3
   },
   "file_extension": ".py",
   "mimetype": "text/x-python",
   "name": "python",
   "nbconvert_exporter": "python",
   "pygments_lexer": "ipython3",
   "version": "3.8.6"
  }
 },
 "nbformat": 4,
 "nbformat_minor": 4
}
