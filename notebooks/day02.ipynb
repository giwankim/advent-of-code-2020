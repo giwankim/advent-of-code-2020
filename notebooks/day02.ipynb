{
 "cells": [
  {
   "cell_type": "code",
   "execution_count": 1,
   "metadata": {},
   "outputs": [
    {
     "data": {
      "application/javascript": [
       "\n",
       "            setTimeout(function() {\n",
       "                var nbb_cell_id = 1;\n",
       "                var nbb_unformatted_code = \"%reload_ext nb_black\";\n",
       "                var nbb_formatted_code = \"%reload_ext nb_black\";\n",
       "                var nbb_cells = Jupyter.notebook.get_cells();\n",
       "                for (var i = 0; i < nbb_cells.length; ++i) {\n",
       "                    if (nbb_cells[i].input_prompt_number == nbb_cell_id) {\n",
       "                        if (nbb_cells[i].get_text() == nbb_unformatted_code) {\n",
       "                             nbb_cells[i].set_text(nbb_formatted_code);\n",
       "                        }\n",
       "                        break;\n",
       "                    }\n",
       "                }\n",
       "            }, 500);\n",
       "            "
      ],
      "text/plain": [
       "<IPython.core.display.Javascript object>"
      ]
     },
     "metadata": {},
     "output_type": "display_data"
    }
   ],
   "source": [
    "%reload_ext nb_black"
   ]
  },
  {
   "cell_type": "code",
   "execution_count": 6,
   "metadata": {},
   "outputs": [
    {
     "data": {
      "application/javascript": [
       "\n",
       "            setTimeout(function() {\n",
       "                var nbb_cell_id = 6;\n",
       "                var nbb_unformatted_code = \"from __future__ import annotations\\nfrom dataclasses import dataclass\\nfrom typing import List, Tuple, NamedTuple\";\n",
       "                var nbb_formatted_code = \"from __future__ import annotations\\nfrom dataclasses import dataclass\\nfrom typing import List, Tuple, NamedTuple\";\n",
       "                var nbb_cells = Jupyter.notebook.get_cells();\n",
       "                for (var i = 0; i < nbb_cells.length; ++i) {\n",
       "                    if (nbb_cells[i].input_prompt_number == nbb_cell_id) {\n",
       "                        if (nbb_cells[i].get_text() == nbb_unformatted_code) {\n",
       "                             nbb_cells[i].set_text(nbb_formatted_code);\n",
       "                        }\n",
       "                        break;\n",
       "                    }\n",
       "                }\n",
       "            }, 500);\n",
       "            "
      ],
      "text/plain": [
       "<IPython.core.display.Javascript object>"
      ]
     },
     "metadata": {},
     "output_type": "display_data"
    }
   ],
   "source": [
    "from __future__ import annotations\n",
    "from dataclasses import dataclass\n",
    "from typing import List, Tuple, NamedTuple"
   ]
  },
  {
   "cell_type": "markdown",
   "metadata": {},
   "source": [
    "## Part One"
   ]
  },
  {
   "cell_type": "code",
   "execution_count": 7,
   "metadata": {},
   "outputs": [
    {
     "data": {
      "application/javascript": [
       "\n",
       "            setTimeout(function() {\n",
       "                var nbb_cell_id = 7;\n",
       "                var nbb_unformatted_code = \"class Password(NamedTuple):\\n    lo: int\\n    hi: int\\n    char: str\\n    password: str\\n\\n    def is_valid(self, part=\\\"one\\\") -> bool:\\n        if part == \\\"one\\\":\\n            return self.lo <= self.password.count(self.char) <= self.hi\\n        elif part == \\\"two\\\":\\n            return (self.password[self.lo - 1] == self.char) ^ (\\n                self.password[self.hi - 1] == self.char\\n            )\\n\\n    @staticmethod\\n    def from_line(line: str) -> Password:\\n        policy, password = line.strip().split(\\\": \\\")\\n        counts, char = policy.split()\\n        lo, hi = map(int, counts.split(\\\"-\\\"))\\n        return Password(lo, hi, char, password)\";\n",
       "                var nbb_formatted_code = \"class Password(NamedTuple):\\n    lo: int\\n    hi: int\\n    char: str\\n    password: str\\n\\n    def is_valid(self, part=\\\"one\\\") -> bool:\\n        if part == \\\"one\\\":\\n            return self.lo <= self.password.count(self.char) <= self.hi\\n        elif part == \\\"two\\\":\\n            return (self.password[self.lo - 1] == self.char) ^ (\\n                self.password[self.hi - 1] == self.char\\n            )\\n\\n    @staticmethod\\n    def from_line(line: str) -> Password:\\n        policy, password = line.strip().split(\\\": \\\")\\n        counts, char = policy.split()\\n        lo, hi = map(int, counts.split(\\\"-\\\"))\\n        return Password(lo, hi, char, password)\";\n",
       "                var nbb_cells = Jupyter.notebook.get_cells();\n",
       "                for (var i = 0; i < nbb_cells.length; ++i) {\n",
       "                    if (nbb_cells[i].input_prompt_number == nbb_cell_id) {\n",
       "                        if (nbb_cells[i].get_text() == nbb_unformatted_code) {\n",
       "                             nbb_cells[i].set_text(nbb_formatted_code);\n",
       "                        }\n",
       "                        break;\n",
       "                    }\n",
       "                }\n",
       "            }, 500);\n",
       "            "
      ],
      "text/plain": [
       "<IPython.core.display.Javascript object>"
      ]
     },
     "metadata": {},
     "output_type": "display_data"
    }
   ],
   "source": [
    "class Password(NamedTuple):\n",
    "    lo: int\n",
    "    hi: int\n",
    "    char: str\n",
    "    password: str\n",
    "\n",
    "    def is_valid(self, part=\"one\") -> bool:\n",
    "        if part == \"one\":\n",
    "            return self.lo <= self.password.count(self.char) <= self.hi\n",
    "        elif part == \"two\":\n",
    "            return (self.password[self.lo - 1] == self.char) ^ (\n",
    "                self.password[self.hi - 1] == self.char\n",
    "            )\n",
    "\n",
    "    @staticmethod\n",
    "    def from_line(line: str) -> Password:\n",
    "        policy, password = line.strip().split(\": \")\n",
    "        counts, char = policy.split()\n",
    "        lo, hi = map(int, counts.split(\"-\"))\n",
    "        return Password(lo, hi, char, password)"
   ]
  },
  {
   "cell_type": "code",
   "execution_count": 8,
   "metadata": {},
   "outputs": [
    {
     "data": {
      "application/javascript": [
       "\n",
       "            setTimeout(function() {\n",
       "                var nbb_cell_id = 8;\n",
       "                var nbb_unformatted_code = \"def count_passwords(passwords: List[Password], part=\\\"one\\\") -> int:\\n    return sum([o.is_valid(part=part) for o in passwords])\";\n",
       "                var nbb_formatted_code = \"def count_passwords(passwords: List[Password], part=\\\"one\\\") -> int:\\n    return sum([o.is_valid(part=part) for o in passwords])\";\n",
       "                var nbb_cells = Jupyter.notebook.get_cells();\n",
       "                for (var i = 0; i < nbb_cells.length; ++i) {\n",
       "                    if (nbb_cells[i].input_prompt_number == nbb_cell_id) {\n",
       "                        if (nbb_cells[i].get_text() == nbb_unformatted_code) {\n",
       "                             nbb_cells[i].set_text(nbb_formatted_code);\n",
       "                        }\n",
       "                        break;\n",
       "                    }\n",
       "                }\n",
       "            }, 500);\n",
       "            "
      ],
      "text/plain": [
       "<IPython.core.display.Javascript object>"
      ]
     },
     "metadata": {},
     "output_type": "display_data"
    }
   ],
   "source": [
    "def count_passwords(passwords: List[Password], part=\"one\") -> int:\n",
    "    return sum([o.is_valid(part=part) for o in passwords])"
   ]
  },
  {
   "cell_type": "code",
   "execution_count": 9,
   "metadata": {},
   "outputs": [
    {
     "data": {
      "text/plain": [
       "2"
      ]
     },
     "execution_count": 9,
     "metadata": {},
     "output_type": "execute_result"
    },
    {
     "data": {
      "application/javascript": [
       "\n",
       "            setTimeout(function() {\n",
       "                var nbb_cell_id = 9;\n",
       "                var nbb_unformatted_code = \"inputs = [\\n    \\\"1-3 a: abcde\\\",\\n    \\\"1-3 b: cdefg\\\",\\n    \\\"2-9 c: ccccccccc\\\",\\n]\\npasswords = [Password.from_line(o) for o in inputs]\\ncount_passwords(passwords)\";\n",
       "                var nbb_formatted_code = \"inputs = [\\n    \\\"1-3 a: abcde\\\",\\n    \\\"1-3 b: cdefg\\\",\\n    \\\"2-9 c: ccccccccc\\\",\\n]\\npasswords = [Password.from_line(o) for o in inputs]\\ncount_passwords(passwords)\";\n",
       "                var nbb_cells = Jupyter.notebook.get_cells();\n",
       "                for (var i = 0; i < nbb_cells.length; ++i) {\n",
       "                    if (nbb_cells[i].input_prompt_number == nbb_cell_id) {\n",
       "                        if (nbb_cells[i].get_text() == nbb_unformatted_code) {\n",
       "                             nbb_cells[i].set_text(nbb_formatted_code);\n",
       "                        }\n",
       "                        break;\n",
       "                    }\n",
       "                }\n",
       "            }, 500);\n",
       "            "
      ],
      "text/plain": [
       "<IPython.core.display.Javascript object>"
      ]
     },
     "metadata": {},
     "output_type": "display_data"
    }
   ],
   "source": [
    "inputs = [\n",
    "    \"1-3 a: abcde\",\n",
    "    \"1-3 b: cdefg\",\n",
    "    \"2-9 c: ccccccccc\",\n",
    "]\n",
    "passwords = [Password.from_line(o) for o in inputs]\n",
    "count_passwords(passwords)"
   ]
  },
  {
   "cell_type": "code",
   "execution_count": 10,
   "metadata": {},
   "outputs": [
    {
     "name": "stdout",
     "output_type": "stream",
     "text": [
      "538\n"
     ]
    },
    {
     "data": {
      "application/javascript": [
       "\n",
       "            setTimeout(function() {\n",
       "                var nbb_cell_id = 10;\n",
       "                var nbb_unformatted_code = \"with open(\\\"../input/day02.txt\\\", \\\"r\\\") as f:\\n    passwords = [Password.from_line(line) for line in f]\\n    print(count_passwords(passwords))\";\n",
       "                var nbb_formatted_code = \"with open(\\\"../input/day02.txt\\\", \\\"r\\\") as f:\\n    passwords = [Password.from_line(line) for line in f]\\n    print(count_passwords(passwords))\";\n",
       "                var nbb_cells = Jupyter.notebook.get_cells();\n",
       "                for (var i = 0; i < nbb_cells.length; ++i) {\n",
       "                    if (nbb_cells[i].input_prompt_number == nbb_cell_id) {\n",
       "                        if (nbb_cells[i].get_text() == nbb_unformatted_code) {\n",
       "                             nbb_cells[i].set_text(nbb_formatted_code);\n",
       "                        }\n",
       "                        break;\n",
       "                    }\n",
       "                }\n",
       "            }, 500);\n",
       "            "
      ],
      "text/plain": [
       "<IPython.core.display.Javascript object>"
      ]
     },
     "metadata": {},
     "output_type": "display_data"
    }
   ],
   "source": [
    "with open(\"../input/day02.txt\", \"r\") as f:\n",
    "    passwords = [Password.from_line(line) for line in f]\n",
    "    print(count_passwords(passwords))"
   ]
  },
  {
   "cell_type": "markdown",
   "metadata": {},
   "source": [
    "## Part Two"
   ]
  },
  {
   "cell_type": "code",
   "execution_count": 11,
   "metadata": {},
   "outputs": [
    {
     "name": "stdout",
     "output_type": "stream",
     "text": [
      "489\n"
     ]
    },
    {
     "data": {
      "application/javascript": [
       "\n",
       "            setTimeout(function() {\n",
       "                var nbb_cell_id = 11;\n",
       "                var nbb_unformatted_code = \"with open(\\\"../input/day02.txt\\\", \\\"r\\\") as f:\\n    passwords = [Password.from_line(line) for line in f]\\n    print(count_passwords(passwords, part=\\\"two\\\"))\";\n",
       "                var nbb_formatted_code = \"with open(\\\"../input/day02.txt\\\", \\\"r\\\") as f:\\n    passwords = [Password.from_line(line) for line in f]\\n    print(count_passwords(passwords, part=\\\"two\\\"))\";\n",
       "                var nbb_cells = Jupyter.notebook.get_cells();\n",
       "                for (var i = 0; i < nbb_cells.length; ++i) {\n",
       "                    if (nbb_cells[i].input_prompt_number == nbb_cell_id) {\n",
       "                        if (nbb_cells[i].get_text() == nbb_unformatted_code) {\n",
       "                             nbb_cells[i].set_text(nbb_formatted_code);\n",
       "                        }\n",
       "                        break;\n",
       "                    }\n",
       "                }\n",
       "            }, 500);\n",
       "            "
      ],
      "text/plain": [
       "<IPython.core.display.Javascript object>"
      ]
     },
     "metadata": {},
     "output_type": "display_data"
    }
   ],
   "source": [
    "with open(\"../input/day02.txt\", \"r\") as f:\n",
    "    passwords = [Password.from_line(line) for line in f]\n",
    "    print(count_passwords(passwords, part=\"two\"))"
   ]
  },
  {
   "cell_type": "code",
   "execution_count": null,
   "metadata": {},
   "outputs": [],
   "source": []
  }
 ],
 "metadata": {
  "kernelspec": {
   "display_name": "Python [conda env:ml] *",
   "language": "python",
   "name": "conda-env-ml-py"
  },
  "language_info": {
   "codemirror_mode": {
    "name": "ipython",
    "version": 3
   },
   "file_extension": ".py",
   "mimetype": "text/x-python",
   "name": "python",
   "nbconvert_exporter": "python",
   "pygments_lexer": "ipython3",
   "version": "3.7.8"
  }
 },
 "nbformat": 4,
 "nbformat_minor": 4
}
