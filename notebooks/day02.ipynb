{
 "cells": [
  {
   "cell_type": "code",
   "execution_count": 1,
   "metadata": {},
   "outputs": [
    {
     "data": {
      "application/javascript": [
       "\n",
       "            setTimeout(function() {\n",
       "                var nbb_cell_id = 1;\n",
       "                var nbb_unformatted_code = \"%reload_ext nb_black\";\n",
       "                var nbb_formatted_code = \"%reload_ext nb_black\";\n",
       "                var nbb_cells = Jupyter.notebook.get_cells();\n",
       "                for (var i = 0; i < nbb_cells.length; ++i) {\n",
       "                    if (nbb_cells[i].input_prompt_number == nbb_cell_id) {\n",
       "                        if (nbb_cells[i].get_text() == nbb_unformatted_code) {\n",
       "                             nbb_cells[i].set_text(nbb_formatted_code);\n",
       "                        }\n",
       "                        break;\n",
       "                    }\n",
       "                }\n",
       "            }, 500);\n",
       "            "
      ],
      "text/plain": [
       "<IPython.core.display.Javascript object>"
      ]
     },
     "metadata": {},
     "output_type": "display_data"
    }
   ],
   "source": [
    "%reload_ext nb_black"
   ]
  },
  {
   "cell_type": "code",
   "execution_count": 1,
   "metadata": {},
   "outputs": [],
   "source": [
    "from __future__ import annotations\n",
    "import re\n",
    "from typing import List, Tuple, NamedTuple"
   ]
  },
  {
   "cell_type": "markdown",
   "metadata": {},
   "source": [
    "## Part One"
   ]
  },
  {
   "cell_type": "code",
   "execution_count": 19,
   "metadata": {},
   "outputs": [],
   "source": [
    "class Password(NamedTuple):\n",
    "    lo: int\n",
    "    hi: int\n",
    "    char: str\n",
    "    password: str\n",
    "    \n",
    "    def is_valid(self) -> bool:\n",
    "        return self.lo <= self.password.count(self.char) <= self.hi\n",
    "    \n",
    "    def is_valid2(self) -> bool:\n",
    "        return (self.password[self.lo - 1] == self.char) ^ (\n",
    "                self.password[self.hi - 1] == self.char\n",
    "            )\n",
    "    \n",
    "    @staticmethod\n",
    "    def from_line(line: str) -> Password:\n",
    "        pat = re.compile(f\"(\\d+)-(\\d+) (\\w): (\\w*)\")\n",
    "        lo, hi, char, password = re.match(pat, line).groups()\n",
    "        lo, hi = map(int, (lo, hi))\n",
    "        return Password(lo, hi, char, password)"
   ]
  },
  {
   "cell_type": "code",
   "execution_count": 21,
   "metadata": {},
   "outputs": [],
   "source": [
    "def count_passwords(passwords: List[Password]) -> int:\n",
    "    return sum([o.is_valid() for o in passwords])"
   ]
  },
  {
   "cell_type": "code",
   "execution_count": 22,
   "metadata": {},
   "outputs": [
    {
     "data": {
      "text/plain": [
       "2"
      ]
     },
     "execution_count": 22,
     "metadata": {},
     "output_type": "execute_result"
    }
   ],
   "source": [
    "inputs = [\n",
    "    \"1-3 a: abcde\",\n",
    "    \"1-3 b: cdefg\",\n",
    "    \"2-9 c: ccccccccc\",\n",
    "]\n",
    "passwords = [Password.from_line(o) for o in inputs]\n",
    "count_passwords(passwords)"
   ]
  },
  {
   "cell_type": "code",
   "execution_count": 23,
   "metadata": {},
   "outputs": [
    {
     "name": "stdout",
     "output_type": "stream",
     "text": [
      "538\n"
     ]
    }
   ],
   "source": [
    "with open(\"../input/day02.txt\", \"r\") as f:\n",
    "    passwords = [Password.from_line(line) for line in f]\n",
    "    print(count_passwords(passwords))"
   ]
  },
  {
   "cell_type": "markdown",
   "metadata": {},
   "source": [
    "## Part Two"
   ]
  },
  {
   "cell_type": "code",
   "execution_count": 29,
   "metadata": {},
   "outputs": [],
   "source": [
    "def count_passwords2(passwords: List[Password]) -> int:\n",
    "    return sum([p.is_valid2() for p in passwords])"
   ]
  },
  {
   "cell_type": "code",
   "execution_count": 30,
   "metadata": {},
   "outputs": [
    {
     "name": "stdout",
     "output_type": "stream",
     "text": [
      "489\n"
     ]
    }
   ],
   "source": [
    "with open(\"../input/day02.txt\", \"r\") as f:\n",
    "    passwords = [Password.from_line(line) for line in f]\n",
    "    print(count_passwords2(passwords))"
   ]
  },
  {
   "cell_type": "code",
   "execution_count": null,
   "metadata": {},
   "outputs": [],
   "source": []
  }
 ],
 "metadata": {
  "kernelspec": {
   "display_name": "Python [conda env:ml]",
   "language": "python",
   "name": "conda-env-ml-py"
  },
  "language_info": {
   "codemirror_mode": {
    "name": "ipython",
    "version": 3
   },
   "file_extension": ".py",
   "mimetype": "text/x-python",
   "name": "python",
   "nbconvert_exporter": "python",
   "pygments_lexer": "ipython3",
   "version": "3.7.8"
  }
 },
 "nbformat": 4,
 "nbformat_minor": 4
}
