{
 "cells": [
  {
   "cell_type": "code",
   "execution_count": 1,
   "metadata": {},
   "outputs": [
    {
     "data": {
      "application/javascript": [
       "\n",
       "            setTimeout(function() {\n",
       "                var nbb_cell_id = 1;\n",
       "                var nbb_unformatted_code = \"%reload_ext nb_black\";\n",
       "                var nbb_formatted_code = \"%reload_ext nb_black\";\n",
       "                var nbb_cells = Jupyter.notebook.get_cells();\n",
       "                for (var i = 0; i < nbb_cells.length; ++i) {\n",
       "                    if (nbb_cells[i].input_prompt_number == nbb_cell_id) {\n",
       "                        if (nbb_cells[i].get_text() == nbb_unformatted_code) {\n",
       "                             nbb_cells[i].set_text(nbb_formatted_code);\n",
       "                        }\n",
       "                        break;\n",
       "                    }\n",
       "                }\n",
       "            }, 500);\n",
       "            "
      ],
      "text/plain": [
       "<IPython.core.display.Javascript object>"
      ]
     },
     "metadata": {},
     "output_type": "display_data"
    }
   ],
   "source": [
    "%reload_ext nb_black"
   ]
  },
  {
   "cell_type": "markdown",
   "metadata": {},
   "source": [
    "# Day 14"
   ]
  },
  {
   "cell_type": "code",
   "execution_count": 136,
   "metadata": {},
   "outputs": [
    {
     "data": {
      "application/javascript": [
       "\n",
       "            setTimeout(function() {\n",
       "                var nbb_cell_id = 136;\n",
       "                var nbb_unformatted_code = \"from __future__ import annotations\\nfrom typing import Dict, List, Set, NamedTuple\\nimport re\\nimport itertools\\nfrom dataclasses import dataclass\";\n",
       "                var nbb_formatted_code = \"from __future__ import annotations\\nfrom typing import Dict, List, Set, NamedTuple\\nimport re\\nimport itertools\\nfrom dataclasses import dataclass\";\n",
       "                var nbb_cells = Jupyter.notebook.get_cells();\n",
       "                for (var i = 0; i < nbb_cells.length; ++i) {\n",
       "                    if (nbb_cells[i].input_prompt_number == nbb_cell_id) {\n",
       "                        if (nbb_cells[i].get_text() == nbb_unformatted_code) {\n",
       "                             nbb_cells[i].set_text(nbb_formatted_code);\n",
       "                        }\n",
       "                        break;\n",
       "                    }\n",
       "                }\n",
       "            }, 500);\n",
       "            "
      ],
      "text/plain": [
       "<IPython.core.display.Javascript object>"
      ]
     },
     "metadata": {},
     "output_type": "display_data"
    }
   ],
   "source": [
    "from __future__ import annotations\n",
    "from typing import Dict, List, Set, NamedTuple\n",
    "import re\n",
    "import itertools\n",
    "from dataclasses import dataclass"
   ]
  },
  {
   "cell_type": "markdown",
   "metadata": {},
   "source": [
    "## Part One"
   ]
  },
  {
   "cell_type": "code",
   "execution_count": 117,
   "metadata": {},
   "outputs": [
    {
     "data": {
      "application/javascript": [
       "\n",
       "            setTimeout(function() {\n",
       "                var nbb_cell_id = 117;\n",
       "                var nbb_unformatted_code = \"@dataclass\\nclass Memory:\\n    mask: str\\n    mem: Dict[int, int]\\n\\n    def sum(self: Memory) -> int:\\n        return sum(self.mem.values())\\n\\n    def update_mask(self, mask: str) -> None:\\n        self.mask = mask\\n\\n    def set_mem(self: Memory, key: int, value: int) -> None:\\n        value = list(f\\\"{value:b}\\\".rjust(36, \\\"0\\\"))\\n        for i, c in enumerate(self.mask):\\n            if c == \\\"1\\\":\\n                value[i] = \\\"1\\\"\\n            elif c == \\\"0\\\":\\n                value[i] = \\\"0\\\"\\n        value = \\\"\\\".join(value)\\n        value = int(value, 2)\\n        self.mem[key] = value\";\n",
       "                var nbb_formatted_code = \"@dataclass\\nclass Memory:\\n    mask: str\\n    mem: Dict[int, int]\\n\\n    def sum(self: Memory) -> int:\\n        return sum(self.mem.values())\\n\\n    def update_mask(self, mask: str) -> None:\\n        self.mask = mask\\n\\n    def set_mem(self: Memory, key: int, value: int) -> None:\\n        value = list(f\\\"{value:b}\\\".rjust(36, \\\"0\\\"))\\n        for i, c in enumerate(self.mask):\\n            if c == \\\"1\\\":\\n                value[i] = \\\"1\\\"\\n            elif c == \\\"0\\\":\\n                value[i] = \\\"0\\\"\\n        value = \\\"\\\".join(value)\\n        value = int(value, 2)\\n        self.mem[key] = value\";\n",
       "                var nbb_cells = Jupyter.notebook.get_cells();\n",
       "                for (var i = 0; i < nbb_cells.length; ++i) {\n",
       "                    if (nbb_cells[i].input_prompt_number == nbb_cell_id) {\n",
       "                        if (nbb_cells[i].get_text() == nbb_unformatted_code) {\n",
       "                             nbb_cells[i].set_text(nbb_formatted_code);\n",
       "                        }\n",
       "                        break;\n",
       "                    }\n",
       "                }\n",
       "            }, 500);\n",
       "            "
      ],
      "text/plain": [
       "<IPython.core.display.Javascript object>"
      ]
     },
     "metadata": {},
     "output_type": "display_data"
    }
   ],
   "source": [
    "@dataclass\n",
    "class Memory:\n",
    "    mask: str\n",
    "    mem: Dict[int, int]\n",
    "\n",
    "    def sum(self: Memory) -> int:\n",
    "        return sum(self.mem.values())\n",
    "\n",
    "    def update_mask(self, mask: str) -> None:\n",
    "        self.mask = mask\n",
    "\n",
    "    def set_mem(self: Memory, key: int, value: int) -> None:\n",
    "        value = list(f\"{value:b}\".rjust(36, \"0\"))\n",
    "        for i, c in enumerate(self.mask):\n",
    "            if c == \"1\":\n",
    "                value[i] = \"1\"\n",
    "            elif c == \"0\":\n",
    "                value[i] = \"0\"\n",
    "        value = \"\".join(value)\n",
    "        value = int(value, 2)\n",
    "        self.mem[key] = value"
   ]
  },
  {
   "cell_type": "code",
   "execution_count": 123,
   "metadata": {},
   "outputs": [
    {
     "data": {
      "application/javascript": [
       "\n",
       "            setTimeout(function() {\n",
       "                var nbb_cell_id = 123;\n",
       "                var nbb_unformatted_code = \"def run(program: List[str]) -> int:\\n    mask_pat = re.compile(r\\\"mask = ([0X1]*)\\\")\\n    kv_pat = re.compile(r\\\"mem\\\\[(\\\\d+)\\\\] = (\\\\d+)\\\")\\n    \\n    memory = Memory(\\\"\\\", {})\\n    \\n    for line in program:\\n        if line.startswith(\\\"mask\\\"):\\n            m = mask_pat.search(line)\\n            mask = m.group(1)\\n            memory.update_mask(mask)\\n        elif line.startswith(\\\"mem\\\"):\\n            m = kv_pat.search(line)\\n            key, value = m.groups()\\n            key, value = int(key), int(value)\\n            memory.set_mem(key, value)\\n    return memory.sum()\";\n",
       "                var nbb_formatted_code = \"def run(program: List[str]) -> int:\\n    mask_pat = re.compile(r\\\"mask = ([0X1]*)\\\")\\n    kv_pat = re.compile(r\\\"mem\\\\[(\\\\d+)\\\\] = (\\\\d+)\\\")\\n\\n    memory = Memory(\\\"\\\", {})\\n\\n    for line in program:\\n        if line.startswith(\\\"mask\\\"):\\n            m = mask_pat.search(line)\\n            mask = m.group(1)\\n            memory.update_mask(mask)\\n        elif line.startswith(\\\"mem\\\"):\\n            m = kv_pat.search(line)\\n            key, value = m.groups()\\n            key, value = int(key), int(value)\\n            memory.set_mem(key, value)\\n    return memory.sum()\";\n",
       "                var nbb_cells = Jupyter.notebook.get_cells();\n",
       "                for (var i = 0; i < nbb_cells.length; ++i) {\n",
       "                    if (nbb_cells[i].input_prompt_number == nbb_cell_id) {\n",
       "                        if (nbb_cells[i].get_text() == nbb_unformatted_code) {\n",
       "                             nbb_cells[i].set_text(nbb_formatted_code);\n",
       "                        }\n",
       "                        break;\n",
       "                    }\n",
       "                }\n",
       "            }, 500);\n",
       "            "
      ],
      "text/plain": [
       "<IPython.core.display.Javascript object>"
      ]
     },
     "metadata": {},
     "output_type": "display_data"
    }
   ],
   "source": [
    "def run(program: List[str]) -> int:\n",
    "    mask_pat = re.compile(r\"mask = ([0X1]*)\")\n",
    "    kv_pat = re.compile(r\"mem\\[(\\d+)\\] = (\\d+)\")\n",
    "\n",
    "    memory = Memory(\"\", {})\n",
    "\n",
    "    for line in program:\n",
    "        if line.startswith(\"mask\"):\n",
    "            m = mask_pat.search(line)\n",
    "            mask = m.group(1)\n",
    "            memory.update_mask(mask)\n",
    "        elif line.startswith(\"mem\"):\n",
    "            m = kv_pat.search(line)\n",
    "            key, value = m.groups()\n",
    "            key, value = int(key), int(value)\n",
    "            memory.set_mem(key, value)\n",
    "    return memory.sum()"
   ]
  },
  {
   "cell_type": "code",
   "execution_count": 118,
   "metadata": {},
   "outputs": [
    {
     "data": {
      "application/javascript": [
       "\n",
       "            setTimeout(function() {\n",
       "                var nbb_cell_id = 118;\n",
       "                var nbb_unformatted_code = \"RAW = \\\"\\\"\\\"\\nmask = XXXXXXXXXXXXXXXXXXXXXXXXXXXXX1XXXX0X\\nmem[8] = 11\\nmem[7] = 101\\nmem[8] = 0\\n\\\"\\\"\\\"\";\n",
       "                var nbb_formatted_code = \"RAW = \\\"\\\"\\\"\\nmask = XXXXXXXXXXXXXXXXXXXXXXXXXXXXX1XXXX0X\\nmem[8] = 11\\nmem[7] = 101\\nmem[8] = 0\\n\\\"\\\"\\\"\";\n",
       "                var nbb_cells = Jupyter.notebook.get_cells();\n",
       "                for (var i = 0; i < nbb_cells.length; ++i) {\n",
       "                    if (nbb_cells[i].input_prompt_number == nbb_cell_id) {\n",
       "                        if (nbb_cells[i].get_text() == nbb_unformatted_code) {\n",
       "                             nbb_cells[i].set_text(nbb_formatted_code);\n",
       "                        }\n",
       "                        break;\n",
       "                    }\n",
       "                }\n",
       "            }, 500);\n",
       "            "
      ],
      "text/plain": [
       "<IPython.core.display.Javascript object>"
      ]
     },
     "metadata": {},
     "output_type": "display_data"
    }
   ],
   "source": [
    "RAW = \"\"\"mask = XXXXXXXXXXXXXXXXXXXXXXXXXXXXX1XXXX0X\n",
    "mem[8] = 11\n",
    "mem[7] = 101\n",
    "mem[8] = 0\"\"\""
   ]
  },
  {
   "cell_type": "code",
   "execution_count": 124,
   "metadata": {},
   "outputs": [
    {
     "data": {
      "text/plain": [
       "['mask = XXXXXXXXXXXXXXXXXXXXXXXXXXXXX1XXXX0X',\n",
       " 'mem[8] = 11',\n",
       " 'mem[7] = 101',\n",
       " 'mem[8] = 0']"
      ]
     },
     "execution_count": 124,
     "metadata": {},
     "output_type": "execute_result"
    },
    {
     "data": {
      "application/javascript": [
       "\n",
       "            setTimeout(function() {\n",
       "                var nbb_cell_id = 124;\n",
       "                var nbb_unformatted_code = \"raw = RAW.strip()\\nprogram = raw.split(\\\"\\\\n\\\")\\nprogram\";\n",
       "                var nbb_formatted_code = \"raw = RAW.strip()\\nprogram = raw.split(\\\"\\\\n\\\")\\nprogram\";\n",
       "                var nbb_cells = Jupyter.notebook.get_cells();\n",
       "                for (var i = 0; i < nbb_cells.length; ++i) {\n",
       "                    if (nbb_cells[i].input_prompt_number == nbb_cell_id) {\n",
       "                        if (nbb_cells[i].get_text() == nbb_unformatted_code) {\n",
       "                             nbb_cells[i].set_text(nbb_formatted_code);\n",
       "                        }\n",
       "                        break;\n",
       "                    }\n",
       "                }\n",
       "            }, 500);\n",
       "            "
      ],
      "text/plain": [
       "<IPython.core.display.Javascript object>"
      ]
     },
     "metadata": {},
     "output_type": "display_data"
    }
   ],
   "source": [
    "raw = RAW.strip()\n",
    "program = raw.split(\"\\n\")\n",
    "assert run(program) == 165"
   ]
  },
  {
   "cell_type": "code",
   "execution_count": 126,
   "metadata": {},
   "outputs": [
    {
     "data": {
      "text/plain": [
       "13727901897109"
      ]
     },
     "execution_count": 126,
     "metadata": {},
     "output_type": "execute_result"
    },
    {
     "data": {
      "application/javascript": [
       "\n",
       "            setTimeout(function() {\n",
       "                var nbb_cell_id = 126;\n",
       "                var nbb_unformatted_code = \"with open(\\\"../input/day14.txt\\\") as f:\\n    program = [line.strip() for line in f]\\nrun(program)\";\n",
       "                var nbb_formatted_code = \"with open(\\\"../input/day14.txt\\\") as f:\\n    program = [line.strip() for line in f]\\nrun(program)\";\n",
       "                var nbb_cells = Jupyter.notebook.get_cells();\n",
       "                for (var i = 0; i < nbb_cells.length; ++i) {\n",
       "                    if (nbb_cells[i].input_prompt_number == nbb_cell_id) {\n",
       "                        if (nbb_cells[i].get_text() == nbb_unformatted_code) {\n",
       "                             nbb_cells[i].set_text(nbb_formatted_code);\n",
       "                        }\n",
       "                        break;\n",
       "                    }\n",
       "                }\n",
       "            }, 500);\n",
       "            "
      ],
      "text/plain": [
       "<IPython.core.display.Javascript object>"
      ]
     },
     "metadata": {},
     "output_type": "display_data"
    }
   ],
   "source": [
    "with open(\"../input/day14.txt\") as f:\n",
    "    program = [line.strip() for line in f]\n",
    "run(program)"
   ]
  },
  {
   "cell_type": "markdown",
   "metadata": {},
   "source": [
    "## Part Two"
   ]
  },
  {
   "cell_type": "code",
   "execution_count": 173,
   "metadata": {},
   "outputs": [
    {
     "data": {
      "application/javascript": [
       "\n",
       "            setTimeout(function() {\n",
       "                var nbb_cell_id = 173;\n",
       "                var nbb_unformatted_code = \"@dataclass\\nclass Memory2:\\n    mask: str\\n    mem: Dict[int, int]\\n\\n    def sum_all(self: Memory2) -> int:\\n        return sum(self.mem.values())\\n\\n    def update_mask(self: Memory2, mask: str) -> None:\\n        self.mask = mask\\n\\n    def set_memory(self: Memory2, key: int, value: int) -> None:\\n        x_pos = []\\n        key = f\\\"{key:b}\\\".rjust(36, \\\"0\\\")\\n        key = list(key)\\n        for i, c in enumerate(self.mask):\\n            if c == \\\"X\\\":\\n                x_pos.append(i)\\n            elif c == \\\"0\\\":\\n                pass\\n            elif c == \\\"1\\\":\\n                key[i] = \\\"1\\\"\\n\\n        for comb in itertools.product(\\\"01\\\", repeat=len(x_pos)):\\n            for i, x in enumerate(x_pos):\\n                key[x] = comb[i]\\n            kval = \\\"\\\".join(key)\\n            kval = int(kval, 2)\\n            self.mem[kval] = value\";\n",
       "                var nbb_formatted_code = \"@dataclass\\nclass Memory2:\\n    mask: str\\n    mem: Dict[int, int]\\n\\n    def sum_all(self: Memory2) -> int:\\n        return sum(self.mem.values())\\n\\n    def update_mask(self: Memory2, mask: str) -> None:\\n        self.mask = mask\\n\\n    def set_memory(self: Memory2, key: int, value: int) -> None:\\n        x_pos = []\\n        key = f\\\"{key:b}\\\".rjust(36, \\\"0\\\")\\n        key = list(key)\\n        for i, c in enumerate(self.mask):\\n            if c == \\\"X\\\":\\n                x_pos.append(i)\\n            elif c == \\\"0\\\":\\n                pass\\n            elif c == \\\"1\\\":\\n                key[i] = \\\"1\\\"\\n\\n        for comb in itertools.product(\\\"01\\\", repeat=len(x_pos)):\\n            for i, x in enumerate(x_pos):\\n                key[x] = comb[i]\\n            kval = \\\"\\\".join(key)\\n            kval = int(kval, 2)\\n            self.mem[kval] = value\";\n",
       "                var nbb_cells = Jupyter.notebook.get_cells();\n",
       "                for (var i = 0; i < nbb_cells.length; ++i) {\n",
       "                    if (nbb_cells[i].input_prompt_number == nbb_cell_id) {\n",
       "                        if (nbb_cells[i].get_text() == nbb_unformatted_code) {\n",
       "                             nbb_cells[i].set_text(nbb_formatted_code);\n",
       "                        }\n",
       "                        break;\n",
       "                    }\n",
       "                }\n",
       "            }, 500);\n",
       "            "
      ],
      "text/plain": [
       "<IPython.core.display.Javascript object>"
      ]
     },
     "metadata": {},
     "output_type": "display_data"
    }
   ],
   "source": [
    "@dataclass\n",
    "class Memory2:\n",
    "    mask: str\n",
    "    mem: Dict[int, int]\n",
    "\n",
    "    def sum_all(self: Memory2) -> int:\n",
    "        return sum(self.mem.values())\n",
    "\n",
    "    def update_mask(self: Memory2, mask: str) -> None:\n",
    "        self.mask = mask\n",
    "\n",
    "    def set_memory(self: Memory2, key: int, value: int) -> None:\n",
    "        x_pos = []\n",
    "        key = f\"{key:b}\".rjust(36, \"0\")\n",
    "        key = list(key)\n",
    "        for i, c in enumerate(self.mask):\n",
    "            if c == \"X\":\n",
    "                x_pos.append(i)\n",
    "            elif c == \"0\":\n",
    "                pass\n",
    "            elif c == \"1\":\n",
    "                key[i] = \"1\"\n",
    "\n",
    "        for comb in itertools.product(\"01\", repeat=len(x_pos)):\n",
    "            for i, x in enumerate(x_pos):\n",
    "                key[x] = comb[i]\n",
    "            kval = \"\".join(key)\n",
    "            kval = int(kval, 2)\n",
    "            self.mem[kval] = value"
   ]
  },
  {
   "cell_type": "code",
   "execution_count": 174,
   "metadata": {},
   "outputs": [
    {
     "data": {
      "application/javascript": [
       "\n",
       "            setTimeout(function() {\n",
       "                var nbb_cell_id = 174;\n",
       "                var nbb_unformatted_code = \"def run2(program: List[str]) -> int:\\n    mask_pat = re.compile(r\\\"mask = ([0X1]*)\\\")\\n    kv_pat = re.compile(r\\\"mem\\\\[(\\\\d+)\\\\] = (\\\\d+)\\\")\\n\\n    memory = Memory2(\\\"\\\", {})\\n\\n    for line in program:\\n        if line.startswith(\\\"mask\\\"):\\n            m = mask_pat.search(line)\\n            mask = m.group(1)\\n            memory.update_mask(mask)\\n        elif line.startswith(\\\"mem\\\"):\\n            m = kv_pat.search(line)\\n            key, value = m.groups()\\n            key, value = int(key), int(value)\\n            memory.set_memory(key, value)\\n\\n    return memory.sum_all()\";\n",
       "                var nbb_formatted_code = \"def run2(program: List[str]) -> int:\\n    mask_pat = re.compile(r\\\"mask = ([0X1]*)\\\")\\n    kv_pat = re.compile(r\\\"mem\\\\[(\\\\d+)\\\\] = (\\\\d+)\\\")\\n\\n    memory = Memory2(\\\"\\\", {})\\n\\n    for line in program:\\n        if line.startswith(\\\"mask\\\"):\\n            m = mask_pat.search(line)\\n            mask = m.group(1)\\n            memory.update_mask(mask)\\n        elif line.startswith(\\\"mem\\\"):\\n            m = kv_pat.search(line)\\n            key, value = m.groups()\\n            key, value = int(key), int(value)\\n            memory.set_memory(key, value)\\n\\n    return memory.sum_all()\";\n",
       "                var nbb_cells = Jupyter.notebook.get_cells();\n",
       "                for (var i = 0; i < nbb_cells.length; ++i) {\n",
       "                    if (nbb_cells[i].input_prompt_number == nbb_cell_id) {\n",
       "                        if (nbb_cells[i].get_text() == nbb_unformatted_code) {\n",
       "                             nbb_cells[i].set_text(nbb_formatted_code);\n",
       "                        }\n",
       "                        break;\n",
       "                    }\n",
       "                }\n",
       "            }, 500);\n",
       "            "
      ],
      "text/plain": [
       "<IPython.core.display.Javascript object>"
      ]
     },
     "metadata": {},
     "output_type": "display_data"
    }
   ],
   "source": [
    "def run2(program: List[str]) -> int:\n",
    "    mask_pat = re.compile(r\"mask = ([0X1]*)\")\n",
    "    kv_pat = re.compile(r\"mem\\[(\\d+)\\] = (\\d+)\")\n",
    "\n",
    "    memory = Memory2(\"\", {})\n",
    "\n",
    "    for line in program:\n",
    "        if line.startswith(\"mask\"):\n",
    "            m = mask_pat.search(line)\n",
    "            mask = m.group(1)\n",
    "            memory.update_mask(mask)\n",
    "        elif line.startswith(\"mem\"):\n",
    "            m = kv_pat.search(line)\n",
    "            key, value = m.groups()\n",
    "            key, value = int(key), int(value)\n",
    "            memory.set_memory(key, value)\n",
    "\n",
    "    return memory.sum_all()"
   ]
  },
  {
   "cell_type": "code",
   "execution_count": 177,
   "metadata": {},
   "outputs": [
    {
     "data": {
      "application/javascript": [
       "\n",
       "            setTimeout(function() {\n",
       "                var nbb_cell_id = 177;\n",
       "                var nbb_unformatted_code = \"RAW2 = \\\"\\\"\\\"mask = 000000000000000000000000000000X1001X\\nmem[42] = 100\\nmask = 00000000000000000000000000000000X0XX\\nmem[26] = 1\\\"\\\"\\\"\";\n",
       "                var nbb_formatted_code = \"RAW2 = \\\"\\\"\\\"mask = 000000000000000000000000000000X1001X\\nmem[42] = 100\\nmask = 00000000000000000000000000000000X0XX\\nmem[26] = 1\\\"\\\"\\\"\";\n",
       "                var nbb_cells = Jupyter.notebook.get_cells();\n",
       "                for (var i = 0; i < nbb_cells.length; ++i) {\n",
       "                    if (nbb_cells[i].input_prompt_number == nbb_cell_id) {\n",
       "                        if (nbb_cells[i].get_text() == nbb_unformatted_code) {\n",
       "                             nbb_cells[i].set_text(nbb_formatted_code);\n",
       "                        }\n",
       "                        break;\n",
       "                    }\n",
       "                }\n",
       "            }, 500);\n",
       "            "
      ],
      "text/plain": [
       "<IPython.core.display.Javascript object>"
      ]
     },
     "metadata": {},
     "output_type": "display_data"
    }
   ],
   "source": [
    "RAW2 = \"\"\"mask = 000000000000000000000000000000X1001X\n",
    "mem[42] = 100\n",
    "mask = 00000000000000000000000000000000X0XX\n",
    "mem[26] = 1\"\"\""
   ]
  },
  {
   "cell_type": "code",
   "execution_count": 178,
   "metadata": {},
   "outputs": [
    {
     "data": {
      "application/javascript": [
       "\n",
       "            setTimeout(function() {\n",
       "                var nbb_cell_id = 178;\n",
       "                var nbb_unformatted_code = \"program = RAW2.strip().split(\\\"\\\\n\\\")\\nassert run2(program) == 208\";\n",
       "                var nbb_formatted_code = \"program = RAW2.strip().split(\\\"\\\\n\\\")\\nassert run2(program) == 208\";\n",
       "                var nbb_cells = Jupyter.notebook.get_cells();\n",
       "                for (var i = 0; i < nbb_cells.length; ++i) {\n",
       "                    if (nbb_cells[i].input_prompt_number == nbb_cell_id) {\n",
       "                        if (nbb_cells[i].get_text() == nbb_unformatted_code) {\n",
       "                             nbb_cells[i].set_text(nbb_formatted_code);\n",
       "                        }\n",
       "                        break;\n",
       "                    }\n",
       "                }\n",
       "            }, 500);\n",
       "            "
      ],
      "text/plain": [
       "<IPython.core.display.Javascript object>"
      ]
     },
     "metadata": {},
     "output_type": "display_data"
    }
   ],
   "source": [
    "program = RAW2.strip().split(\"\\n\")\n",
    "assert run2(program) == 208"
   ]
  },
  {
   "cell_type": "code",
   "execution_count": 179,
   "metadata": {},
   "outputs": [
    {
     "data": {
      "text/plain": [
       "5579916171823"
      ]
     },
     "execution_count": 179,
     "metadata": {},
     "output_type": "execute_result"
    },
    {
     "data": {
      "application/javascript": [
       "\n",
       "            setTimeout(function() {\n",
       "                var nbb_cell_id = 179;\n",
       "                var nbb_unformatted_code = \"with open(\\\"../input/day14.txt\\\") as f:\\n    program = [line.strip() for line in f]\\nrun2(program)\";\n",
       "                var nbb_formatted_code = \"with open(\\\"../input/day14.txt\\\") as f:\\n    program = [line.strip() for line in f]\\nrun2(program)\";\n",
       "                var nbb_cells = Jupyter.notebook.get_cells();\n",
       "                for (var i = 0; i < nbb_cells.length; ++i) {\n",
       "                    if (nbb_cells[i].input_prompt_number == nbb_cell_id) {\n",
       "                        if (nbb_cells[i].get_text() == nbb_unformatted_code) {\n",
       "                             nbb_cells[i].set_text(nbb_formatted_code);\n",
       "                        }\n",
       "                        break;\n",
       "                    }\n",
       "                }\n",
       "            }, 500);\n",
       "            "
      ],
      "text/plain": [
       "<IPython.core.display.Javascript object>"
      ]
     },
     "metadata": {},
     "output_type": "display_data"
    }
   ],
   "source": [
    "with open(\"../input/day14.txt\") as f:\n",
    "    program = [line.strip() for line in f]\n",
    "run2(program)"
   ]
  },
  {
   "cell_type": "code",
   "execution_count": null,
   "metadata": {},
   "outputs": [],
   "source": []
  }
 ],
 "metadata": {
  "kernelspec": {
   "display_name": "Python [conda env:ml] *",
   "language": "python",
   "name": "conda-env-ml-py"
  },
  "language_info": {
   "codemirror_mode": {
    "name": "ipython",
    "version": 3
   },
   "file_extension": ".py",
   "mimetype": "text/x-python",
   "name": "python",
   "nbconvert_exporter": "python",
   "pygments_lexer": "ipython3",
   "version": "3.8.6"
  }
 },
 "nbformat": 4,
 "nbformat_minor": 4
}
