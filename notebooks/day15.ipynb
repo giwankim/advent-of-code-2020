{
 "cells": [
  {
   "cell_type": "code",
   "execution_count": 1,
   "metadata": {},
   "outputs": [
    {
     "data": {
      "application/javascript": [
       "\n",
       "            setTimeout(function() {\n",
       "                var nbb_cell_id = 1;\n",
       "                var nbb_unformatted_code = \"%reload_ext nb_black\";\n",
       "                var nbb_formatted_code = \"%reload_ext nb_black\";\n",
       "                var nbb_cells = Jupyter.notebook.get_cells();\n",
       "                for (var i = 0; i < nbb_cells.length; ++i) {\n",
       "                    if (nbb_cells[i].input_prompt_number == nbb_cell_id) {\n",
       "                        if (nbb_cells[i].get_text() == nbb_unformatted_code) {\n",
       "                             nbb_cells[i].set_text(nbb_formatted_code);\n",
       "                        }\n",
       "                        break;\n",
       "                    }\n",
       "                }\n",
       "            }, 500);\n",
       "            "
      ],
      "text/plain": [
       "<IPython.core.display.Javascript object>"
      ]
     },
     "metadata": {},
     "output_type": "display_data"
    }
   ],
   "source": [
    "%reload_ext nb_black"
   ]
  },
  {
   "cell_type": "markdown",
   "metadata": {},
   "source": [
    "# Day 15"
   ]
  },
  {
   "cell_type": "code",
   "execution_count": 2,
   "metadata": {},
   "outputs": [
    {
     "data": {
      "application/javascript": [
       "\n",
       "            setTimeout(function() {\n",
       "                var nbb_cell_id = 2;\n",
       "                var nbb_unformatted_code = \"from typing import Dict, List, NamedTuple, Iterator\\nfrom collections import defaultdict\";\n",
       "                var nbb_formatted_code = \"from typing import Dict, List, NamedTuple, Iterator\\nfrom collections import defaultdict\";\n",
       "                var nbb_cells = Jupyter.notebook.get_cells();\n",
       "                for (var i = 0; i < nbb_cells.length; ++i) {\n",
       "                    if (nbb_cells[i].input_prompt_number == nbb_cell_id) {\n",
       "                        if (nbb_cells[i].get_text() == nbb_unformatted_code) {\n",
       "                             nbb_cells[i].set_text(nbb_formatted_code);\n",
       "                        }\n",
       "                        break;\n",
       "                    }\n",
       "                }\n",
       "            }, 500);\n",
       "            "
      ],
      "text/plain": [
       "<IPython.core.display.Javascript object>"
      ]
     },
     "metadata": {},
     "output_type": "display_data"
    }
   ],
   "source": [
    "from typing import Dict, List, NamedTuple, Iterator\n",
    "from collections import defaultdict"
   ]
  },
  {
   "cell_type": "markdown",
   "metadata": {},
   "source": [
    "## Part One"
   ]
  },
  {
   "cell_type": "code",
   "execution_count": 20,
   "metadata": {},
   "outputs": [
    {
     "data": {
      "application/javascript": [
       "\n",
       "            setTimeout(function() {\n",
       "                var nbb_cell_id = 20;\n",
       "                var nbb_unformatted_code = \"def play(numbers: List[int]) -> Iterator[int]:\\n    cache = {}\\n    i = 1\\n    gap = None\\n    for x in numbers:\\n        yield x\\n        gap = i - cache.get(x, i)\\n        cache[x] = i\\n        i += 1\\n\\n    while True:\\n        last = {gap: i}\\n        yield gap\\n        gap = i - cache.get(gap, i)\\n        cache.update(last)\\n        i += 1\";\n",
       "                var nbb_formatted_code = \"def play(numbers: List[int]) -> Iterator[int]:\\n    cache = {}\\n    i = 1\\n    gap = None\\n    for x in numbers:\\n        yield x\\n        gap = i - cache.get(x, i)\\n        cache[x] = i\\n        i += 1\\n\\n    while True:\\n        last = {gap: i}\\n        yield gap\\n        gap = i - cache.get(gap, i)\\n        cache.update(last)\\n        i += 1\";\n",
       "                var nbb_cells = Jupyter.notebook.get_cells();\n",
       "                for (var i = 0; i < nbb_cells.length; ++i) {\n",
       "                    if (nbb_cells[i].input_prompt_number == nbb_cell_id) {\n",
       "                        if (nbb_cells[i].get_text() == nbb_unformatted_code) {\n",
       "                             nbb_cells[i].set_text(nbb_formatted_code);\n",
       "                        }\n",
       "                        break;\n",
       "                    }\n",
       "                }\n",
       "            }, 500);\n",
       "            "
      ],
      "text/plain": [
       "<IPython.core.display.Javascript object>"
      ]
     },
     "metadata": {},
     "output_type": "display_data"
    }
   ],
   "source": [
    "def play(numbers: List[int]) -> Iterator[int]:\n",
    "    cache = {}\n",
    "    i = 1\n",
    "    gap = None\n",
    "    for x in numbers:\n",
    "        yield x\n",
    "        gap = i - cache.get(x, i)\n",
    "        cache[x] = i\n",
    "        i += 1\n",
    "\n",
    "    while True:\n",
    "        last = {gap: i}\n",
    "        yield gap\n",
    "        gap = i - cache.get(gap, i)\n",
    "        cache.update(last)\n",
    "        i += 1"
   ]
  },
  {
   "cell_type": "code",
   "execution_count": 22,
   "metadata": {},
   "outputs": [
    {
     "data": {
      "application/javascript": [
       "\n",
       "            setTimeout(function() {\n",
       "                var nbb_cell_id = 22;\n",
       "                var nbb_unformatted_code = \"NUMBERS = [0, 3, 6]\\nit = play(NUMBERS)\\n# [next(it) for _ in range(10)]\\nassert [next(it) for _ in range(10)] == [0, 3, 6, 0, 3, 3, 1, 0, 4, 0]\";\n",
       "                var nbb_formatted_code = \"NUMBERS = [0, 3, 6]\\nit = play(NUMBERS)\\n# [next(it) for _ in range(10)]\\nassert [next(it) for _ in range(10)] == [0, 3, 6, 0, 3, 3, 1, 0, 4, 0]\";\n",
       "                var nbb_cells = Jupyter.notebook.get_cells();\n",
       "                for (var i = 0; i < nbb_cells.length; ++i) {\n",
       "                    if (nbb_cells[i].input_prompt_number == nbb_cell_id) {\n",
       "                        if (nbb_cells[i].get_text() == nbb_unformatted_code) {\n",
       "                             nbb_cells[i].set_text(nbb_formatted_code);\n",
       "                        }\n",
       "                        break;\n",
       "                    }\n",
       "                }\n",
       "            }, 500);\n",
       "            "
      ],
      "text/plain": [
       "<IPython.core.display.Javascript object>"
      ]
     },
     "metadata": {},
     "output_type": "display_data"
    }
   ],
   "source": [
    "NUMBERS = [0, 3, 6]\n",
    "it = play(NUMBERS)\n",
    "# [next(it) for _ in range(10)]\n",
    "assert [next(it) for _ in range(10)] == [0, 3, 6, 0, 3, 3, 1, 0, 4, 0]"
   ]
  },
  {
   "cell_type": "code",
   "execution_count": 23,
   "metadata": {},
   "outputs": [
    {
     "data": {
      "text/plain": [
       "273"
      ]
     },
     "execution_count": 23,
     "metadata": {},
     "output_type": "execute_result"
    },
    {
     "data": {
      "application/javascript": [
       "\n",
       "            setTimeout(function() {\n",
       "                var nbb_cell_id = 23;\n",
       "                var nbb_unformatted_code = \"it = play([1, 12, 0, 20, 8, 16])\\nresult = [next(it) for _ in range(2020)]\\nresult[-1]\";\n",
       "                var nbb_formatted_code = \"it = play([1, 12, 0, 20, 8, 16])\\nresult = [next(it) for _ in range(2020)]\\nresult[-1]\";\n",
       "                var nbb_cells = Jupyter.notebook.get_cells();\n",
       "                for (var i = 0; i < nbb_cells.length; ++i) {\n",
       "                    if (nbb_cells[i].input_prompt_number == nbb_cell_id) {\n",
       "                        if (nbb_cells[i].get_text() == nbb_unformatted_code) {\n",
       "                             nbb_cells[i].set_text(nbb_formatted_code);\n",
       "                        }\n",
       "                        break;\n",
       "                    }\n",
       "                }\n",
       "            }, 500);\n",
       "            "
      ],
      "text/plain": [
       "<IPython.core.display.Javascript object>"
      ]
     },
     "metadata": {},
     "output_type": "display_data"
    }
   ],
   "source": [
    "it = play([1, 12, 0, 20, 8, 16])\n",
    "result = [next(it) for _ in range(2020)]\n",
    "result[-1]"
   ]
  },
  {
   "cell_type": "markdown",
   "metadata": {},
   "source": [
    "## Part Two"
   ]
  },
  {
   "cell_type": "code",
   "execution_count": 24,
   "metadata": {},
   "outputs": [
    {
     "name": "stdout",
     "output_type": "stream",
     "text": [
      "47205\n",
      "CPU times: user 11.9 s, sys: 124 ms, total: 12 s\n",
      "Wall time: 12 s\n"
     ]
    },
    {
     "data": {
      "application/javascript": [
       "\n",
       "            setTimeout(function() {\n",
       "                var nbb_cell_id = 24;\n",
       "                var nbb_unformatted_code = \"%%time\\nit = play([1, 12, 0, 20, 8, 16])\\nresult = None\\nfor i in range(30_000_000):\\n    result = next(it)\\nprint(result)\";\n",
       "                var nbb_formatted_code = \"%%time\\nit = play([1, 12, 0, 20, 8, 16])\\nresult = None\\nfor i in range(30_000_000):\\n    result = next(it)\\nprint(result)\";\n",
       "                var nbb_cells = Jupyter.notebook.get_cells();\n",
       "                for (var i = 0; i < nbb_cells.length; ++i) {\n",
       "                    if (nbb_cells[i].input_prompt_number == nbb_cell_id) {\n",
       "                        if (nbb_cells[i].get_text() == nbb_unformatted_code) {\n",
       "                             nbb_cells[i].set_text(nbb_formatted_code);\n",
       "                        }\n",
       "                        break;\n",
       "                    }\n",
       "                }\n",
       "            }, 500);\n",
       "            "
      ],
      "text/plain": [
       "<IPython.core.display.Javascript object>"
      ]
     },
     "metadata": {},
     "output_type": "display_data"
    }
   ],
   "source": [
    "%%time\n",
    "it = play([1, 12, 0, 20, 8, 16])\n",
    "result = None\n",
    "for i in range(30_000_000):\n",
    "    result = next(it)\n",
    "print(result)"
   ]
  },
  {
   "cell_type": "code",
   "execution_count": null,
   "metadata": {},
   "outputs": [],
   "source": []
  }
 ],
 "metadata": {
  "kernelspec": {
   "display_name": "Python [conda env:ml] *",
   "language": "python",
   "name": "conda-env-ml-py"
  },
  "language_info": {
   "codemirror_mode": {
    "name": "ipython",
    "version": 3
   },
   "file_extension": ".py",
   "mimetype": "text/x-python",
   "name": "python",
   "nbconvert_exporter": "python",
   "pygments_lexer": "ipython3",
   "version": "3.8.6"
  }
 },
 "nbformat": 4,
 "nbformat_minor": 4
}
