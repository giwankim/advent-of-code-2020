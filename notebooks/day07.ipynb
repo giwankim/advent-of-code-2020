{
 "cells": [
  {
   "cell_type": "code",
   "execution_count": 1,
   "metadata": {},
   "outputs": [
    {
     "data": {
      "application/javascript": [
       "\n",
       "            setTimeout(function() {\n",
       "                var nbb_cell_id = 1;\n",
       "                var nbb_unformatted_code = \"%reload_ext nb_black\";\n",
       "                var nbb_formatted_code = \"%reload_ext nb_black\";\n",
       "                var nbb_cells = Jupyter.notebook.get_cells();\n",
       "                for (var i = 0; i < nbb_cells.length; ++i) {\n",
       "                    if (nbb_cells[i].input_prompt_number == nbb_cell_id) {\n",
       "                        if (nbb_cells[i].get_text() == nbb_unformatted_code) {\n",
       "                             nbb_cells[i].set_text(nbb_formatted_code);\n",
       "                        }\n",
       "                        break;\n",
       "                    }\n",
       "                }\n",
       "            }, 500);\n",
       "            "
      ],
      "text/plain": [
       "<IPython.core.display.Javascript object>"
      ]
     },
     "metadata": {},
     "output_type": "display_data"
    }
   ],
   "source": [
    "%reload_ext nb_black"
   ]
  },
  {
   "cell_type": "markdown",
   "metadata": {},
   "source": [
    "# Day 07"
   ]
  },
  {
   "cell_type": "code",
   "execution_count": 2,
   "metadata": {},
   "outputs": [
    {
     "data": {
      "application/javascript": [
       "\n",
       "            setTimeout(function() {\n",
       "                var nbb_cell_id = 2;\n",
       "                var nbb_unformatted_code = \"from __future__ import annotations\\nimport re\\nfrom typing import Dict, List, NamedTuple, Set, Tuple\\nfrom collections import deque, defaultdict\";\n",
       "                var nbb_formatted_code = \"from __future__ import annotations\\nimport re\\nfrom typing import Dict, List, NamedTuple, Set, Tuple\\nfrom collections import deque, defaultdict\";\n",
       "                var nbb_cells = Jupyter.notebook.get_cells();\n",
       "                for (var i = 0; i < nbb_cells.length; ++i) {\n",
       "                    if (nbb_cells[i].input_prompt_number == nbb_cell_id) {\n",
       "                        if (nbb_cells[i].get_text() == nbb_unformatted_code) {\n",
       "                             nbb_cells[i].set_text(nbb_formatted_code);\n",
       "                        }\n",
       "                        break;\n",
       "                    }\n",
       "                }\n",
       "            }, 500);\n",
       "            "
      ],
      "text/plain": [
       "<IPython.core.display.Javascript object>"
      ]
     },
     "metadata": {},
     "output_type": "display_data"
    }
   ],
   "source": [
    "from __future__ import annotations\n",
    "import re\n",
    "from typing import Dict, List, NamedTuple, Set, Tuple\n",
    "from collections import deque, defaultdict"
   ]
  },
  {
   "cell_type": "markdown",
   "metadata": {},
   "source": [
    "## Part One"
   ]
  },
  {
   "cell_type": "code",
   "execution_count": 3,
   "metadata": {},
   "outputs": [
    {
     "data": {
      "application/javascript": [
       "\n",
       "            setTimeout(function() {\n",
       "                var nbb_cell_id = 3;\n",
       "                var nbb_unformatted_code = \"def parse_lines(lines: str) -> List[Tuple[str, List[Tuple(str, int)]]]:\\n    lines = lines.strip()\\n    lines = lines.replace(\\\".\\\", \\\"\\\")\\n    lines = lines.replace(\\\" bags\\\", \\\"\\\")\\n    lines = lines.replace(\\\" bag\\\", \\\"\\\")\\n    lines = lines.split(\\\"\\\\n\\\")\\n    rules = {}\\n    for line in lines:\\n        color, edges = line.split(\\\" contain \\\")\\n        if edges == \\\"no other\\\":\\n            rules[color] = []\\n            continue\\n        edges = edges.split(\\\", \\\")\\n        edges = [o.split() for o in edges]\\n        edges = [(\\\" \\\".join(o[1:]), int(o[0])) for o in edges]\\n        rules[color] = edges\\n    return rules\";\n",
       "                var nbb_formatted_code = \"def parse_lines(lines: str) -> List[Tuple[str, List[Tuple(str, int)]]]:\\n    lines = lines.strip()\\n    lines = lines.replace(\\\".\\\", \\\"\\\")\\n    lines = lines.replace(\\\" bags\\\", \\\"\\\")\\n    lines = lines.replace(\\\" bag\\\", \\\"\\\")\\n    lines = lines.split(\\\"\\\\n\\\")\\n    rules = {}\\n    for line in lines:\\n        color, edges = line.split(\\\" contain \\\")\\n        if edges == \\\"no other\\\":\\n            rules[color] = []\\n            continue\\n        edges = edges.split(\\\", \\\")\\n        edges = [o.split() for o in edges]\\n        edges = [(\\\" \\\".join(o[1:]), int(o[0])) for o in edges]\\n        rules[color] = edges\\n    return rules\";\n",
       "                var nbb_cells = Jupyter.notebook.get_cells();\n",
       "                for (var i = 0; i < nbb_cells.length; ++i) {\n",
       "                    if (nbb_cells[i].input_prompt_number == nbb_cell_id) {\n",
       "                        if (nbb_cells[i].get_text() == nbb_unformatted_code) {\n",
       "                             nbb_cells[i].set_text(nbb_formatted_code);\n",
       "                        }\n",
       "                        break;\n",
       "                    }\n",
       "                }\n",
       "            }, 500);\n",
       "            "
      ],
      "text/plain": [
       "<IPython.core.display.Javascript object>"
      ]
     },
     "metadata": {},
     "output_type": "display_data"
    }
   ],
   "source": [
    "def parse_lines(lines: str) -> List[Tuple[str, List[Tuple(str, int)]]]:\n",
    "    lines = lines.strip()\n",
    "    lines = lines.replace(\".\", \"\")\n",
    "    lines = lines.replace(\" bags\", \"\")\n",
    "    lines = lines.replace(\" bag\", \"\")\n",
    "    lines = lines.split(\"\\n\")\n",
    "    rules = {}\n",
    "    for line in lines:\n",
    "        color, edges = line.split(\" contain \")\n",
    "        if edges == \"no other\":\n",
    "            rules[color] = []\n",
    "            continue\n",
    "        edges = edges.split(\", \")\n",
    "        edges = [o.split() for o in edges]\n",
    "        edges = [(\" \".join(o[1:]), int(o[0])) for o in edges]\n",
    "        rules[color] = edges\n",
    "    return rules"
   ]
  },
  {
   "cell_type": "code",
   "execution_count": 6,
   "metadata": {},
   "outputs": [
    {
     "data": {
      "application/javascript": [
       "\n",
       "            setTimeout(function() {\n",
       "                var nbb_cell_id = 6;\n",
       "                var nbb_unformatted_code = \"def count_bags(rules):\\n    total = 0\\n    for rule in rules:\\n        visited = set()\\n        q = deque()\\n        q.append(rule)\\n        visited.add(rule)\\n        while q:\\n            color = q.popleft()\\n            for newcolor, _ in rules[color]:\\n                if newcolor not in visited:\\n                    q.append(newcolor)\\n                    visited.add(newcolor)\\n                    if newcolor == \\\"shiny gold\\\":\\n                        total += 1\\n    return total\";\n",
       "                var nbb_formatted_code = \"def count_bags(rules):\\n    total = 0\\n    for rule in rules:\\n        visited = set()\\n        q = deque()\\n        q.append(rule)\\n        visited.add(rule)\\n        while q:\\n            color = q.popleft()\\n            for newcolor, _ in rules[color]:\\n                if newcolor not in visited:\\n                    q.append(newcolor)\\n                    visited.add(newcolor)\\n                    if newcolor == \\\"shiny gold\\\":\\n                        total += 1\\n    return total\";\n",
       "                var nbb_cells = Jupyter.notebook.get_cells();\n",
       "                for (var i = 0; i < nbb_cells.length; ++i) {\n",
       "                    if (nbb_cells[i].input_prompt_number == nbb_cell_id) {\n",
       "                        if (nbb_cells[i].get_text() == nbb_unformatted_code) {\n",
       "                             nbb_cells[i].set_text(nbb_formatted_code);\n",
       "                        }\n",
       "                        break;\n",
       "                    }\n",
       "                }\n",
       "            }, 500);\n",
       "            "
      ],
      "text/plain": [
       "<IPython.core.display.Javascript object>"
      ]
     },
     "metadata": {},
     "output_type": "display_data"
    }
   ],
   "source": [
    "def count_bags(rules):\n",
    "    total = 0\n",
    "    for rule in rules:\n",
    "        visited = set()\n",
    "        q = deque()\n",
    "        q.append(rule)\n",
    "        visited.add(rule)\n",
    "        while q:\n",
    "            color = q.popleft()\n",
    "            for newcolor, _ in rules[color]:\n",
    "                if newcolor not in visited:\n",
    "                    q.append(newcolor)\n",
    "                    visited.add(newcolor)\n",
    "                    if newcolor == \"shiny gold\":\n",
    "                        total += 1\n",
    "    return total"
   ]
  },
  {
   "cell_type": "code",
   "execution_count": 7,
   "metadata": {},
   "outputs": [
    {
     "data": {
      "application/javascript": [
       "\n",
       "            setTimeout(function() {\n",
       "                var nbb_cell_id = 7;\n",
       "                var nbb_unformatted_code = \"data = \\\"\\\"\\\"\\nlight red bags contain 1 bright white bag, 2 muted yellow bags.\\ndark orange bags contain 3 bright white bags, 4 muted yellow bags.\\nbright white bags contain 1 shiny gold bag.\\nmuted yellow bags contain 2 shiny gold bags, 9 faded blue bags.\\nshiny gold bags contain 1 dark olive bag, 2 vibrant plum bags.\\ndark olive bags contain 3 faded blue bags, 4 dotted black bags.\\nvibrant plum bags contain 5 faded blue bags, 6 dotted black bags.\\nfaded blue bags contain no other bags.\\ndotted black bags contain no other bags.\\n\\\"\\\"\\\"\\nrules = parse_lines(data)\\nassert count_bags(rules) == 4\";\n",
       "                var nbb_formatted_code = \"data = \\\"\\\"\\\"\\nlight red bags contain 1 bright white bag, 2 muted yellow bags.\\ndark orange bags contain 3 bright white bags, 4 muted yellow bags.\\nbright white bags contain 1 shiny gold bag.\\nmuted yellow bags contain 2 shiny gold bags, 9 faded blue bags.\\nshiny gold bags contain 1 dark olive bag, 2 vibrant plum bags.\\ndark olive bags contain 3 faded blue bags, 4 dotted black bags.\\nvibrant plum bags contain 5 faded blue bags, 6 dotted black bags.\\nfaded blue bags contain no other bags.\\ndotted black bags contain no other bags.\\n\\\"\\\"\\\"\\nrules = parse_lines(data)\\nassert count_bags(rules) == 4\";\n",
       "                var nbb_cells = Jupyter.notebook.get_cells();\n",
       "                for (var i = 0; i < nbb_cells.length; ++i) {\n",
       "                    if (nbb_cells[i].input_prompt_number == nbb_cell_id) {\n",
       "                        if (nbb_cells[i].get_text() == nbb_unformatted_code) {\n",
       "                             nbb_cells[i].set_text(nbb_formatted_code);\n",
       "                        }\n",
       "                        break;\n",
       "                    }\n",
       "                }\n",
       "            }, 500);\n",
       "            "
      ],
      "text/plain": [
       "<IPython.core.display.Javascript object>"
      ]
     },
     "metadata": {},
     "output_type": "display_data"
    }
   ],
   "source": [
    "data = \"\"\"\n",
    "light red bags contain 1 bright white bag, 2 muted yellow bags.\n",
    "dark orange bags contain 3 bright white bags, 4 muted yellow bags.\n",
    "bright white bags contain 1 shiny gold bag.\n",
    "muted yellow bags contain 2 shiny gold bags, 9 faded blue bags.\n",
    "shiny gold bags contain 1 dark olive bag, 2 vibrant plum bags.\n",
    "dark olive bags contain 3 faded blue bags, 4 dotted black bags.\n",
    "vibrant plum bags contain 5 faded blue bags, 6 dotted black bags.\n",
    "faded blue bags contain no other bags.\n",
    "dotted black bags contain no other bags.\n",
    "\"\"\"\n",
    "rules = parse_lines(data)\n",
    "assert count_bags(rules) == 4"
   ]
  },
  {
   "cell_type": "code",
   "execution_count": 11,
   "metadata": {
    "scrolled": false
   },
   "outputs": [
    {
     "name": "stdout",
     "output_type": "stream",
     "text": [
      "213\n"
     ]
    },
    {
     "data": {
      "application/javascript": [
       "\n",
       "            setTimeout(function() {\n",
       "                var nbb_cell_id = 11;\n",
       "                var nbb_unformatted_code = \"with open(\\\"../input/day07.txt\\\") as f:\\n    data = f.read()\\n    rules = parse_lines(data)\\n    print(count_bags(rules))\\n#     rules = f.read().strip().split(\\\"\\\\n\\\")\\n#     rules = [parse_rule(rule) for rule in rules]\\n#     nodes, adj = make_graph(rules)\\n#     print(bfs(nodes, adj))\";\n",
       "                var nbb_formatted_code = \"with open(\\\"../input/day07.txt\\\") as f:\\n    data = f.read()\\n    rules = parse_lines(data)\\n    print(count_bags(rules))\\n#     rules = f.read().strip().split(\\\"\\\\n\\\")\\n#     rules = [parse_rule(rule) for rule in rules]\\n#     nodes, adj = make_graph(rules)\\n#     print(bfs(nodes, adj))\";\n",
       "                var nbb_cells = Jupyter.notebook.get_cells();\n",
       "                for (var i = 0; i < nbb_cells.length; ++i) {\n",
       "                    if (nbb_cells[i].input_prompt_number == nbb_cell_id) {\n",
       "                        if (nbb_cells[i].get_text() == nbb_unformatted_code) {\n",
       "                             nbb_cells[i].set_text(nbb_formatted_code);\n",
       "                        }\n",
       "                        break;\n",
       "                    }\n",
       "                }\n",
       "            }, 500);\n",
       "            "
      ],
      "text/plain": [
       "<IPython.core.display.Javascript object>"
      ]
     },
     "metadata": {},
     "output_type": "display_data"
    }
   ],
   "source": [
    "with open(\"../input/day07.txt\") as f:\n",
    "    data = f.read()\n",
    "    rules = parse_lines(data)\n",
    "    print(count_bags(rules))"
   ]
  },
  {
   "cell_type": "markdown",
   "metadata": {},
   "source": [
    "## Part Two"
   ]
  },
  {
   "cell_type": "code",
   "execution_count": 24,
   "metadata": {},
   "outputs": [
    {
     "data": {
      "application/javascript": [
       "\n",
       "            setTimeout(function() {\n",
       "                var nbb_cell_id = 24;\n",
       "                var nbb_unformatted_code = \"def dfs(color, rules):\\n    total = 0\\n    for nextcolor, bags in rules[color]:\\n        total += bags\\n        total += dfs(nextcolor, rules) * bags\\n    return total\\n\\ndef count_bags2(rules):\\n    return dfs(\\\"shiny gold\\\", rules)\";\n",
       "                var nbb_formatted_code = \"def dfs(color, rules):\\n    total = 0\\n    for nextcolor, bags in rules[color]:\\n        total += bags\\n        total += dfs(nextcolor, rules) * bags\\n    return total\\n\\n\\ndef count_bags2(rules):\\n    return dfs(\\\"shiny gold\\\", rules)\";\n",
       "                var nbb_cells = Jupyter.notebook.get_cells();\n",
       "                for (var i = 0; i < nbb_cells.length; ++i) {\n",
       "                    if (nbb_cells[i].input_prompt_number == nbb_cell_id) {\n",
       "                        if (nbb_cells[i].get_text() == nbb_unformatted_code) {\n",
       "                             nbb_cells[i].set_text(nbb_formatted_code);\n",
       "                        }\n",
       "                        break;\n",
       "                    }\n",
       "                }\n",
       "            }, 500);\n",
       "            "
      ],
      "text/plain": [
       "<IPython.core.display.Javascript object>"
      ]
     },
     "metadata": {},
     "output_type": "display_data"
    }
   ],
   "source": [
    "def dfs(color, rules):\n",
    "    total = 0\n",
    "    for nextcolor, bags in rules[color]:\n",
    "        total += bags\n",
    "        total += dfs(nextcolor, rules) * bags\n",
    "    return total\n",
    "\n",
    "\n",
    "def count_bags2(rules):\n",
    "    return dfs(\"shiny gold\", rules)"
   ]
  },
  {
   "cell_type": "code",
   "execution_count": 25,
   "metadata": {},
   "outputs": [
    {
     "data": {
      "application/javascript": [
       "\n",
       "            setTimeout(function() {\n",
       "                var nbb_cell_id = 25;\n",
       "                var nbb_unformatted_code = \"data = \\\"\\\"\\\"\\nlight red bags contain 1 bright white bag, 2 muted yellow bags.\\ndark orange bags contain 3 bright white bags, 4 muted yellow bags.\\nbright white bags contain 1 shiny gold bag.\\nmuted yellow bags contain 2 shiny gold bags, 9 faded blue bags.\\nshiny gold bags contain 1 dark olive bag, 2 vibrant plum bags.\\ndark olive bags contain 3 faded blue bags, 4 dotted black bags.\\nvibrant plum bags contain 5 faded blue bags, 6 dotted black bags.\\nfaded blue bags contain no other bags.\\ndotted black bags contain no other bags.\\n\\\"\\\"\\\"\\nrules = parse_lines(data)\\nassert count_bags2(rules) == 32\";\n",
       "                var nbb_formatted_code = \"data = \\\"\\\"\\\"\\nlight red bags contain 1 bright white bag, 2 muted yellow bags.\\ndark orange bags contain 3 bright white bags, 4 muted yellow bags.\\nbright white bags contain 1 shiny gold bag.\\nmuted yellow bags contain 2 shiny gold bags, 9 faded blue bags.\\nshiny gold bags contain 1 dark olive bag, 2 vibrant plum bags.\\ndark olive bags contain 3 faded blue bags, 4 dotted black bags.\\nvibrant plum bags contain 5 faded blue bags, 6 dotted black bags.\\nfaded blue bags contain no other bags.\\ndotted black bags contain no other bags.\\n\\\"\\\"\\\"\\nrules = parse_lines(data)\\nassert count_bags2(rules) == 32\";\n",
       "                var nbb_cells = Jupyter.notebook.get_cells();\n",
       "                for (var i = 0; i < nbb_cells.length; ++i) {\n",
       "                    if (nbb_cells[i].input_prompt_number == nbb_cell_id) {\n",
       "                        if (nbb_cells[i].get_text() == nbb_unformatted_code) {\n",
       "                             nbb_cells[i].set_text(nbb_formatted_code);\n",
       "                        }\n",
       "                        break;\n",
       "                    }\n",
       "                }\n",
       "            }, 500);\n",
       "            "
      ],
      "text/plain": [
       "<IPython.core.display.Javascript object>"
      ]
     },
     "metadata": {},
     "output_type": "display_data"
    }
   ],
   "source": [
    "data = \"\"\"\n",
    "light red bags contain 1 bright white bag, 2 muted yellow bags.\n",
    "dark orange bags contain 3 bright white bags, 4 muted yellow bags.\n",
    "bright white bags contain 1 shiny gold bag.\n",
    "muted yellow bags contain 2 shiny gold bags, 9 faded blue bags.\n",
    "shiny gold bags contain 1 dark olive bag, 2 vibrant plum bags.\n",
    "dark olive bags contain 3 faded blue bags, 4 dotted black bags.\n",
    "vibrant plum bags contain 5 faded blue bags, 6 dotted black bags.\n",
    "faded blue bags contain no other bags.\n",
    "dotted black bags contain no other bags.\n",
    "\"\"\"\n",
    "rules = parse_lines(data)\n",
    "assert count_bags2(rules) == 32"
   ]
  },
  {
   "cell_type": "code",
   "execution_count": 26,
   "metadata": {},
   "outputs": [
    {
     "data": {
      "application/javascript": [
       "\n",
       "            setTimeout(function() {\n",
       "                var nbb_cell_id = 26;\n",
       "                var nbb_unformatted_code = \"data2 = \\\"\\\"\\\"\\nshiny gold bags contain 2 dark red bags.\\ndark red bags contain 2 dark orange bags.\\ndark orange bags contain 2 dark yellow bags.\\ndark yellow bags contain 2 dark green bags.\\ndark green bags contain 2 dark blue bags.\\ndark blue bags contain 2 dark violet bags.\\ndark violet bags contain no other bags.\\n\\\"\\\"\\\"\\nrules2 = parse_lines(data2)\\nassert count_bags2(rules2) == 126\";\n",
       "                var nbb_formatted_code = \"data2 = \\\"\\\"\\\"\\nshiny gold bags contain 2 dark red bags.\\ndark red bags contain 2 dark orange bags.\\ndark orange bags contain 2 dark yellow bags.\\ndark yellow bags contain 2 dark green bags.\\ndark green bags contain 2 dark blue bags.\\ndark blue bags contain 2 dark violet bags.\\ndark violet bags contain no other bags.\\n\\\"\\\"\\\"\\nrules2 = parse_lines(data2)\\nassert count_bags2(rules2) == 126\";\n",
       "                var nbb_cells = Jupyter.notebook.get_cells();\n",
       "                for (var i = 0; i < nbb_cells.length; ++i) {\n",
       "                    if (nbb_cells[i].input_prompt_number == nbb_cell_id) {\n",
       "                        if (nbb_cells[i].get_text() == nbb_unformatted_code) {\n",
       "                             nbb_cells[i].set_text(nbb_formatted_code);\n",
       "                        }\n",
       "                        break;\n",
       "                    }\n",
       "                }\n",
       "            }, 500);\n",
       "            "
      ],
      "text/plain": [
       "<IPython.core.display.Javascript object>"
      ]
     },
     "metadata": {},
     "output_type": "display_data"
    }
   ],
   "source": [
    "data2 = \"\"\"\n",
    "shiny gold bags contain 2 dark red bags.\n",
    "dark red bags contain 2 dark orange bags.\n",
    "dark orange bags contain 2 dark yellow bags.\n",
    "dark yellow bags contain 2 dark green bags.\n",
    "dark green bags contain 2 dark blue bags.\n",
    "dark blue bags contain 2 dark violet bags.\n",
    "dark violet bags contain no other bags.\n",
    "\"\"\"\n",
    "rules2 = parse_lines(data2)\n",
    "assert count_bags2(rules2) == 126"
   ]
  },
  {
   "cell_type": "code",
   "execution_count": 27,
   "metadata": {},
   "outputs": [
    {
     "name": "stdout",
     "output_type": "stream",
     "text": [
      "38426\n"
     ]
    },
    {
     "data": {
      "application/javascript": [
       "\n",
       "            setTimeout(function() {\n",
       "                var nbb_cell_id = 27;\n",
       "                var nbb_unformatted_code = \"with open(\\\"../input/day07.txt\\\") as f:\\n    data = f.read()\\n    rules = parse_lines(data)\\n    print(count_bags2(rules))\";\n",
       "                var nbb_formatted_code = \"with open(\\\"../input/day07.txt\\\") as f:\\n    data = f.read()\\n    rules = parse_lines(data)\\n    print(count_bags2(rules))\";\n",
       "                var nbb_cells = Jupyter.notebook.get_cells();\n",
       "                for (var i = 0; i < nbb_cells.length; ++i) {\n",
       "                    if (nbb_cells[i].input_prompt_number == nbb_cell_id) {\n",
       "                        if (nbb_cells[i].get_text() == nbb_unformatted_code) {\n",
       "                             nbb_cells[i].set_text(nbb_formatted_code);\n",
       "                        }\n",
       "                        break;\n",
       "                    }\n",
       "                }\n",
       "            }, 500);\n",
       "            "
      ],
      "text/plain": [
       "<IPython.core.display.Javascript object>"
      ]
     },
     "metadata": {},
     "output_type": "display_data"
    }
   ],
   "source": [
    "with open(\"../input/day07.txt\") as f:\n",
    "    data = f.read()\n",
    "    rules = parse_lines(data)\n",
    "    print(count_bags2(rules))"
   ]
  },
  {
   "cell_type": "code",
   "execution_count": null,
   "metadata": {},
   "outputs": [],
   "source": []
  }
 ],
 "metadata": {
  "kernelspec": {
   "display_name": "Python [conda env:ml] *",
   "language": "python",
   "name": "conda-env-ml-py"
  },
  "language_info": {
   "codemirror_mode": {
    "name": "ipython",
    "version": 3
   },
   "file_extension": ".py",
   "mimetype": "text/x-python",
   "name": "python",
   "nbconvert_exporter": "python",
   "pygments_lexer": "ipython3",
   "version": "3.7.8"
  }
 },
 "nbformat": 4,
 "nbformat_minor": 4
}
