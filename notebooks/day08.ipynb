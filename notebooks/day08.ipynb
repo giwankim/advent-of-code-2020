{
 "cells": [
  {
   "cell_type": "code",
   "execution_count": 1,
   "metadata": {},
   "outputs": [
    {
     "data": {
      "application/javascript": [
       "\n",
       "            setTimeout(function() {\n",
       "                var nbb_cell_id = 1;\n",
       "                var nbb_unformatted_code = \"%reload_ext nb_black\";\n",
       "                var nbb_formatted_code = \"%reload_ext nb_black\";\n",
       "                var nbb_cells = Jupyter.notebook.get_cells();\n",
       "                for (var i = 0; i < nbb_cells.length; ++i) {\n",
       "                    if (nbb_cells[i].input_prompt_number == nbb_cell_id) {\n",
       "                        if (nbb_cells[i].get_text() == nbb_unformatted_code) {\n",
       "                             nbb_cells[i].set_text(nbb_formatted_code);\n",
       "                        }\n",
       "                        break;\n",
       "                    }\n",
       "                }\n",
       "            }, 500);\n",
       "            "
      ],
      "text/plain": [
       "<IPython.core.display.Javascript object>"
      ]
     },
     "metadata": {},
     "output_type": "display_data"
    }
   ],
   "source": [
    "%reload_ext nb_black"
   ]
  },
  {
   "cell_type": "markdown",
   "metadata": {},
   "source": [
    "# Day 08"
   ]
  },
  {
   "cell_type": "code",
   "execution_count": 10,
   "metadata": {},
   "outputs": [
    {
     "data": {
      "application/javascript": [
       "\n",
       "            setTimeout(function() {\n",
       "                var nbb_cell_id = 10;\n",
       "                var nbb_unformatted_code = \"from __future__ import annotations\\nfrom typing import List, Tuple\";\n",
       "                var nbb_formatted_code = \"from __future__ import annotations\\nfrom typing import List, Tuple\";\n",
       "                var nbb_cells = Jupyter.notebook.get_cells();\n",
       "                for (var i = 0; i < nbb_cells.length; ++i) {\n",
       "                    if (nbb_cells[i].input_prompt_number == nbb_cell_id) {\n",
       "                        if (nbb_cells[i].get_text() == nbb_unformatted_code) {\n",
       "                             nbb_cells[i].set_text(nbb_formatted_code);\n",
       "                        }\n",
       "                        break;\n",
       "                    }\n",
       "                }\n",
       "            }, 500);\n",
       "            "
      ],
      "text/plain": [
       "<IPython.core.display.Javascript object>"
      ]
     },
     "metadata": {},
     "output_type": "display_data"
    }
   ],
   "source": [
    "from __future__ import annotations\n",
    "from typing import List, Tuple"
   ]
  },
  {
   "cell_type": "markdown",
   "metadata": {},
   "source": [
    "## Part One"
   ]
  },
  {
   "cell_type": "code",
   "execution_count": 8,
   "metadata": {},
   "outputs": [
    {
     "data": {
      "application/javascript": [
       "\n",
       "            setTimeout(function() {\n",
       "                var nbb_cell_id = 8;\n",
       "                var nbb_unformatted_code = \"def parse_data(data: str):\\n    data = data.strip()\\n    data = data.split(\\\"\\\\n\\\")\\n    data = [o.split() for o in data]\\n    data = [(o[0], int(o[1])) for o in data]\\n    return data\";\n",
       "                var nbb_formatted_code = \"def parse_data(data: str):\\n    data = data.strip()\\n    data = data.split(\\\"\\\\n\\\")\\n    data = [o.split() for o in data]\\n    data = [(o[0], int(o[1])) for o in data]\\n    return data\";\n",
       "                var nbb_cells = Jupyter.notebook.get_cells();\n",
       "                for (var i = 0; i < nbb_cells.length; ++i) {\n",
       "                    if (nbb_cells[i].input_prompt_number == nbb_cell_id) {\n",
       "                        if (nbb_cells[i].get_text() == nbb_unformatted_code) {\n",
       "                             nbb_cells[i].set_text(nbb_formatted_code);\n",
       "                        }\n",
       "                        break;\n",
       "                    }\n",
       "                }\n",
       "            }, 500);\n",
       "            "
      ],
      "text/plain": [
       "<IPython.core.display.Javascript object>"
      ]
     },
     "metadata": {},
     "output_type": "display_data"
    }
   ],
   "source": [
    "def parse_data(data: str) -> List[Tuple[str, int]]:\n",
    "    data = data.strip()\n",
    "    data = data.split(\"\\n\")\n",
    "    data = [o.split() for o in data]\n",
    "    data = [(o[0], int(o[1])) for o in data]\n",
    "    return data"
   ]
  },
  {
   "cell_type": "code",
   "execution_count": 24,
   "metadata": {},
   "outputs": [
    {
     "data": {
      "application/javascript": [
       "\n",
       "            setTimeout(function() {\n",
       "                var nbb_cell_id = 24;\n",
       "                var nbb_unformatted_code = \"def accumulate(cmds):\\n    acc = 0\\n    visited = [False] * len(cmds)\\n    idx = 0\\n    while idx < len(cmds):\\n#         print(cmds[idx])\\n        visited[idx] = True\\n        cmd, n = cmds[idx]\\n        if cmd == \\\"acc\\\":\\n            acc += n\\n            idx += 1\\n        elif cmd == \\\"jmp\\\":\\n            idx += n\\n        elif cmd == \\\"nop\\\":\\n            idx += 1\\n        if visited[idx] == True:\\n            break\\n    return acc\";\n",
       "                var nbb_formatted_code = \"def accumulate(cmds):\\n    acc = 0\\n    visited = [False] * len(cmds)\\n    idx = 0\\n    while idx < len(cmds):\\n        #         print(cmds[idx])\\n        visited[idx] = True\\n        cmd, n = cmds[idx]\\n        if cmd == \\\"acc\\\":\\n            acc += n\\n            idx += 1\\n        elif cmd == \\\"jmp\\\":\\n            idx += n\\n        elif cmd == \\\"nop\\\":\\n            idx += 1\\n        if visited[idx] == True:\\n            break\\n    return acc\";\n",
       "                var nbb_cells = Jupyter.notebook.get_cells();\n",
       "                for (var i = 0; i < nbb_cells.length; ++i) {\n",
       "                    if (nbb_cells[i].input_prompt_number == nbb_cell_id) {\n",
       "                        if (nbb_cells[i].get_text() == nbb_unformatted_code) {\n",
       "                             nbb_cells[i].set_text(nbb_formatted_code);\n",
       "                        }\n",
       "                        break;\n",
       "                    }\n",
       "                }\n",
       "            }, 500);\n",
       "            "
      ],
      "text/plain": [
       "<IPython.core.display.Javascript object>"
      ]
     },
     "metadata": {},
     "output_type": "display_data"
    }
   ],
   "source": [
    "def accumulate(cmds):\n",
    "    acc = 0\n",
    "    visited = [False] * len(cmds)\n",
    "    idx = 0\n",
    "    while idx < len(cmds):\n",
    "        visited[idx] = True\n",
    "        cmd, n = cmds[idx]\n",
    "        if cmd == \"acc\":\n",
    "            acc += n\n",
    "            idx += 1\n",
    "        elif cmd == \"jmp\":\n",
    "            idx += n\n",
    "        elif cmd == \"nop\":\n",
    "            idx += 1\n",
    "        if visited[idx] == True:\n",
    "            break\n",
    "    return acc"
   ]
  },
  {
   "cell_type": "code",
   "execution_count": 28,
   "metadata": {},
   "outputs": [
    {
     "data": {
      "application/javascript": [
       "\n",
       "            setTimeout(function() {\n",
       "                var nbb_cell_id = 28;\n",
       "                var nbb_unformatted_code = \"data = \\\"\\\"\\\"\\nnop +0\\nacc +1\\njmp +4\\nacc +3\\njmp -3\\nacc -99\\nacc +1\\njmp -4\\nacc +6\\n\\\"\\\"\\\"\\ncmds = parse_data(data)\\nassert accumulate(cmds) == 5\";\n",
       "                var nbb_formatted_code = \"data = \\\"\\\"\\\"\\nnop +0\\nacc +1\\njmp +4\\nacc +3\\njmp -3\\nacc -99\\nacc +1\\njmp -4\\nacc +6\\n\\\"\\\"\\\"\\ncmds = parse_data(data)\\nassert accumulate(cmds) == 5\";\n",
       "                var nbb_cells = Jupyter.notebook.get_cells();\n",
       "                for (var i = 0; i < nbb_cells.length; ++i) {\n",
       "                    if (nbb_cells[i].input_prompt_number == nbb_cell_id) {\n",
       "                        if (nbb_cells[i].get_text() == nbb_unformatted_code) {\n",
       "                             nbb_cells[i].set_text(nbb_formatted_code);\n",
       "                        }\n",
       "                        break;\n",
       "                    }\n",
       "                }\n",
       "            }, 500);\n",
       "            "
      ],
      "text/plain": [
       "<IPython.core.display.Javascript object>"
      ]
     },
     "metadata": {},
     "output_type": "display_data"
    }
   ],
   "source": [
    "data = \"\"\"\n",
    "nop +0\n",
    "acc +1\n",
    "jmp +4\n",
    "acc +3\n",
    "jmp -3\n",
    "acc -99\n",
    "acc +1\n",
    "jmp -4\n",
    "acc +6\n",
    "\"\"\"\n",
    "cmds = parse_data(data)\n",
    "assert accumulate(cmds) == 5"
   ]
  },
  {
   "cell_type": "code",
   "execution_count": 27,
   "metadata": {},
   "outputs": [
    {
     "name": "stdout",
     "output_type": "stream",
     "text": [
      "2051\n"
     ]
    },
    {
     "data": {
      "application/javascript": [
       "\n",
       "            setTimeout(function() {\n",
       "                var nbb_cell_id = 27;\n",
       "                var nbb_unformatted_code = \"with open(\\\"../input/day08.txt\\\") as f:\\n    data = f.read()\\n    cmds = parse_data(data)\\n    print(accumulate(cmds))\";\n",
       "                var nbb_formatted_code = \"with open(\\\"../input/day08.txt\\\") as f:\\n    data = f.read()\\n    cmds = parse_data(data)\\n    print(accumulate(cmds))\";\n",
       "                var nbb_cells = Jupyter.notebook.get_cells();\n",
       "                for (var i = 0; i < nbb_cells.length; ++i) {\n",
       "                    if (nbb_cells[i].input_prompt_number == nbb_cell_id) {\n",
       "                        if (nbb_cells[i].get_text() == nbb_unformatted_code) {\n",
       "                             nbb_cells[i].set_text(nbb_formatted_code);\n",
       "                        }\n",
       "                        break;\n",
       "                    }\n",
       "                }\n",
       "            }, 500);\n",
       "            "
      ],
      "text/plain": [
       "<IPython.core.display.Javascript object>"
      ]
     },
     "metadata": {},
     "output_type": "display_data"
    }
   ],
   "source": [
    "with open(\"../input/day08.txt\") as f:\n",
    "    data = f.read()\n",
    "    cmds = parse_data(data)\n",
    "    print(accumulate(cmds))"
   ]
  },
  {
   "cell_type": "markdown",
   "metadata": {},
   "source": [
    "## Part Two"
   ]
  },
  {
   "cell_type": "code",
   "execution_count": 62,
   "metadata": {},
   "outputs": [
    {
     "data": {
      "application/javascript": [
       "\n",
       "            setTimeout(function() {\n",
       "                var nbb_cell_id = 62;\n",
       "                var nbb_unformatted_code = \"def dfs(idx, cmds, visited, acc, flip):\\n    if idx == len(visited):\\n        return True, acc\\n    if visited[idx]:\\n        return False, -1\\n    cmd, n = cmds[idx]\\n    visited[idx] = True\\n    if cmd == \\\"acc\\\":\\n        res = dfs(idx + 1, cmds, visited, acc + n, flip)\\n        if res[0]:\\n            return res\\n    elif cmd == \\\"nop\\\":\\n        res = dfs(idx + 1, cmds, visited, acc, flip)\\n        if res[0]:\\n            return res\\n        elif flip == False:\\n            res = dfs(idx + n, cmds, visited, acc, True)\\n            if res[0]:\\n                return res\\n    elif cmd == \\\"jmp\\\":\\n        res = dfs(idx + n, cmds, visited, acc, flip)\\n        if res[0]:\\n            return res\\n        elif flip == False:\\n            res = dfs(idx + 1, cmds, visited, acc, True)\\n            if res[0]:\\n                return res\\n    visited[idx] = False\\n    return False, -1\";\n",
       "                var nbb_formatted_code = \"def dfs(idx, cmds, visited, acc, flip):\\n    if idx == len(visited):\\n        return True, acc\\n    if visited[idx]:\\n        return False, -1\\n    cmd, n = cmds[idx]\\n    visited[idx] = True\\n    if cmd == \\\"acc\\\":\\n        res = dfs(idx + 1, cmds, visited, acc + n, flip)\\n        if res[0]:\\n            return res\\n    elif cmd == \\\"nop\\\":\\n        res = dfs(idx + 1, cmds, visited, acc, flip)\\n        if res[0]:\\n            return res\\n        elif flip == False:\\n            res = dfs(idx + n, cmds, visited, acc, True)\\n            if res[0]:\\n                return res\\n    elif cmd == \\\"jmp\\\":\\n        res = dfs(idx + n, cmds, visited, acc, flip)\\n        if res[0]:\\n            return res\\n        elif flip == False:\\n            res = dfs(idx + 1, cmds, visited, acc, True)\\n            if res[0]:\\n                return res\\n    visited[idx] = False\\n    return False, -1\";\n",
       "                var nbb_cells = Jupyter.notebook.get_cells();\n",
       "                for (var i = 0; i < nbb_cells.length; ++i) {\n",
       "                    if (nbb_cells[i].input_prompt_number == nbb_cell_id) {\n",
       "                        if (nbb_cells[i].get_text() == nbb_unformatted_code) {\n",
       "                             nbb_cells[i].set_text(nbb_formatted_code);\n",
       "                        }\n",
       "                        break;\n",
       "                    }\n",
       "                }\n",
       "            }, 500);\n",
       "            "
      ],
      "text/plain": [
       "<IPython.core.display.Javascript object>"
      ]
     },
     "metadata": {},
     "output_type": "display_data"
    }
   ],
   "source": [
    "def dfs(idx, cmds, visited, acc, flip):\n",
    "    if idx == len(visited):\n",
    "        return True, acc\n",
    "    if visited[idx]:\n",
    "        return False, -1\n",
    "    cmd, n = cmds[idx]\n",
    "    visited[idx] = True\n",
    "    if cmd == \"acc\":\n",
    "        res = dfs(idx + 1, cmds, visited, acc + n, flip)\n",
    "        if res[0]:\n",
    "            return res\n",
    "    elif cmd == \"nop\":\n",
    "        res = dfs(idx + 1, cmds, visited, acc, flip)\n",
    "        if res[0]:\n",
    "            return res\n",
    "        elif flip == False:\n",
    "            res = dfs(idx + n, cmds, visited, acc, True)\n",
    "            if res[0]:\n",
    "                return res\n",
    "    elif cmd == \"jmp\":\n",
    "        res = dfs(idx + n, cmds, visited, acc, flip)\n",
    "        if res[0]:\n",
    "            return res\n",
    "        elif flip == False:\n",
    "            res = dfs(idx + 1, cmds, visited, acc, True)\n",
    "            if res[0]:\n",
    "                return res\n",
    "    visited[idx] = False\n",
    "    return False, -1"
   ]
  },
  {
   "cell_type": "code",
   "execution_count": 65,
   "metadata": {},
   "outputs": [
    {
     "data": {
      "application/javascript": [
       "\n",
       "            setTimeout(function() {\n",
       "                var nbb_cell_id = 65;\n",
       "                var nbb_unformatted_code = \"data = \\\"\\\"\\\"\\nnop +0\\nacc +1\\njmp +4\\nacc +3\\njmp -3\\nacc -99\\nacc +1\\njmp -4\\nacc +6\\n\\\"\\\"\\\"\\ncmds = parse_data(data)\\n# cmds[-2] = (\\\"nop\\\", -4)\\nvisited = [False] * len(cmds)\\nassert dfs(0, cmds, visited, 0, False)[1] == 8\";\n",
       "                var nbb_formatted_code = \"data = \\\"\\\"\\\"\\nnop +0\\nacc +1\\njmp +4\\nacc +3\\njmp -3\\nacc -99\\nacc +1\\njmp -4\\nacc +6\\n\\\"\\\"\\\"\\ncmds = parse_data(data)\\n# cmds[-2] = (\\\"nop\\\", -4)\\nvisited = [False] * len(cmds)\\nassert dfs(0, cmds, visited, 0, False)[1] == 8\";\n",
       "                var nbb_cells = Jupyter.notebook.get_cells();\n",
       "                for (var i = 0; i < nbb_cells.length; ++i) {\n",
       "                    if (nbb_cells[i].input_prompt_number == nbb_cell_id) {\n",
       "                        if (nbb_cells[i].get_text() == nbb_unformatted_code) {\n",
       "                             nbb_cells[i].set_text(nbb_formatted_code);\n",
       "                        }\n",
       "                        break;\n",
       "                    }\n",
       "                }\n",
       "            }, 500);\n",
       "            "
      ],
      "text/plain": [
       "<IPython.core.display.Javascript object>"
      ]
     },
     "metadata": {},
     "output_type": "display_data"
    }
   ],
   "source": [
    "data = \"\"\"\n",
    "nop +0\n",
    "acc +1\n",
    "jmp +4\n",
    "acc +3\n",
    "jmp -3\n",
    "acc -99\n",
    "acc +1\n",
    "jmp -4\n",
    "acc +6\n",
    "\"\"\"\n",
    "cmds = parse_data(data)\n",
    "visited = [False] * len(cmds)\n",
    "assert dfs(0, cmds, visited, 0, False)[1] == 8"
   ]
  },
  {
   "cell_type": "code",
   "execution_count": 68,
   "metadata": {},
   "outputs": [
    {
     "name": "stdout",
     "output_type": "stream",
     "text": [
      "2304\n"
     ]
    },
    {
     "data": {
      "application/javascript": [
       "\n",
       "            setTimeout(function() {\n",
       "                var nbb_cell_id = 68;\n",
       "                var nbb_unformatted_code = \"with open(\\\"../input/day08.txt\\\") as f:\\n    data = f.read()\\n    cmds = parse_data(data)\\n    visited = [False] * len(cmds)\\n    print(dfs(0, cmds, visited, 0, False)[1])\";\n",
       "                var nbb_formatted_code = \"with open(\\\"../input/day08.txt\\\") as f:\\n    data = f.read()\\n    cmds = parse_data(data)\\n    visited = [False] * len(cmds)\\n    print(dfs(0, cmds, visited, 0, False)[1])\";\n",
       "                var nbb_cells = Jupyter.notebook.get_cells();\n",
       "                for (var i = 0; i < nbb_cells.length; ++i) {\n",
       "                    if (nbb_cells[i].input_prompt_number == nbb_cell_id) {\n",
       "                        if (nbb_cells[i].get_text() == nbb_unformatted_code) {\n",
       "                             nbb_cells[i].set_text(nbb_formatted_code);\n",
       "                        }\n",
       "                        break;\n",
       "                    }\n",
       "                }\n",
       "            }, 500);\n",
       "            "
      ],
      "text/plain": [
       "<IPython.core.display.Javascript object>"
      ]
     },
     "metadata": {},
     "output_type": "display_data"
    }
   ],
   "source": [
    "with open(\"../input/day08.txt\") as f:\n",
    "    data = f.read()\n",
    "    cmds = parse_data(data)\n",
    "    visited = [False] * len(cmds)\n",
    "    print(dfs(0, cmds, visited, 0, False)[1])"
   ]
  },
  {
   "cell_type": "code",
   "execution_count": null,
   "metadata": {},
   "outputs": [],
   "source": []
  },
  {
   "cell_type": "code",
   "execution_count": null,
   "metadata": {},
   "outputs": [],
   "source": []
  }
 ],
 "metadata": {
  "kernelspec": {
   "display_name": "Python [conda env:ml] *",
   "language": "python",
   "name": "conda-env-ml-py"
  },
  "language_info": {
   "codemirror_mode": {
    "name": "ipython",
    "version": 3
   },
   "file_extension": ".py",
   "mimetype": "text/x-python",
   "name": "python",
   "nbconvert_exporter": "python",
   "pygments_lexer": "ipython3",
   "version": "3.7.8"
  }
 },
 "nbformat": 4,
 "nbformat_minor": 4
}
