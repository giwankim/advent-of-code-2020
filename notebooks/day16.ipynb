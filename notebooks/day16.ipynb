{
 "cells": [
  {
   "cell_type": "code",
   "execution_count": 2,
   "metadata": {},
   "outputs": [
    {
     "data": {
      "application/javascript": [
       "\n",
       "            setTimeout(function() {\n",
       "                var nbb_cell_id = 2;\n",
       "                var nbb_unformatted_code = \"%reload_ext nb_black\";\n",
       "                var nbb_formatted_code = \"%reload_ext nb_black\";\n",
       "                var nbb_cells = Jupyter.notebook.get_cells();\n",
       "                for (var i = 0; i < nbb_cells.length; ++i) {\n",
       "                    if (nbb_cells[i].input_prompt_number == nbb_cell_id) {\n",
       "                        if (nbb_cells[i].get_text() == nbb_unformatted_code) {\n",
       "                             nbb_cells[i].set_text(nbb_formatted_code);\n",
       "                        }\n",
       "                        break;\n",
       "                    }\n",
       "                }\n",
       "            }, 500);\n",
       "            "
      ],
      "text/plain": [
       "<IPython.core.display.Javascript object>"
      ]
     },
     "metadata": {},
     "output_type": "display_data"
    }
   ],
   "source": [
    "%reload_ext nb_black"
   ]
  },
  {
   "cell_type": "markdown",
   "metadata": {},
   "source": [
    "# Day 16"
   ]
  },
  {
   "cell_type": "code",
   "execution_count": 26,
   "metadata": {},
   "outputs": [
    {
     "data": {
      "application/javascript": [
       "\n",
       "            setTimeout(function() {\n",
       "                var nbb_cell_id = 26;\n",
       "                var nbb_unformatted_code = \"from __future__ import annotations\\nfrom typing import *\\nimport re\\nimport itertools\\nimport math\";\n",
       "                var nbb_formatted_code = \"from __future__ import annotations\\nfrom typing import *\\nimport re\\nimport itertools\\nimport math\";\n",
       "                var nbb_cells = Jupyter.notebook.get_cells();\n",
       "                for (var i = 0; i < nbb_cells.length; ++i) {\n",
       "                    if (nbb_cells[i].input_prompt_number == nbb_cell_id) {\n",
       "                        if (nbb_cells[i].get_text() == nbb_unformatted_code) {\n",
       "                             nbb_cells[i].set_text(nbb_formatted_code);\n",
       "                        }\n",
       "                        break;\n",
       "                    }\n",
       "                }\n",
       "            }, 500);\n",
       "            "
      ],
      "text/plain": [
       "<IPython.core.display.Javascript object>"
      ]
     },
     "metadata": {},
     "output_type": "display_data"
    }
   ],
   "source": [
    "from __future__ import annotations\n",
    "from typing import *\n",
    "import re\n",
    "import itertools\n",
    "import math"
   ]
  },
  {
   "cell_type": "markdown",
   "metadata": {},
   "source": [
    "## Part One"
   ]
  },
  {
   "cell_type": "code",
   "execution_count": 4,
   "metadata": {},
   "outputs": [
    {
     "data": {
      "application/javascript": [
       "\n",
       "            setTimeout(function() {\n",
       "                var nbb_cell_id = 4;\n",
       "                var nbb_unformatted_code = \"RAW = \\\"\\\"\\\"class: 1-3 or 5-7\\nrow: 6-11 or 33-44\\nseat: 13-40 or 45-50\\n\\nyour ticket:\\n7,1,14\\n\\nnearby tickets:\\n7,3,47\\n40,4,50\\n55,2,20\\n38,6,12\\\"\\\"\\\"\";\n",
       "                var nbb_formatted_code = \"RAW = \\\"\\\"\\\"class: 1-3 or 5-7\\nrow: 6-11 or 33-44\\nseat: 13-40 or 45-50\\n\\nyour ticket:\\n7,1,14\\n\\nnearby tickets:\\n7,3,47\\n40,4,50\\n55,2,20\\n38,6,12\\\"\\\"\\\"\";\n",
       "                var nbb_cells = Jupyter.notebook.get_cells();\n",
       "                for (var i = 0; i < nbb_cells.length; ++i) {\n",
       "                    if (nbb_cells[i].input_prompt_number == nbb_cell_id) {\n",
       "                        if (nbb_cells[i].get_text() == nbb_unformatted_code) {\n",
       "                             nbb_cells[i].set_text(nbb_formatted_code);\n",
       "                        }\n",
       "                        break;\n",
       "                    }\n",
       "                }\n",
       "            }, 500);\n",
       "            "
      ],
      "text/plain": [
       "<IPython.core.display.Javascript object>"
      ]
     },
     "metadata": {},
     "output_type": "display_data"
    }
   ],
   "source": [
    "RAW = \"\"\"class: 1-3 or 5-7\n",
    "row: 6-11 or 33-44\n",
    "seat: 13-40 or 45-50\n",
    "\n",
    "your ticket:\n",
    "7,1,14\n",
    "\n",
    "nearby tickets:\n",
    "7,3,47\n",
    "40,4,50\n",
    "55,2,20\n",
    "38,6,12\"\"\""
   ]
  },
  {
   "cell_type": "code",
   "execution_count": 5,
   "metadata": {},
   "outputs": [
    {
     "data": {
      "application/javascript": [
       "\n",
       "            setTimeout(function() {\n",
       "                var nbb_cell_id = 5;\n",
       "                var nbb_unformatted_code = \"Range = Tuple[int, int]\\n\\n\\ndef make_range(rng: str) -> Range:\\n    lo, hi = rng.split(\\\"-\\\")\\n    return (int(lo), int(hi))\";\n",
       "                var nbb_formatted_code = \"Range = Tuple[int, int]\\n\\n\\ndef make_range(rng: str) -> Range:\\n    lo, hi = rng.split(\\\"-\\\")\\n    return (int(lo), int(hi))\";\n",
       "                var nbb_cells = Jupyter.notebook.get_cells();\n",
       "                for (var i = 0; i < nbb_cells.length; ++i) {\n",
       "                    if (nbb_cells[i].input_prompt_number == nbb_cell_id) {\n",
       "                        if (nbb_cells[i].get_text() == nbb_unformatted_code) {\n",
       "                             nbb_cells[i].set_text(nbb_formatted_code);\n",
       "                        }\n",
       "                        break;\n",
       "                    }\n",
       "                }\n",
       "            }, 500);\n",
       "            "
      ],
      "text/plain": [
       "<IPython.core.display.Javascript object>"
      ]
     },
     "metadata": {},
     "output_type": "display_data"
    }
   ],
   "source": [
    "Range = Tuple[int, int]\n",
    "\n",
    "\n",
    "def make_range(rng: str) -> Range:\n",
    "    lo, hi = rng.split(\"-\")\n",
    "    return (int(lo), int(hi))"
   ]
  },
  {
   "cell_type": "code",
   "execution_count": 6,
   "metadata": {},
   "outputs": [
    {
     "data": {
      "application/javascript": [
       "\n",
       "            setTimeout(function() {\n",
       "                var nbb_cell_id = 6;\n",
       "                var nbb_unformatted_code = \"class Rule(NamedTuple):\\n    name: str\\n    ranges: Tuple[Range]\\n\\n    def is_valid(self, x: int) -> bool:\\n        return any(lo <= x <= hi for lo, hi in self.ranges)\\n\\n    @staticmethod\\n    def parse(line: str) -> Rule:\\n        line = line.strip()\\n        name, ranges = line.split(\\\": \\\")\\n        ranges = ranges.split(\\\" or \\\")\\n        ranges = tuple([make_range(rng) for rng in ranges])\\n        return Rule(name, ranges)\";\n",
       "                var nbb_formatted_code = \"class Rule(NamedTuple):\\n    name: str\\n    ranges: Tuple[Range]\\n\\n    def is_valid(self, x: int) -> bool:\\n        return any(lo <= x <= hi for lo, hi in self.ranges)\\n\\n    @staticmethod\\n    def parse(line: str) -> Rule:\\n        line = line.strip()\\n        name, ranges = line.split(\\\": \\\")\\n        ranges = ranges.split(\\\" or \\\")\\n        ranges = tuple([make_range(rng) for rng in ranges])\\n        return Rule(name, ranges)\";\n",
       "                var nbb_cells = Jupyter.notebook.get_cells();\n",
       "                for (var i = 0; i < nbb_cells.length; ++i) {\n",
       "                    if (nbb_cells[i].input_prompt_number == nbb_cell_id) {\n",
       "                        if (nbb_cells[i].get_text() == nbb_unformatted_code) {\n",
       "                             nbb_cells[i].set_text(nbb_formatted_code);\n",
       "                        }\n",
       "                        break;\n",
       "                    }\n",
       "                }\n",
       "            }, 500);\n",
       "            "
      ],
      "text/plain": [
       "<IPython.core.display.Javascript object>"
      ]
     },
     "metadata": {},
     "output_type": "display_data"
    }
   ],
   "source": [
    "class Rule(NamedTuple):\n",
    "    name: str\n",
    "    ranges: Tuple[Range]\n",
    "\n",
    "    def is_valid(self, x: int) -> bool:\n",
    "        return any(lo <= x <= hi for lo, hi in self.ranges)\n",
    "\n",
    "    @staticmethod\n",
    "    def parse(line: str) -> Rule:\n",
    "        line = line.strip()\n",
    "        name, ranges = line.split(\": \")\n",
    "        ranges = ranges.split(\" or \")\n",
    "        ranges = tuple([make_range(rng) for rng in ranges])\n",
    "        return Rule(name, ranges)"
   ]
  },
  {
   "cell_type": "code",
   "execution_count": 7,
   "metadata": {},
   "outputs": [
    {
     "data": {
      "application/javascript": [
       "\n",
       "            setTimeout(function() {\n",
       "                var nbb_cell_id = 7;\n",
       "                var nbb_unformatted_code = \"Ticket = List[int]\\n\\n\\ndef make_ticket(s: str) -> Ticket:\\n    ticket = [int(x) for x in s.split(\\\",\\\")]\\n    return ticket\";\n",
       "                var nbb_formatted_code = \"Ticket = List[int]\\n\\n\\ndef make_ticket(s: str) -> Ticket:\\n    ticket = [int(x) for x in s.split(\\\",\\\")]\\n    return ticket\";\n",
       "                var nbb_cells = Jupyter.notebook.get_cells();\n",
       "                for (var i = 0; i < nbb_cells.length; ++i) {\n",
       "                    if (nbb_cells[i].input_prompt_number == nbb_cell_id) {\n",
       "                        if (nbb_cells[i].get_text() == nbb_unformatted_code) {\n",
       "                             nbb_cells[i].set_text(nbb_formatted_code);\n",
       "                        }\n",
       "                        break;\n",
       "                    }\n",
       "                }\n",
       "            }, 500);\n",
       "            "
      ],
      "text/plain": [
       "<IPython.core.display.Javascript object>"
      ]
     },
     "metadata": {},
     "output_type": "display_data"
    }
   ],
   "source": [
    "Ticket = List[int]\n",
    "\n",
    "\n",
    "def make_ticket(s: str) -> Ticket:\n",
    "    ticket = [int(x) for x in s.split(\",\")]\n",
    "    return ticket"
   ]
  },
  {
   "cell_type": "code",
   "execution_count": 8,
   "metadata": {},
   "outputs": [
    {
     "data": {
      "application/javascript": [
       "\n",
       "            setTimeout(function() {\n",
       "                var nbb_cell_id = 8;\n",
       "                var nbb_unformatted_code = \"class Problem(NamedTuple):\\n    rules: List[Rule]\\n    my_ticket: Ticket\\n    nearby_tickets: List[Ticket]\\n\\n    def is_valid_for_some_field(self, x: int) -> bool:\\n        return any(rule.is_valid(x) for rule in self.rules)\\n\\n    def is_invalid_ticket(self, ticket: Ticket) -> bool:\\n        for val in ticket:\\n            if not self.is_valid_for_some_field(val):\\n                return True\\n        return False\\n\\n    def get_error_rate(self) -> int:\\n        error_rate = 0\\n        for nearby_ticket in self.nearby_tickets:\\n            for val in nearby_ticket:\\n                if not self.is_valid_for_some_field(val):\\n                    error_rate += val\\n        return error_rate\\n\\n    def discard_invalid_tickets(self) -> Problem:\\n        valid_tickets = [\\n            ticket\\n            for ticket in self.nearby_tickets\\n            if not self.is_invalid_ticket(ticket)\\n        ]\\n        return self._replace(nearby_tickets=valid_tickets)\\n\\n    @staticmethod\\n    def parse(raw: str) -> Problem:\\n        rules, ticket, nearbys = raw.split(\\\"\\\\n\\\\n\\\")\\n        rules = rules.split(\\\"\\\\n\\\")\\n        rules = [Rule.parse(line) for line in rules]\\n        ticket = ticket.split(\\\"\\\\n\\\")[1]\\n        ticket = make_ticket(ticket)\\n        nearbys = nearbys.split(\\\"\\\\n\\\")[1:]\\n        nearbys = [make_ticket(ticket) for ticket in nearbys]\\n        return Problem(\\n            rules=rules,\\n            my_ticket=ticket,\\n            nearby_tickets=nearbys,\\n        )\";\n",
       "                var nbb_formatted_code = \"class Problem(NamedTuple):\\n    rules: List[Rule]\\n    my_ticket: Ticket\\n    nearby_tickets: List[Ticket]\\n\\n    def is_valid_for_some_field(self, x: int) -> bool:\\n        return any(rule.is_valid(x) for rule in self.rules)\\n\\n    def is_invalid_ticket(self, ticket: Ticket) -> bool:\\n        for val in ticket:\\n            if not self.is_valid_for_some_field(val):\\n                return True\\n        return False\\n\\n    def get_error_rate(self) -> int:\\n        error_rate = 0\\n        for nearby_ticket in self.nearby_tickets:\\n            for val in nearby_ticket:\\n                if not self.is_valid_for_some_field(val):\\n                    error_rate += val\\n        return error_rate\\n\\n    def discard_invalid_tickets(self) -> Problem:\\n        valid_tickets = [\\n            ticket\\n            for ticket in self.nearby_tickets\\n            if not self.is_invalid_ticket(ticket)\\n        ]\\n        return self._replace(nearby_tickets=valid_tickets)\\n\\n    @staticmethod\\n    def parse(raw: str) -> Problem:\\n        rules, ticket, nearbys = raw.split(\\\"\\\\n\\\\n\\\")\\n        rules = rules.split(\\\"\\\\n\\\")\\n        rules = [Rule.parse(line) for line in rules]\\n        ticket = ticket.split(\\\"\\\\n\\\")[1]\\n        ticket = make_ticket(ticket)\\n        nearbys = nearbys.split(\\\"\\\\n\\\")[1:]\\n        nearbys = [make_ticket(ticket) for ticket in nearbys]\\n        return Problem(\\n            rules=rules,\\n            my_ticket=ticket,\\n            nearby_tickets=nearbys,\\n        )\";\n",
       "                var nbb_cells = Jupyter.notebook.get_cells();\n",
       "                for (var i = 0; i < nbb_cells.length; ++i) {\n",
       "                    if (nbb_cells[i].input_prompt_number == nbb_cell_id) {\n",
       "                        if (nbb_cells[i].get_text() == nbb_unformatted_code) {\n",
       "                             nbb_cells[i].set_text(nbb_formatted_code);\n",
       "                        }\n",
       "                        break;\n",
       "                    }\n",
       "                }\n",
       "            }, 500);\n",
       "            "
      ],
      "text/plain": [
       "<IPython.core.display.Javascript object>"
      ]
     },
     "metadata": {},
     "output_type": "display_data"
    }
   ],
   "source": [
    "class Problem(NamedTuple):\n",
    "    rules: List[Rule]\n",
    "    my_ticket: Ticket\n",
    "    nearby_tickets: List[Ticket]\n",
    "\n",
    "    def is_valid_for_some_field(self, x: int) -> bool:\n",
    "        return any(rule.is_valid(x) for rule in self.rules)\n",
    "\n",
    "    def is_invalid_ticket(self, ticket: Ticket) -> bool:\n",
    "        for val in ticket:\n",
    "            if not self.is_valid_for_some_field(val):\n",
    "                return True\n",
    "        return False\n",
    "\n",
    "    def get_error_rate(self) -> int:\n",
    "        error_rate = 0\n",
    "        for nearby_ticket in self.nearby_tickets:\n",
    "            for val in nearby_ticket:\n",
    "                if not self.is_valid_for_some_field(val):\n",
    "                    error_rate += val\n",
    "        return error_rate\n",
    "\n",
    "    def discard_invalid_tickets(self) -> Problem:\n",
    "        valid_tickets = [\n",
    "            ticket\n",
    "            for ticket in self.nearby_tickets\n",
    "            if not self.is_invalid_ticket(ticket)\n",
    "        ]\n",
    "        return self._replace(nearby_tickets=valid_tickets)\n",
    "\n",
    "    @staticmethod\n",
    "    def parse(raw: str) -> Problem:\n",
    "        rules, ticket, nearbys = raw.split(\"\\n\\n\")\n",
    "        rules = rules.split(\"\\n\")\n",
    "        rules = [Rule.parse(line) for line in rules]\n",
    "        ticket = ticket.split(\"\\n\")[1]\n",
    "        ticket = make_ticket(ticket)\n",
    "        nearbys = nearbys.split(\"\\n\")[1:]\n",
    "        nearbys = [make_ticket(ticket) for ticket in nearbys]\n",
    "        return Problem(\n",
    "            rules=rules,\n",
    "            my_ticket=ticket,\n",
    "            nearby_tickets=nearbys,\n",
    "        )"
   ]
  },
  {
   "cell_type": "code",
   "execution_count": 9,
   "metadata": {},
   "outputs": [
    {
     "data": {
      "application/javascript": [
       "\n",
       "            setTimeout(function() {\n",
       "                var nbb_cell_id = 9;\n",
       "                var nbb_unformatted_code = \"PROBLEM = Problem.parse(RAW)\\nassert PROBLEM.get_error_rate() == 71\";\n",
       "                var nbb_formatted_code = \"PROBLEM = Problem.parse(RAW)\\nassert PROBLEM.get_error_rate() == 71\";\n",
       "                var nbb_cells = Jupyter.notebook.get_cells();\n",
       "                for (var i = 0; i < nbb_cells.length; ++i) {\n",
       "                    if (nbb_cells[i].input_prompt_number == nbb_cell_id) {\n",
       "                        if (nbb_cells[i].get_text() == nbb_unformatted_code) {\n",
       "                             nbb_cells[i].set_text(nbb_formatted_code);\n",
       "                        }\n",
       "                        break;\n",
       "                    }\n",
       "                }\n",
       "            }, 500);\n",
       "            "
      ],
      "text/plain": [
       "<IPython.core.display.Javascript object>"
      ]
     },
     "metadata": {},
     "output_type": "display_data"
    }
   ],
   "source": [
    "PROBLEM = Problem.parse(RAW)\n",
    "assert PROBLEM.get_error_rate() == 71"
   ]
  },
  {
   "cell_type": "code",
   "execution_count": 10,
   "metadata": {},
   "outputs": [
    {
     "data": {
      "text/plain": [
       "21996"
      ]
     },
     "execution_count": 10,
     "metadata": {},
     "output_type": "execute_result"
    },
    {
     "data": {
      "application/javascript": [
       "\n",
       "            setTimeout(function() {\n",
       "                var nbb_cell_id = 10;\n",
       "                var nbb_unformatted_code = \"with open(\\\"../input/day16.txt\\\") as f:\\n    raw = f.read().strip()\\nproblem = Problem.parse(raw)\\nproblem.get_error_rate()\";\n",
       "                var nbb_formatted_code = \"with open(\\\"../input/day16.txt\\\") as f:\\n    raw = f.read().strip()\\nproblem = Problem.parse(raw)\\nproblem.get_error_rate()\";\n",
       "                var nbb_cells = Jupyter.notebook.get_cells();\n",
       "                for (var i = 0; i < nbb_cells.length; ++i) {\n",
       "                    if (nbb_cells[i].input_prompt_number == nbb_cell_id) {\n",
       "                        if (nbb_cells[i].get_text() == nbb_unformatted_code) {\n",
       "                             nbb_cells[i].set_text(nbb_formatted_code);\n",
       "                        }\n",
       "                        break;\n",
       "                    }\n",
       "                }\n",
       "            }, 500);\n",
       "            "
      ],
      "text/plain": [
       "<IPython.core.display.Javascript object>"
      ]
     },
     "metadata": {},
     "output_type": "display_data"
    }
   ],
   "source": [
    "with open(\"../input/day16.txt\") as f:\n",
    "    raw = f.read().strip()\n",
    "problem = Problem.parse(raw)\n",
    "problem.get_error_rate()"
   ]
  },
  {
   "cell_type": "markdown",
   "metadata": {},
   "source": [
    "## Part Two"
   ]
  },
  {
   "cell_type": "code",
   "execution_count": 11,
   "metadata": {},
   "outputs": [
    {
     "data": {
      "application/javascript": [
       "\n",
       "            setTimeout(function() {\n",
       "                var nbb_cell_id = 11;\n",
       "                var nbb_unformatted_code = \"RAW2 = \\\"\\\"\\\"class: 0-1 or 4-19\\nrow: 0-5 or 8-19\\nseat: 0-13 or 16-19\\n\\nyour ticket:\\n11,12,13\\n\\nnearby tickets:\\n3,9,18\\n15,1,5\\n5,14,9\\\"\\\"\\\"\\nPROBLEM2 = Problem.parse(RAW2)\\nPROBLEM2 = PROBLEM2.discard_invalid_tickets()\";\n",
       "                var nbb_formatted_code = \"RAW2 = \\\"\\\"\\\"class: 0-1 or 4-19\\nrow: 0-5 or 8-19\\nseat: 0-13 or 16-19\\n\\nyour ticket:\\n11,12,13\\n\\nnearby tickets:\\n3,9,18\\n15,1,5\\n5,14,9\\\"\\\"\\\"\\nPROBLEM2 = Problem.parse(RAW2)\\nPROBLEM2 = PROBLEM2.discard_invalid_tickets()\";\n",
       "                var nbb_cells = Jupyter.notebook.get_cells();\n",
       "                for (var i = 0; i < nbb_cells.length; ++i) {\n",
       "                    if (nbb_cells[i].input_prompt_number == nbb_cell_id) {\n",
       "                        if (nbb_cells[i].get_text() == nbb_unformatted_code) {\n",
       "                             nbb_cells[i].set_text(nbb_formatted_code);\n",
       "                        }\n",
       "                        break;\n",
       "                    }\n",
       "                }\n",
       "            }, 500);\n",
       "            "
      ],
      "text/plain": [
       "<IPython.core.display.Javascript object>"
      ]
     },
     "metadata": {},
     "output_type": "display_data"
    }
   ],
   "source": [
    "RAW2 = \"\"\"class: 0-1 or 4-19\n",
    "row: 0-5 or 8-19\n",
    "seat: 0-13 or 16-19\n",
    "\n",
    "your ticket:\n",
    "11,12,13\n",
    "\n",
    "nearby tickets:\n",
    "3,9,18\n",
    "15,1,5\n",
    "5,14,9\"\"\"\n",
    "PROBLEM2 = Problem.parse(RAW2)\n",
    "PROBLEM2 = PROBLEM2.discard_invalid_tickets()"
   ]
  },
  {
   "cell_type": "code",
   "execution_count": 19,
   "metadata": {},
   "outputs": [
    {
     "data": {
      "application/javascript": [
       "\n",
       "            setTimeout(function() {\n",
       "                var nbb_cell_id = 19;\n",
       "                var nbb_unformatted_code = \"def identify_fields(problem: Problem) -> List[str]:\\n    all_tickets = [problem.my_ticket] + problem.nearby_tickets\\n    field_names = [rule.name for rule in problem.rules]\\n    candidates = [\\n        [\\n            rule\\n            for rule in problem.rules\\n            if all(rule.is_valid(t[i]) for t in all_tickets)\\n        ]\\n        for i in range(len(field_names))\\n    ]\\n\\n    while True:\\n        unique_rules = [rule for cand in candidates if len(cand) == 1 for rule in cand]\\n        if len(unique_rules) == len(field_names):\\n            return [rule.name for rule in unique_rules]\\n\\n        for i in range(len(field_names)):\\n            if len(candidates[i]) > 1:\\n                cand = [rule for rule in candidates[i] if rule not in unique_rules]\\n                candidates[i] = cand\\n    return []\";\n",
       "                var nbb_formatted_code = \"def identify_fields(problem: Problem) -> List[str]:\\n    all_tickets = [problem.my_ticket] + problem.nearby_tickets\\n    field_names = [rule.name for rule in problem.rules]\\n    candidates = [\\n        [\\n            rule\\n            for rule in problem.rules\\n            if all(rule.is_valid(t[i]) for t in all_tickets)\\n        ]\\n        for i in range(len(field_names))\\n    ]\\n\\n    while True:\\n        unique_rules = [rule for cand in candidates if len(cand) == 1 for rule in cand]\\n        if len(unique_rules) == len(field_names):\\n            return [rule.name for rule in unique_rules]\\n\\n        for i in range(len(field_names)):\\n            if len(candidates[i]) > 1:\\n                cand = [rule for rule in candidates[i] if rule not in unique_rules]\\n                candidates[i] = cand\\n    return []\";\n",
       "                var nbb_cells = Jupyter.notebook.get_cells();\n",
       "                for (var i = 0; i < nbb_cells.length; ++i) {\n",
       "                    if (nbb_cells[i].input_prompt_number == nbb_cell_id) {\n",
       "                        if (nbb_cells[i].get_text() == nbb_unformatted_code) {\n",
       "                             nbb_cells[i].set_text(nbb_formatted_code);\n",
       "                        }\n",
       "                        break;\n",
       "                    }\n",
       "                }\n",
       "            }, 500);\n",
       "            "
      ],
      "text/plain": [
       "<IPython.core.display.Javascript object>"
      ]
     },
     "metadata": {},
     "output_type": "display_data"
    }
   ],
   "source": [
    "def identify_fields(problem: Problem) -> List[str]:\n",
    "    all_tickets = [problem.my_ticket] + problem.nearby_tickets\n",
    "    field_names = [rule.name for rule in problem.rules]\n",
    "    candidates = [\n",
    "        [\n",
    "            rule\n",
    "            for rule in problem.rules\n",
    "            if all(rule.is_valid(t[i]) for t in all_tickets)\n",
    "        ]\n",
    "        for i in range(len(field_names))\n",
    "    ]\n",
    "\n",
    "    while True:\n",
    "        unique_rules = [rule for cand in candidates if len(cand) == 1 for rule in cand]\n",
    "        if len(unique_rules) == len(field_names):\n",
    "            return [rule.name for rule in unique_rules]\n",
    "\n",
    "        for i in range(len(field_names)):\n",
    "            if len(candidates[i]) > 1:\n",
    "                cand = [rule for rule in candidates[i] if rule not in unique_rules]\n",
    "                candidates[i] = cand\n",
    "    return []"
   ]
  },
  {
   "cell_type": "code",
   "execution_count": 20,
   "metadata": {},
   "outputs": [
    {
     "data": {
      "text/plain": [
       "['row', 'class', 'seat']"
      ]
     },
     "execution_count": 20,
     "metadata": {},
     "output_type": "execute_result"
    },
    {
     "data": {
      "application/javascript": [
       "\n",
       "            setTimeout(function() {\n",
       "                var nbb_cell_id = 20;\n",
       "                var nbb_unformatted_code = \"identify_fields(PROBLEM2)\";\n",
       "                var nbb_formatted_code = \"identify_fields(PROBLEM2)\";\n",
       "                var nbb_cells = Jupyter.notebook.get_cells();\n",
       "                for (var i = 0; i < nbb_cells.length; ++i) {\n",
       "                    if (nbb_cells[i].input_prompt_number == nbb_cell_id) {\n",
       "                        if (nbb_cells[i].get_text() == nbb_unformatted_code) {\n",
       "                             nbb_cells[i].set_text(nbb_formatted_code);\n",
       "                        }\n",
       "                        break;\n",
       "                    }\n",
       "                }\n",
       "            }, 500);\n",
       "            "
      ],
      "text/plain": [
       "<IPython.core.display.Javascript object>"
      ]
     },
     "metadata": {},
     "output_type": "display_data"
    }
   ],
   "source": [
    "identify_fields(PROBLEM2)"
   ]
  },
  {
   "cell_type": "code",
   "execution_count": 27,
   "metadata": {},
   "outputs": [
    {
     "data": {
      "text/plain": [
       "650080463519"
      ]
     },
     "execution_count": 27,
     "metadata": {},
     "output_type": "execute_result"
    },
    {
     "data": {
      "application/javascript": [
       "\n",
       "            setTimeout(function() {\n",
       "                var nbb_cell_id = 27;\n",
       "                var nbb_unformatted_code = \"with open(\\\"../input/day16.txt\\\") as f:\\n    raw = f.read().strip()\\nproblem = Problem.parse(raw)\\nproblem = problem.discard_invalid_tickets()\\nfields = identify_fields(problem)\\ndeparture_vals = [\\n    val for name, val in zip(fields, problem.my_ticket) if name.startswith(\\\"departure\\\")\\n]\\nassert len(departure_vals) == 6\\nmath.prod(departure_vals)\";\n",
       "                var nbb_formatted_code = \"with open(\\\"../input/day16.txt\\\") as f:\\n    raw = f.read().strip()\\nproblem = Problem.parse(raw)\\nproblem = problem.discard_invalid_tickets()\\nfields = identify_fields(problem)\\ndeparture_vals = [\\n    val for name, val in zip(fields, problem.my_ticket) if name.startswith(\\\"departure\\\")\\n]\\nassert len(departure_vals) == 6\\nmath.prod(departure_vals)\";\n",
       "                var nbb_cells = Jupyter.notebook.get_cells();\n",
       "                for (var i = 0; i < nbb_cells.length; ++i) {\n",
       "                    if (nbb_cells[i].input_prompt_number == nbb_cell_id) {\n",
       "                        if (nbb_cells[i].get_text() == nbb_unformatted_code) {\n",
       "                             nbb_cells[i].set_text(nbb_formatted_code);\n",
       "                        }\n",
       "                        break;\n",
       "                    }\n",
       "                }\n",
       "            }, 500);\n",
       "            "
      ],
      "text/plain": [
       "<IPython.core.display.Javascript object>"
      ]
     },
     "metadata": {},
     "output_type": "display_data"
    }
   ],
   "source": [
    "with open(\"../input/day16.txt\") as f:\n",
    "    raw = f.read().strip()\n",
    "problem = Problem.parse(raw)\n",
    "problem = problem.discard_invalid_tickets()\n",
    "fields = identify_fields(problem)\n",
    "departure_vals = [\n",
    "    val for name, val in zip(fields, problem.my_ticket) if name.startswith(\"departure\")\n",
    "]\n",
    "assert len(departure_vals) == 6\n",
    "math.prod(departure_vals)"
   ]
  },
  {
   "cell_type": "code",
   "execution_count": null,
   "metadata": {},
   "outputs": [],
   "source": []
  }
 ],
 "metadata": {
  "kernelspec": {
   "display_name": "Python [conda env:ml] *",
   "language": "python",
   "name": "conda-env-ml-py"
  },
  "language_info": {
   "codemirror_mode": {
    "name": "ipython",
    "version": 3
   },
   "file_extension": ".py",
   "mimetype": "text/x-python",
   "name": "python",
   "nbconvert_exporter": "python",
   "pygments_lexer": "ipython3",
   "version": "3.8.6"
  }
 },
 "nbformat": 4,
 "nbformat_minor": 4
}
