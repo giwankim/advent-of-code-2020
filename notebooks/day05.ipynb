{
 "cells": [
  {
   "cell_type": "code",
   "execution_count": 1,
   "metadata": {},
   "outputs": [
    {
     "data": {
      "application/javascript": [
       "\n",
       "            setTimeout(function() {\n",
       "                var nbb_cell_id = 1;\n",
       "                var nbb_unformatted_code = \"%reload_ext nb_black\";\n",
       "                var nbb_formatted_code = \"%reload_ext nb_black\";\n",
       "                var nbb_cells = Jupyter.notebook.get_cells();\n",
       "                for (var i = 0; i < nbb_cells.length; ++i) {\n",
       "                    if (nbb_cells[i].input_prompt_number == nbb_cell_id) {\n",
       "                        if (nbb_cells[i].get_text() == nbb_unformatted_code) {\n",
       "                             nbb_cells[i].set_text(nbb_formatted_code);\n",
       "                        }\n",
       "                        break;\n",
       "                    }\n",
       "                }\n",
       "            }, 500);\n",
       "            "
      ],
      "text/plain": [
       "<IPython.core.display.Javascript object>"
      ]
     },
     "metadata": {},
     "output_type": "display_data"
    }
   ],
   "source": [
    "%reload_ext nb_black"
   ]
  },
  {
   "cell_type": "markdown",
   "metadata": {},
   "source": [
    "# Day 05"
   ]
  },
  {
   "cell_type": "code",
   "execution_count": 3,
   "metadata": {},
   "outputs": [
    {
     "data": {
      "application/javascript": [
       "\n",
       "            setTimeout(function() {\n",
       "                var nbb_cell_id = 3;\n",
       "                var nbb_unformatted_code = \"from __future__ import annotations\\nfrom typing import List, Dict, NamedTuple\\nimport math\";\n",
       "                var nbb_formatted_code = \"from __future__ import annotations\\nfrom typing import List, Dict, NamedTuple\\nimport math\";\n",
       "                var nbb_cells = Jupyter.notebook.get_cells();\n",
       "                for (var i = 0; i < nbb_cells.length; ++i) {\n",
       "                    if (nbb_cells[i].input_prompt_number == nbb_cell_id) {\n",
       "                        if (nbb_cells[i].get_text() == nbb_unformatted_code) {\n",
       "                             nbb_cells[i].set_text(nbb_formatted_code);\n",
       "                        }\n",
       "                        break;\n",
       "                    }\n",
       "                }\n",
       "            }, 500);\n",
       "            "
      ],
      "text/plain": [
       "<IPython.core.display.Javascript object>"
      ]
     },
     "metadata": {},
     "output_type": "display_data"
    }
   ],
   "source": [
    "from __future__ import annotations\n",
    "from typing import List, Dict, NamedTuple\n",
    "import math"
   ]
  },
  {
   "cell_type": "markdown",
   "metadata": {},
   "source": [
    "## Part One"
   ]
  },
  {
   "cell_type": "code",
   "execution_count": 14,
   "metadata": {},
   "outputs": [
    {
     "data": {
      "application/javascript": [
       "\n",
       "            setTimeout(function() {\n",
       "                var nbb_cell_id = 14;\n",
       "                var nbb_unformatted_code = \"class BoardingPass(NamedTuple):\\n    seatid: int\\n\\n    @staticmethod\\n    def from_line(line: str) -> BoardingPass:\\n        lo = 0\\n        hi = 127\\n        for c in line[:7]:\\n            mid = lo + (hi - lo) // 2\\n            if c == \\\"F\\\":\\n                hi = mid\\n            elif c == \\\"B\\\":\\n                lo = mid + 1\\n        row = lo\\n\\n        lo = 0\\n        hi = 7\\n        for c in line[-3:]:\\n            mid = lo + (hi - lo) // 2\\n            if c == \\\"R\\\":\\n                lo = mid + 1\\n            elif c == \\\"L\\\":\\n                hi = mid\\n        col = lo\\n#         print(row, col)\\n        seatid = row * 8 + col\\n        return BoardingPass(seatid)\";\n",
       "                var nbb_formatted_code = \"class BoardingPass(NamedTuple):\\n    seatid: int\\n\\n    @staticmethod\\n    def from_line(line: str) -> BoardingPass:\\n        lo = 0\\n        hi = 127\\n        for c in line[:7]:\\n            mid = lo + (hi - lo) // 2\\n            if c == \\\"F\\\":\\n                hi = mid\\n            elif c == \\\"B\\\":\\n                lo = mid + 1\\n        row = lo\\n\\n        lo = 0\\n        hi = 7\\n        for c in line[-3:]:\\n            mid = lo + (hi - lo) // 2\\n            if c == \\\"R\\\":\\n                lo = mid + 1\\n            elif c == \\\"L\\\":\\n                hi = mid\\n        col = lo\\n        #         print(row, col)\\n        seatid = row * 8 + col\\n        return BoardingPass(seatid)\";\n",
       "                var nbb_cells = Jupyter.notebook.get_cells();\n",
       "                for (var i = 0; i < nbb_cells.length; ++i) {\n",
       "                    if (nbb_cells[i].input_prompt_number == nbb_cell_id) {\n",
       "                        if (nbb_cells[i].get_text() == nbb_unformatted_code) {\n",
       "                             nbb_cells[i].set_text(nbb_formatted_code);\n",
       "                        }\n",
       "                        break;\n",
       "                    }\n",
       "                }\n",
       "            }, 500);\n",
       "            "
      ],
      "text/plain": [
       "<IPython.core.display.Javascript object>"
      ]
     },
     "metadata": {},
     "output_type": "display_data"
    }
   ],
   "source": [
    "class BoardingPass(NamedTuple):\n",
    "    row: int\n",
    "    col: int\n",
    "        \n",
    "    @property\n",
    "    def seatid(self) -> int:\n",
    "        return 8 * self.row + self.col\n",
    "\n",
    "    @staticmethod\n",
    "    def from_line(line: str) -> BoardingPass:\n",
    "        lo = 0\n",
    "        hi = 127\n",
    "        for c in line[:7]:\n",
    "            mid = lo + (hi - lo) // 2\n",
    "            if c == \"F\":\n",
    "                hi = mid\n",
    "            elif c == \"B\":\n",
    "                lo = mid + 1\n",
    "        row = lo\n",
    "\n",
    "        lo = 0\n",
    "        hi = 7\n",
    "        for c in line[-3:]:\n",
    "            mid = lo + (hi - lo) // 2\n",
    "            if c == \"R\":\n",
    "                lo = mid + 1\n",
    "            elif c == \"L\":\n",
    "                hi = mid\n",
    "        col = lo\n",
    "        #         print(row, col)\n",
    "        seatid = row * 8 + col\n",
    "        return BoardingPass(seatid)"
   ]
  },
  {
   "cell_type": "code",
   "execution_count": 15,
   "metadata": {},
   "outputs": [
    {
     "data": {
      "application/javascript": [
       "\n",
       "            setTimeout(function() {\n",
       "                var nbb_cell_id = 15;\n",
       "                var nbb_unformatted_code = \"assert BoardingPass.from_line(\\\"BFFFBBFRRR\\\").seatid == 567\";\n",
       "                var nbb_formatted_code = \"assert BoardingPass.from_line(\\\"BFFFBBFRRR\\\").seatid == 567\";\n",
       "                var nbb_cells = Jupyter.notebook.get_cells();\n",
       "                for (var i = 0; i < nbb_cells.length; ++i) {\n",
       "                    if (nbb_cells[i].input_prompt_number == nbb_cell_id) {\n",
       "                        if (nbb_cells[i].get_text() == nbb_unformatted_code) {\n",
       "                             nbb_cells[i].set_text(nbb_formatted_code);\n",
       "                        }\n",
       "                        break;\n",
       "                    }\n",
       "                }\n",
       "            }, 500);\n",
       "            "
      ],
      "text/plain": [
       "<IPython.core.display.Javascript object>"
      ]
     },
     "metadata": {},
     "output_type": "display_data"
    }
   ],
   "source": [
    "assert BoardingPass.from_line(\"BFFFBBFRRR\").seatid == 567\n",
    "assert BoardingPass.from_line(\"FFFBBBFRRR\").seatid == 119\n",
    "assert BoardingPass.from_line(\"BBFFBBFRLL\").seatid == 820"
   ]
  },
  {
   "cell_type": "code",
   "execution_count": 18,
   "metadata": {},
   "outputs": [
    {
     "data": {
      "text/plain": [
       "959"
      ]
     },
     "execution_count": 18,
     "metadata": {},
     "output_type": "execute_result"
    },
    {
     "data": {
      "application/javascript": [
       "\n",
       "            setTimeout(function() {\n",
       "                var nbb_cell_id = 18;\n",
       "                var nbb_unformatted_code = \"with open(\\\"../input/day05.txt\\\") as f:\\n    passes = [BoardingPass.from_line(line.strip()) for line in f]\\nmax(p.seatid for p in passes)\";\n",
       "                var nbb_formatted_code = \"with open(\\\"../input/day05.txt\\\") as f:\\n    passes = [BoardingPass.from_line(line.strip()) for line in f]\\nmax(p.seatid for p in passes)\";\n",
       "                var nbb_cells = Jupyter.notebook.get_cells();\n",
       "                for (var i = 0; i < nbb_cells.length; ++i) {\n",
       "                    if (nbb_cells[i].input_prompt_number == nbb_cell_id) {\n",
       "                        if (nbb_cells[i].get_text() == nbb_unformatted_code) {\n",
       "                             nbb_cells[i].set_text(nbb_formatted_code);\n",
       "                        }\n",
       "                        break;\n",
       "                    }\n",
       "                }\n",
       "            }, 500);\n",
       "            "
      ],
      "text/plain": [
       "<IPython.core.display.Javascript object>"
      ]
     },
     "metadata": {},
     "output_type": "display_data"
    }
   ],
   "source": [
    "with open(\"../input/day05.txt\") as f:\n",
    "    passes = [BoardingPass.from_line(line.strip()) for line in f]\n",
    "max(p.seatid for p in passes)"
   ]
  },
  {
   "cell_type": "markdown",
   "metadata": {},
   "source": [
    "## Part Two"
   ]
  },
  {
   "cell_type": "code",
   "execution_count": 20,
   "metadata": {},
   "outputs": [
    {
     "data": {
      "application/javascript": [
       "\n",
       "            setTimeout(function() {\n",
       "                var nbb_cell_id = 20;\n",
       "                var nbb_unformatted_code = \"ids = [p.seatid for p in passes]\\nids = list(sorted(ids))\";\n",
       "                var nbb_formatted_code = \"ids = [p.seatid for p in passes]\\nids = list(sorted(ids))\";\n",
       "                var nbb_cells = Jupyter.notebook.get_cells();\n",
       "                for (var i = 0; i < nbb_cells.length; ++i) {\n",
       "                    if (nbb_cells[i].input_prompt_number == nbb_cell_id) {\n",
       "                        if (nbb_cells[i].get_text() == nbb_unformatted_code) {\n",
       "                             nbb_cells[i].set_text(nbb_formatted_code);\n",
       "                        }\n",
       "                        break;\n",
       "                    }\n",
       "                }\n",
       "            }, 500);\n",
       "            "
      ],
      "text/plain": [
       "<IPython.core.display.Javascript object>"
      ]
     },
     "metadata": {},
     "output_type": "display_data"
    }
   ],
   "source": [
    "ids = [p.seatid for p in passes]\n",
    "ids = list(sorted(ids))"
   ]
  },
  {
   "cell_type": "code",
   "execution_count": 22,
   "metadata": {},
   "outputs": [
    {
     "name": "stdout",
     "output_type": "stream",
     "text": [
      "527\n"
     ]
    },
    {
     "data": {
      "application/javascript": [
       "\n",
       "            setTimeout(function() {\n",
       "                var nbb_cell_id = 22;\n",
       "                var nbb_unformatted_code = \"for i in range(min(ids), max(ids)+1):\\n    if i not in ids:\\n        print(i)\";\n",
       "                var nbb_formatted_code = \"for i in range(min(ids), max(ids) + 1):\\n    if i not in ids:\\n        print(i)\";\n",
       "                var nbb_cells = Jupyter.notebook.get_cells();\n",
       "                for (var i = 0; i < nbb_cells.length; ++i) {\n",
       "                    if (nbb_cells[i].input_prompt_number == nbb_cell_id) {\n",
       "                        if (nbb_cells[i].get_text() == nbb_unformatted_code) {\n",
       "                             nbb_cells[i].set_text(nbb_formatted_code);\n",
       "                        }\n",
       "                        break;\n",
       "                    }\n",
       "                }\n",
       "            }, 500);\n",
       "            "
      ],
      "text/plain": [
       "<IPython.core.display.Javascript object>"
      ]
     },
     "metadata": {},
     "output_type": "display_data"
    }
   ],
   "source": [
    "for i in range(min(ids), max(ids) + 1):\n",
    "    if i not in ids:\n",
    "        print(i)"
   ]
  },
  {
   "cell_type": "code",
   "execution_count": null,
   "metadata": {},
   "outputs": [],
   "source": []
  },
  {
   "cell_type": "code",
   "execution_count": null,
   "metadata": {},
   "outputs": [],
   "source": []
  },
  {
   "cell_type": "code",
   "execution_count": null,
   "metadata": {},
   "outputs": [],
   "source": []
  }
 ],
 "metadata": {
  "kernelspec": {
   "display_name": "Python [conda env:ml] *",
   "language": "python",
   "name": "conda-env-ml-py"
  },
  "language_info": {
   "codemirror_mode": {
    "name": "ipython",
    "version": 3
   },
   "file_extension": ".py",
   "mimetype": "text/x-python",
   "name": "python",
   "nbconvert_exporter": "python",
   "pygments_lexer": "ipython3",
   "version": "3.7.8"
  }
 },
 "nbformat": 4,
 "nbformat_minor": 4
}
