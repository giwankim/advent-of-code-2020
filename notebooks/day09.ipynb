{
 "cells": [
  {
   "cell_type": "code",
   "execution_count": 2,
   "metadata": {},
   "outputs": [
    {
     "data": {
      "application/javascript": [
       "\n",
       "            setTimeout(function() {\n",
       "                var nbb_cell_id = 2;\n",
       "                var nbb_unformatted_code = \"%reload_ext nb_black\";\n",
       "                var nbb_formatted_code = \"%reload_ext nb_black\";\n",
       "                var nbb_cells = Jupyter.notebook.get_cells();\n",
       "                for (var i = 0; i < nbb_cells.length; ++i) {\n",
       "                    if (nbb_cells[i].input_prompt_number == nbb_cell_id) {\n",
       "                        if (nbb_cells[i].get_text() == nbb_unformatted_code) {\n",
       "                             nbb_cells[i].set_text(nbb_formatted_code);\n",
       "                        }\n",
       "                        break;\n",
       "                    }\n",
       "                }\n",
       "            }, 500);\n",
       "            "
      ],
      "text/plain": [
       "<IPython.core.display.Javascript object>"
      ]
     },
     "metadata": {},
     "output_type": "display_data"
    },
    {
     "data": {
      "application/javascript": [
       "\n",
       "            setTimeout(function() {\n",
       "                var nbb_cell_id = 2;\n",
       "                var nbb_unformatted_code = \"%reload_ext nb_black\";\n",
       "                var nbb_formatted_code = \"%reload_ext nb_black\";\n",
       "                var nbb_cells = Jupyter.notebook.get_cells();\n",
       "                for (var i = 0; i < nbb_cells.length; ++i) {\n",
       "                    if (nbb_cells[i].input_prompt_number == nbb_cell_id) {\n",
       "                        if (nbb_cells[i].get_text() == nbb_unformatted_code) {\n",
       "                             nbb_cells[i].set_text(nbb_formatted_code);\n",
       "                        }\n",
       "                        break;\n",
       "                    }\n",
       "                }\n",
       "            }, 500);\n",
       "            "
      ],
      "text/plain": [
       "<IPython.core.display.Javascript object>"
      ]
     },
     "metadata": {},
     "output_type": "display_data"
    }
   ],
   "source": [
    "%reload_ext nb_black"
   ]
  },
  {
   "cell_type": "markdown",
   "metadata": {},
   "source": [
    "# Day 09"
   ]
  },
  {
   "cell_type": "code",
   "execution_count": 43,
   "metadata": {},
   "outputs": [
    {
     "data": {
      "application/javascript": [
       "\n",
       "            setTimeout(function() {\n",
       "                var nbb_cell_id = 43;\n",
       "                var nbb_unformatted_code = \"from __future__ import annotations\\nfrom typing import Dict, List, NamedTuple, Tuple, Iterator\\nfrom collections import deque\";\n",
       "                var nbb_formatted_code = \"from __future__ import annotations\\nfrom typing import Dict, List, NamedTuple, Tuple, Iterator\\nfrom collections import deque\";\n",
       "                var nbb_cells = Jupyter.notebook.get_cells();\n",
       "                for (var i = 0; i < nbb_cells.length; ++i) {\n",
       "                    if (nbb_cells[i].input_prompt_number == nbb_cell_id) {\n",
       "                        if (nbb_cells[i].get_text() == nbb_unformatted_code) {\n",
       "                             nbb_cells[i].set_text(nbb_formatted_code);\n",
       "                        }\n",
       "                        break;\n",
       "                    }\n",
       "                }\n",
       "            }, 500);\n",
       "            "
      ],
      "text/plain": [
       "<IPython.core.display.Javascript object>"
      ]
     },
     "metadata": {},
     "output_type": "display_data"
    },
    {
     "data": {
      "application/javascript": [
       "\n",
       "            setTimeout(function() {\n",
       "                var nbb_cell_id = 43;\n",
       "                var nbb_unformatted_code = \"from __future__ import annotations\\nfrom typing import Dict, List, NamedTuple, Tuple, Iterator\\nfrom collections import deque\";\n",
       "                var nbb_formatted_code = \"from __future__ import annotations\\nfrom typing import Dict, List, NamedTuple, Tuple, Iterator\\nfrom collections import deque\";\n",
       "                var nbb_cells = Jupyter.notebook.get_cells();\n",
       "                for (var i = 0; i < nbb_cells.length; ++i) {\n",
       "                    if (nbb_cells[i].input_prompt_number == nbb_cell_id) {\n",
       "                        if (nbb_cells[i].get_text() == nbb_unformatted_code) {\n",
       "                             nbb_cells[i].set_text(nbb_formatted_code);\n",
       "                        }\n",
       "                        break;\n",
       "                    }\n",
       "                }\n",
       "            }, 500);\n",
       "            "
      ],
      "text/plain": [
       "<IPython.core.display.Javascript object>"
      ]
     },
     "metadata": {},
     "output_type": "display_data"
    }
   ],
   "source": [
    "from __future__ import annotations\n",
    "from typing import Dict, List, NamedTuple, Tuple, Iterator\n",
    "from collections import deque"
   ]
  },
  {
   "cell_type": "markdown",
   "metadata": {},
   "source": [
    "## Part One"
   ]
  },
  {
   "cell_type": "code",
   "execution_count": 44,
   "metadata": {},
   "outputs": [
    {
     "data": {
      "application/javascript": [
       "\n",
       "            setTimeout(function() {\n",
       "                var nbb_cell_id = 44;\n",
       "                var nbb_unformatted_code = \"RAW = \\\"\\\"\\\"35\\n20\\n15\\n25\\n47\\n40\\n62\\n55\\n65\\n95\\n102\\n117\\n150\\n182\\n127\\n219\\n299\\n277\\n309\\n576\\\"\\\"\\\"\\nPREAMBLE = 5\";\n",
       "                var nbb_formatted_code = \"RAW = \\\"\\\"\\\"35\\n20\\n15\\n25\\n47\\n40\\n62\\n55\\n65\\n95\\n102\\n117\\n150\\n182\\n127\\n219\\n299\\n277\\n309\\n576\\\"\\\"\\\"\\nPREAMBLE = 5\";\n",
       "                var nbb_cells = Jupyter.notebook.get_cells();\n",
       "                for (var i = 0; i < nbb_cells.length; ++i) {\n",
       "                    if (nbb_cells[i].input_prompt_number == nbb_cell_id) {\n",
       "                        if (nbb_cells[i].get_text() == nbb_unformatted_code) {\n",
       "                             nbb_cells[i].set_text(nbb_formatted_code);\n",
       "                        }\n",
       "                        break;\n",
       "                    }\n",
       "                }\n",
       "            }, 500);\n",
       "            "
      ],
      "text/plain": [
       "<IPython.core.display.Javascript object>"
      ]
     },
     "metadata": {},
     "output_type": "display_data"
    },
    {
     "data": {
      "application/javascript": [
       "\n",
       "            setTimeout(function() {\n",
       "                var nbb_cell_id = 44;\n",
       "                var nbb_unformatted_code = \"RAW = \\\"\\\"\\\"35\\n20\\n15\\n25\\n47\\n40\\n62\\n55\\n65\\n95\\n102\\n117\\n150\\n182\\n127\\n219\\n299\\n277\\n309\\n576\\\"\\\"\\\"\\nPREAMBLE = 5\";\n",
       "                var nbb_formatted_code = \"RAW = \\\"\\\"\\\"35\\n20\\n15\\n25\\n47\\n40\\n62\\n55\\n65\\n95\\n102\\n117\\n150\\n182\\n127\\n219\\n299\\n277\\n309\\n576\\\"\\\"\\\"\\nPREAMBLE = 5\";\n",
       "                var nbb_cells = Jupyter.notebook.get_cells();\n",
       "                for (var i = 0; i < nbb_cells.length; ++i) {\n",
       "                    if (nbb_cells[i].input_prompt_number == nbb_cell_id) {\n",
       "                        if (nbb_cells[i].get_text() == nbb_unformatted_code) {\n",
       "                             nbb_cells[i].set_text(nbb_formatted_code);\n",
       "                        }\n",
       "                        break;\n",
       "                    }\n",
       "                }\n",
       "            }, 500);\n",
       "            "
      ],
      "text/plain": [
       "<IPython.core.display.Javascript object>"
      ]
     },
     "metadata": {},
     "output_type": "display_data"
    }
   ],
   "source": [
    "RAW = \"\"\"35\n",
    "20\n",
    "15\n",
    "25\n",
    "47\n",
    "40\n",
    "62\n",
    "55\n",
    "65\n",
    "95\n",
    "102\n",
    "117\n",
    "150\n",
    "182\n",
    "127\n",
    "219\n",
    "299\n",
    "277\n",
    "309\n",
    "576\"\"\"\n",
    "PREAMBLE = 5"
   ]
  },
  {
   "cell_type": "code",
   "execution_count": 45,
   "metadata": {},
   "outputs": [
    {
     "data": {
      "application/javascript": [
       "\n",
       "            setTimeout(function() {\n",
       "                var nbb_cell_id = 45;\n",
       "                var nbb_unformatted_code = \"def parse(raw: str) -> List[int]:\\n    raw = raw.strip()\\n    arr = raw.split(\\\"\\\\n\\\")\\n    arr = list(map(int, arr))\\n    return arr\";\n",
       "                var nbb_formatted_code = \"def parse(raw: str) -> List[int]:\\n    raw = raw.strip()\\n    arr = raw.split(\\\"\\\\n\\\")\\n    arr = list(map(int, arr))\\n    return arr\";\n",
       "                var nbb_cells = Jupyter.notebook.get_cells();\n",
       "                for (var i = 0; i < nbb_cells.length; ++i) {\n",
       "                    if (nbb_cells[i].input_prompt_number == nbb_cell_id) {\n",
       "                        if (nbb_cells[i].get_text() == nbb_unformatted_code) {\n",
       "                             nbb_cells[i].set_text(nbb_formatted_code);\n",
       "                        }\n",
       "                        break;\n",
       "                    }\n",
       "                }\n",
       "            }, 500);\n",
       "            "
      ],
      "text/plain": [
       "<IPython.core.display.Javascript object>"
      ]
     },
     "metadata": {},
     "output_type": "display_data"
    },
    {
     "data": {
      "application/javascript": [
       "\n",
       "            setTimeout(function() {\n",
       "                var nbb_cell_id = 45;\n",
       "                var nbb_unformatted_code = \"def parse(raw: str) -> List[int]:\\n    raw = raw.strip()\\n    arr = raw.split(\\\"\\\\n\\\")\\n    arr = list(map(int, arr))\\n    return arr\";\n",
       "                var nbb_formatted_code = \"def parse(raw: str) -> List[int]:\\n    raw = raw.strip()\\n    arr = raw.split(\\\"\\\\n\\\")\\n    arr = list(map(int, arr))\\n    return arr\";\n",
       "                var nbb_cells = Jupyter.notebook.get_cells();\n",
       "                for (var i = 0; i < nbb_cells.length; ++i) {\n",
       "                    if (nbb_cells[i].input_prompt_number == nbb_cell_id) {\n",
       "                        if (nbb_cells[i].get_text() == nbb_unformatted_code) {\n",
       "                             nbb_cells[i].set_text(nbb_formatted_code);\n",
       "                        }\n",
       "                        break;\n",
       "                    }\n",
       "                }\n",
       "            }, 500);\n",
       "            "
      ],
      "text/plain": [
       "<IPython.core.display.Javascript object>"
      ]
     },
     "metadata": {},
     "output_type": "display_data"
    }
   ],
   "source": [
    "def parse(raw: str) -> List[int]:\n",
    "    raw = raw.strip()\n",
    "    arr = raw.split(\"\\n\")\n",
    "    arr = list(map(int, arr))\n",
    "    return arr"
   ]
  },
  {
   "cell_type": "code",
   "execution_count": 46,
   "metadata": {},
   "outputs": [
    {
     "data": {
      "application/javascript": [
       "\n",
       "            setTimeout(function() {\n",
       "                var nbb_cell_id = 46;\n",
       "                var nbb_unformatted_code = \"def is_twosum(target: int, q: deque):\\n    check = set()\\n    for x in q:\\n        if target - x in q:\\n            return True\\n        else:\\n            check.add(x)\\n    return False\\n\\n\\ndef find_first_not_twosum(arr: List[int], n=20) -> Iterator[int]:\\n    q = deque()\\n    q.extend(arr[:n])\\n    for i in range(n, len(arr)):\\n        if not is_twosum(arr[i], q):\\n             yield arr[i]\\n        q.append(arr[i])\\n        q.popleft()\\n    raise RuntimeError(\\\"all numbers are sum of two numbers!\\\")\";\n",
       "                var nbb_formatted_code = \"def is_twosum(target: int, q: deque):\\n    check = set()\\n    for x in q:\\n        if target - x in q:\\n            return True\\n        else:\\n            check.add(x)\\n    return False\\n\\n\\ndef find_first_not_twosum(arr: List[int], n=20) -> Iterator[int]:\\n    q = deque()\\n    q.extend(arr[:n])\\n    for i in range(n, len(arr)):\\n        if not is_twosum(arr[i], q):\\n            yield arr[i]\\n        q.append(arr[i])\\n        q.popleft()\\n    raise RuntimeError(\\\"all numbers are sum of two numbers!\\\")\";\n",
       "                var nbb_cells = Jupyter.notebook.get_cells();\n",
       "                for (var i = 0; i < nbb_cells.length; ++i) {\n",
       "                    if (nbb_cells[i].input_prompt_number == nbb_cell_id) {\n",
       "                        if (nbb_cells[i].get_text() == nbb_unformatted_code) {\n",
       "                             nbb_cells[i].set_text(nbb_formatted_code);\n",
       "                        }\n",
       "                        break;\n",
       "                    }\n",
       "                }\n",
       "            }, 500);\n",
       "            "
      ],
      "text/plain": [
       "<IPython.core.display.Javascript object>"
      ]
     },
     "metadata": {},
     "output_type": "display_data"
    },
    {
     "data": {
      "application/javascript": [
       "\n",
       "            setTimeout(function() {\n",
       "                var nbb_cell_id = 46;\n",
       "                var nbb_unformatted_code = \"def is_twosum(target: int, q: deque):\\n    check = set()\\n    for x in q:\\n        if target - x in q:\\n            return True\\n        else:\\n            check.add(x)\\n    return False\\n\\n\\ndef find_first_not_twosum(arr: List[int], n=20) -> Iterator[int]:\\n    q = deque()\\n    q.extend(arr[:n])\\n    for i in range(n, len(arr)):\\n        if not is_twosum(arr[i], q):\\n             yield arr[i]\\n        q.append(arr[i])\\n        q.popleft()\\n    raise RuntimeError(\\\"all numbers are sum of two numbers!\\\")\";\n",
       "                var nbb_formatted_code = \"def is_twosum(target: int, q: deque):\\n    check = set()\\n    for x in q:\\n        if target - x in q:\\n            return True\\n        else:\\n            check.add(x)\\n    return False\\n\\n\\ndef find_first_not_twosum(arr: List[int], n=20) -> Iterator[int]:\\n    q = deque()\\n    q.extend(arr[:n])\\n    for i in range(n, len(arr)):\\n        if not is_twosum(arr[i], q):\\n            yield arr[i]\\n        q.append(arr[i])\\n        q.popleft()\\n    raise RuntimeError(\\\"all numbers are sum of two numbers!\\\")\";\n",
       "                var nbb_cells = Jupyter.notebook.get_cells();\n",
       "                for (var i = 0; i < nbb_cells.length; ++i) {\n",
       "                    if (nbb_cells[i].input_prompt_number == nbb_cell_id) {\n",
       "                        if (nbb_cells[i].get_text() == nbb_unformatted_code) {\n",
       "                             nbb_cells[i].set_text(nbb_formatted_code);\n",
       "                        }\n",
       "                        break;\n",
       "                    }\n",
       "                }\n",
       "            }, 500);\n",
       "            "
      ],
      "text/plain": [
       "<IPython.core.display.Javascript object>"
      ]
     },
     "metadata": {},
     "output_type": "display_data"
    }
   ],
   "source": [
    "def is_twosum(target: int, q: deque) -> bool:\n",
    "    check = set()\n",
    "    for x in q:\n",
    "        if target - x in q:\n",
    "            return True\n",
    "        else:\n",
    "            check.add(x)\n",
    "    return False\n",
    "\n",
    "\n",
    "def find_first_not_twosum(arr: List[int], n=20) -> Iterator[int]:\n",
    "    q = deque()\n",
    "    q.extend(arr[:n])\n",
    "    for i in range(n, len(arr)):\n",
    "        if not is_twosum(arr[i], q):\n",
    "            yield arr[i]\n",
    "        q.append(arr[i])\n",
    "        q.popleft()\n",
    "    raise RuntimeError(\"all numbers are sum of two numbers!\")"
   ]
  },
  {
   "cell_type": "code",
   "execution_count": 50,
   "metadata": {},
   "outputs": [
    {
     "data": {
      "application/javascript": [
       "\n",
       "            setTimeout(function() {\n",
       "                var nbb_cell_id = 50;\n",
       "                var nbb_unformatted_code = \"arr = parse(RAW)\\nassert next(find_first_not_twosum(arr, n=PREAMBLE)) == 127\";\n",
       "                var nbb_formatted_code = \"arr = parse(RAW)\\nassert next(find_first_not_twosum(arr, n=PREAMBLE)) == 127\";\n",
       "                var nbb_cells = Jupyter.notebook.get_cells();\n",
       "                for (var i = 0; i < nbb_cells.length; ++i) {\n",
       "                    if (nbb_cells[i].input_prompt_number == nbb_cell_id) {\n",
       "                        if (nbb_cells[i].get_text() == nbb_unformatted_code) {\n",
       "                             nbb_cells[i].set_text(nbb_formatted_code);\n",
       "                        }\n",
       "                        break;\n",
       "                    }\n",
       "                }\n",
       "            }, 500);\n",
       "            "
      ],
      "text/plain": [
       "<IPython.core.display.Javascript object>"
      ]
     },
     "metadata": {},
     "output_type": "display_data"
    },
    {
     "data": {
      "application/javascript": [
       "\n",
       "            setTimeout(function() {\n",
       "                var nbb_cell_id = 50;\n",
       "                var nbb_unformatted_code = \"arr = parse(RAW)\\nassert next(find_first_not_twosum(arr, n=PREAMBLE)) == 127\";\n",
       "                var nbb_formatted_code = \"arr = parse(RAW)\\nassert next(find_first_not_twosum(arr, n=PREAMBLE)) == 127\";\n",
       "                var nbb_cells = Jupyter.notebook.get_cells();\n",
       "                for (var i = 0; i < nbb_cells.length; ++i) {\n",
       "                    if (nbb_cells[i].input_prompt_number == nbb_cell_id) {\n",
       "                        if (nbb_cells[i].get_text() == nbb_unformatted_code) {\n",
       "                             nbb_cells[i].set_text(nbb_formatted_code);\n",
       "                        }\n",
       "                        break;\n",
       "                    }\n",
       "                }\n",
       "            }, 500);\n",
       "            "
      ],
      "text/plain": [
       "<IPython.core.display.Javascript object>"
      ]
     },
     "metadata": {},
     "output_type": "display_data"
    }
   ],
   "source": [
    "arr = parse(RAW)\n",
    "assert next(find_first_not_twosum(arr, n=PREAMBLE)) == 127"
   ]
  },
  {
   "cell_type": "code",
   "execution_count": 51,
   "metadata": {},
   "outputs": [
    {
     "name": "stdout",
     "output_type": "stream",
     "text": [
      "466456641\n"
     ]
    },
    {
     "data": {
      "application/javascript": [
       "\n",
       "            setTimeout(function() {\n",
       "                var nbb_cell_id = 51;\n",
       "                var nbb_unformatted_code = \"with open(\\\"../input/day09.txt\\\") as f:\\n    raw = f.read()\\n    arr = parse(raw)\\n    print(next(find_first_not_twosum(arr, n=25)))\";\n",
       "                var nbb_formatted_code = \"with open(\\\"../input/day09.txt\\\") as f:\\n    raw = f.read()\\n    arr = parse(raw)\\n    print(next(find_first_not_twosum(arr, n=25)))\";\n",
       "                var nbb_cells = Jupyter.notebook.get_cells();\n",
       "                for (var i = 0; i < nbb_cells.length; ++i) {\n",
       "                    if (nbb_cells[i].input_prompt_number == nbb_cell_id) {\n",
       "                        if (nbb_cells[i].get_text() == nbb_unformatted_code) {\n",
       "                             nbb_cells[i].set_text(nbb_formatted_code);\n",
       "                        }\n",
       "                        break;\n",
       "                    }\n",
       "                }\n",
       "            }, 500);\n",
       "            "
      ],
      "text/plain": [
       "<IPython.core.display.Javascript object>"
      ]
     },
     "metadata": {},
     "output_type": "display_data"
    },
    {
     "data": {
      "application/javascript": [
       "\n",
       "            setTimeout(function() {\n",
       "                var nbb_cell_id = 51;\n",
       "                var nbb_unformatted_code = \"with open(\\\"../input/day09.txt\\\") as f:\\n    raw = f.read()\\n    arr = parse(raw)\\n    print(next(find_first_not_twosum(arr, n=25)))\";\n",
       "                var nbb_formatted_code = \"with open(\\\"../input/day09.txt\\\") as f:\\n    raw = f.read()\\n    arr = parse(raw)\\n    print(next(find_first_not_twosum(arr, n=25)))\";\n",
       "                var nbb_cells = Jupyter.notebook.get_cells();\n",
       "                for (var i = 0; i < nbb_cells.length; ++i) {\n",
       "                    if (nbb_cells[i].input_prompt_number == nbb_cell_id) {\n",
       "                        if (nbb_cells[i].get_text() == nbb_unformatted_code) {\n",
       "                             nbb_cells[i].set_text(nbb_formatted_code);\n",
       "                        }\n",
       "                        break;\n",
       "                    }\n",
       "                }\n",
       "            }, 500);\n",
       "            "
      ],
      "text/plain": [
       "<IPython.core.display.Javascript object>"
      ]
     },
     "metadata": {},
     "output_type": "display_data"
    }
   ],
   "source": [
    "with open(\"../input/day09.txt\") as f:\n",
    "    raw = f.read()\n",
    "arr = parse(raw)\n",
    "print(next(find_first_not_twosum(arr, n=25)))"
   ]
  },
  {
   "cell_type": "markdown",
   "metadata": {},
   "source": [
    "## Part Two"
   ]
  },
  {
   "cell_type": "code",
   "execution_count": 57,
   "metadata": {},
   "outputs": [
    {
     "data": {
      "application/javascript": [
       "\n",
       "            setTimeout(function() {\n",
       "                var nbb_cell_id = 57;\n",
       "                var nbb_unformatted_code = \"def find_contiguos(arr: List[int], target: int) -> int:\\n    sums = [0] * (len(arr) + 1)\\n    for i in range(1, len(arr) + 1):\\n        sums[i] = sums[i - 1] + arr[i - 1]\\n    for i in range(len(sums)):\\n        for j in range(i + 1, len(sums)):\\n            if sums[j] - sums[i] == target:\\n                sub = arr[i:j]\\n                return min(sub) + max(sub)\\n    return -1\";\n",
       "                var nbb_formatted_code = \"def find_contiguos(arr: List[int], target: int) -> int:\\n    sums = [0] * (len(arr) + 1)\\n    for i in range(1, len(arr) + 1):\\n        sums[i] = sums[i - 1] + arr[i - 1]\\n    for i in range(len(sums)):\\n        for j in range(i + 1, len(sums)):\\n            if sums[j] - sums[i] == target:\\n                sub = arr[i:j]\\n                return min(sub) + max(sub)\\n    return -1\";\n",
       "                var nbb_cells = Jupyter.notebook.get_cells();\n",
       "                for (var i = 0; i < nbb_cells.length; ++i) {\n",
       "                    if (nbb_cells[i].input_prompt_number == nbb_cell_id) {\n",
       "                        if (nbb_cells[i].get_text() == nbb_unformatted_code) {\n",
       "                             nbb_cells[i].set_text(nbb_formatted_code);\n",
       "                        }\n",
       "                        break;\n",
       "                    }\n",
       "                }\n",
       "            }, 500);\n",
       "            "
      ],
      "text/plain": [
       "<IPython.core.display.Javascript object>"
      ]
     },
     "metadata": {},
     "output_type": "display_data"
    },
    {
     "data": {
      "application/javascript": [
       "\n",
       "            setTimeout(function() {\n",
       "                var nbb_cell_id = 57;\n",
       "                var nbb_unformatted_code = \"def find_contiguos(arr: List[int], target: int) -> int:\\n    sums = [0] * (len(arr) + 1)\\n    for i in range(1, len(arr) + 1):\\n        sums[i] = sums[i - 1] + arr[i - 1]\\n    for i in range(len(sums)):\\n        for j in range(i + 1, len(sums)):\\n            if sums[j] - sums[i] == target:\\n                sub = arr[i:j]\\n                return min(sub) + max(sub)\\n    return -1\";\n",
       "                var nbb_formatted_code = \"def find_contiguos(arr: List[int], target: int) -> int:\\n    sums = [0] * (len(arr) + 1)\\n    for i in range(1, len(arr) + 1):\\n        sums[i] = sums[i - 1] + arr[i - 1]\\n    for i in range(len(sums)):\\n        for j in range(i + 1, len(sums)):\\n            if sums[j] - sums[i] == target:\\n                sub = arr[i:j]\\n                return min(sub) + max(sub)\\n    return -1\";\n",
       "                var nbb_cells = Jupyter.notebook.get_cells();\n",
       "                for (var i = 0; i < nbb_cells.length; ++i) {\n",
       "                    if (nbb_cells[i].input_prompt_number == nbb_cell_id) {\n",
       "                        if (nbb_cells[i].get_text() == nbb_unformatted_code) {\n",
       "                             nbb_cells[i].set_text(nbb_formatted_code);\n",
       "                        }\n",
       "                        break;\n",
       "                    }\n",
       "                }\n",
       "            }, 500);\n",
       "            "
      ],
      "text/plain": [
       "<IPython.core.display.Javascript object>"
      ]
     },
     "metadata": {},
     "output_type": "display_data"
    }
   ],
   "source": [
    "def find_contiguos(arr: List[int], target: int) -> int:\n",
    "    sums = [0] * (len(arr) + 1)\n",
    "    for i in range(1, len(arr) + 1):\n",
    "        sums[i] = sums[i - 1] + arr[i - 1]\n",
    "    for i in range(len(sums)):\n",
    "        for j in range(i + 1, len(sums)):\n",
    "            if sums[j] - sums[i] == target:\n",
    "                sub = arr[i:j]\n",
    "                return min(sub) + max(sub)\n",
    "    return -1"
   ]
  },
  {
   "cell_type": "code",
   "execution_count": 61,
   "metadata": {},
   "outputs": [
    {
     "data": {
      "application/javascript": [
       "\n",
       "            setTimeout(function() {\n",
       "                var nbb_cell_id = 61;\n",
       "                var nbb_unformatted_code = \"arr = parse(RAW)\\ntarget = next(find_first_not_twosum(arr, PREAMBLE))\\nassert find_contiguos(arr, target) == 62\";\n",
       "                var nbb_formatted_code = \"arr = parse(RAW)\\ntarget = next(find_first_not_twosum(arr, PREAMBLE))\\nassert find_contiguos(arr, target) == 62\";\n",
       "                var nbb_cells = Jupyter.notebook.get_cells();\n",
       "                for (var i = 0; i < nbb_cells.length; ++i) {\n",
       "                    if (nbb_cells[i].input_prompt_number == nbb_cell_id) {\n",
       "                        if (nbb_cells[i].get_text() == nbb_unformatted_code) {\n",
       "                             nbb_cells[i].set_text(nbb_formatted_code);\n",
       "                        }\n",
       "                        break;\n",
       "                    }\n",
       "                }\n",
       "            }, 500);\n",
       "            "
      ],
      "text/plain": [
       "<IPython.core.display.Javascript object>"
      ]
     },
     "metadata": {},
     "output_type": "display_data"
    },
    {
     "data": {
      "application/javascript": [
       "\n",
       "            setTimeout(function() {\n",
       "                var nbb_cell_id = 61;\n",
       "                var nbb_unformatted_code = \"arr = parse(RAW)\\ntarget = next(find_first_not_twosum(arr, PREAMBLE))\\nassert find_contiguos(arr, target) == 62\";\n",
       "                var nbb_formatted_code = \"arr = parse(RAW)\\ntarget = next(find_first_not_twosum(arr, PREAMBLE))\\nassert find_contiguos(arr, target) == 62\";\n",
       "                var nbb_cells = Jupyter.notebook.get_cells();\n",
       "                for (var i = 0; i < nbb_cells.length; ++i) {\n",
       "                    if (nbb_cells[i].input_prompt_number == nbb_cell_id) {\n",
       "                        if (nbb_cells[i].get_text() == nbb_unformatted_code) {\n",
       "                             nbb_cells[i].set_text(nbb_formatted_code);\n",
       "                        }\n",
       "                        break;\n",
       "                    }\n",
       "                }\n",
       "            }, 500);\n",
       "            "
      ],
      "text/plain": [
       "<IPython.core.display.Javascript object>"
      ]
     },
     "metadata": {},
     "output_type": "display_data"
    }
   ],
   "source": [
    "arr = parse(RAW)\n",
    "target = next(find_first_not_twosum(arr, PREAMBLE))\n",
    "assert find_contiguos(arr, target) == 62"
   ]
  },
  {
   "cell_type": "code",
   "execution_count": 62,
   "metadata": {},
   "outputs": [
    {
     "name": "stdout",
     "output_type": "stream",
     "text": [
      "55732936\n"
     ]
    },
    {
     "data": {
      "application/javascript": [
       "\n",
       "            setTimeout(function() {\n",
       "                var nbb_cell_id = 62;\n",
       "                var nbb_unformatted_code = \"with open(\\\"../input/day09.txt\\\") as f:\\n    raw = f.read()\\narr = parse(raw)\\ntarget = next(find_first_not_twosum(arr, n=25))\\nprint(find_contiguos(arr, target))\";\n",
       "                var nbb_formatted_code = \"with open(\\\"../input/day09.txt\\\") as f:\\n    raw = f.read()\\narr = parse(raw)\\ntarget = next(find_first_not_twosum(arr, n=25))\\nprint(find_contiguos(arr, target))\";\n",
       "                var nbb_cells = Jupyter.notebook.get_cells();\n",
       "                for (var i = 0; i < nbb_cells.length; ++i) {\n",
       "                    if (nbb_cells[i].input_prompt_number == nbb_cell_id) {\n",
       "                        if (nbb_cells[i].get_text() == nbb_unformatted_code) {\n",
       "                             nbb_cells[i].set_text(nbb_formatted_code);\n",
       "                        }\n",
       "                        break;\n",
       "                    }\n",
       "                }\n",
       "            }, 500);\n",
       "            "
      ],
      "text/plain": [
       "<IPython.core.display.Javascript object>"
      ]
     },
     "metadata": {},
     "output_type": "display_data"
    },
    {
     "data": {
      "application/javascript": [
       "\n",
       "            setTimeout(function() {\n",
       "                var nbb_cell_id = 62;\n",
       "                var nbb_unformatted_code = \"with open(\\\"../input/day09.txt\\\") as f:\\n    raw = f.read()\\narr = parse(raw)\\ntarget = next(find_first_not_twosum(arr, n=25))\\nprint(find_contiguos(arr, target))\";\n",
       "                var nbb_formatted_code = \"with open(\\\"../input/day09.txt\\\") as f:\\n    raw = f.read()\\narr = parse(raw)\\ntarget = next(find_first_not_twosum(arr, n=25))\\nprint(find_contiguos(arr, target))\";\n",
       "                var nbb_cells = Jupyter.notebook.get_cells();\n",
       "                for (var i = 0; i < nbb_cells.length; ++i) {\n",
       "                    if (nbb_cells[i].input_prompt_number == nbb_cell_id) {\n",
       "                        if (nbb_cells[i].get_text() == nbb_unformatted_code) {\n",
       "                             nbb_cells[i].set_text(nbb_formatted_code);\n",
       "                        }\n",
       "                        break;\n",
       "                    }\n",
       "                }\n",
       "            }, 500);\n",
       "            "
      ],
      "text/plain": [
       "<IPython.core.display.Javascript object>"
      ]
     },
     "metadata": {},
     "output_type": "display_data"
    }
   ],
   "source": [
    "with open(\"../input/day09.txt\") as f:\n",
    "    raw = f.read()\n",
    "arr = parse(raw)\n",
    "target = next(find_first_not_twosum(arr, n=25))\n",
    "print(find_contiguos(arr, target))"
   ]
  },
  {
   "cell_type": "code",
   "execution_count": null,
   "metadata": {},
   "outputs": [],
   "source": []
  }
 ],
 "metadata": {
  "kernelspec": {
   "display_name": "Python [conda env:ml] *",
   "language": "python",
   "name": "conda-env-ml-py"
  },
  "language_info": {
   "codemirror_mode": {
    "name": "ipython",
    "version": 3
   },
   "file_extension": ".py",
   "mimetype": "text/x-python",
   "name": "python",
   "nbconvert_exporter": "python",
   "pygments_lexer": "ipython3",
   "version": "3.8.6"
  }
 },
 "nbformat": 4,
 "nbformat_minor": 4
}
