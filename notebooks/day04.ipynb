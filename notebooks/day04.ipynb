{
 "cells": [
  {
   "cell_type": "code",
   "execution_count": 1,
   "metadata": {},
   "outputs": [
    {
     "data": {
      "application/javascript": [
       "\n",
       "            setTimeout(function() {\n",
       "                var nbb_cell_id = 1;\n",
       "                var nbb_unformatted_code = \"%reload_ext nb_black\";\n",
       "                var nbb_formatted_code = \"%reload_ext nb_black\";\n",
       "                var nbb_cells = Jupyter.notebook.get_cells();\n",
       "                for (var i = 0; i < nbb_cells.length; ++i) {\n",
       "                    if (nbb_cells[i].input_prompt_number == nbb_cell_id) {\n",
       "                        if (nbb_cells[i].get_text() == nbb_unformatted_code) {\n",
       "                             nbb_cells[i].set_text(nbb_formatted_code);\n",
       "                        }\n",
       "                        break;\n",
       "                    }\n",
       "                }\n",
       "            }, 500);\n",
       "            "
      ],
      "text/plain": [
       "<IPython.core.display.Javascript object>"
      ]
     },
     "metadata": {},
     "output_type": "display_data"
    }
   ],
   "source": [
    "%reload_ext nb_black"
   ]
  },
  {
   "cell_type": "markdown",
   "metadata": {},
   "source": [
    "# Day04"
   ]
  },
  {
   "cell_type": "code",
   "execution_count": 4,
   "metadata": {},
   "outputs": [
    {
     "data": {
      "application/javascript": [
       "\n",
       "            setTimeout(function() {\n",
       "                var nbb_cell_id = 4;\n",
       "                var nbb_unformatted_code = \"from __future__ import annotations\\nfrom typing import List, Dict, NamedTuple\";\n",
       "                var nbb_formatted_code = \"from __future__ import annotations\\nfrom typing import List, Dict, NamedTuple\";\n",
       "                var nbb_cells = Jupyter.notebook.get_cells();\n",
       "                for (var i = 0; i < nbb_cells.length; ++i) {\n",
       "                    if (nbb_cells[i].input_prompt_number == nbb_cell_id) {\n",
       "                        if (nbb_cells[i].get_text() == nbb_unformatted_code) {\n",
       "                             nbb_cells[i].set_text(nbb_formatted_code);\n",
       "                        }\n",
       "                        break;\n",
       "                    }\n",
       "                }\n",
       "            }, 500);\n",
       "            "
      ],
      "text/plain": [
       "<IPython.core.display.Javascript object>"
      ]
     },
     "metadata": {},
     "output_type": "display_data"
    }
   ],
   "source": [
    "from __future__ import annotations\n",
    "from typing import List, Dict, NamedTuple"
   ]
  },
  {
   "cell_type": "markdown",
   "metadata": {},
   "source": [
    "## Part One"
   ]
  },
  {
   "cell_type": "code",
   "execution_count": 53,
   "metadata": {},
   "outputs": [
    {
     "data": {
      "application/javascript": [
       "\n",
       "            setTimeout(function() {\n",
       "                var nbb_cell_id = 53;\n",
       "                var nbb_unformatted_code = \"class Passport(NamedTuple):\\n    fields: dict\\n    all_keys: set = set(\\n        [\\n            \\\"byr\\\",\\n            \\\"iyr\\\",\\n            \\\"eyr\\\",\\n            \\\"hgt\\\",\\n            \\\"hcl\\\",\\n            \\\"ecl\\\",\\n            \\\"pid\\\",\\n            \\\"cid\\\",\\n        ]\\n    )\\n\\n    @staticmethod\\n    def from_data(data) -> Passport:\\n        pairs = data.split()\\n        return Passport(dict([pair.split(\\\":\\\") for pair in data.split()]))\\n\\n    def is_valid(self) -> bool:\\n        keys = set(self.fields.keys())\\n        return keys == self.all_keys or (self.all_keys.difference(keys) == set([\\\"cid\\\"]))\\n\\n    def is_valid2(self) -> bool:\\n        if not self.is_valid():\\n            return False\\n        if not 1920 <= int(self.fields[\\\"byr\\\"]) <= 2002:\\n            return False\\n        if not 2010 <= int(self.fields[\\\"iyr\\\"]) <= 2020:\\n            return False\\n        if not 2020 <= int(self.fields[\\\"eyr\\\"]) <= 2030:\\n            return False\\n        hgt = self.fields[\\\"hgt\\\"]\\n        if len(hgt) >= 2:\\n            if hgt[-2:] == \\\"cm\\\":\\n                if not 150 <= int(hgt[:-2]) <= 193:\\n                    return False\\n            elif hgt[-2:] == \\\"in\\\":\\n                if not 59 <= int(hgt[:-2]) <= 76:\\n                    return False\\n            else:\\n                return False\\n        else:\\n            return False\\n\\n        hcl = self.fields[\\\"hcl\\\"]\\n        if hcl[0] != \\\"#\\\":\\n            return False\\n        if len(hcl[1:]) != 6:\\n            return False\\n        for c in hcl[1:]:\\n            if c not in \\\"0123456789abcdef\\\":\\n                return False\\n\\n        if self.fields[\\\"ecl\\\"] not in [\\\"amb\\\", \\\"blu\\\", \\\"brn\\\", \\\"gry\\\", \\\"grn\\\", \\\"hzl\\\", \\\"oth\\\"]:\\n            return False\\n        if len(self.fields[\\\"pid\\\"]) != 9 or not self.fields[\\\"pid\\\"].isdigit():\\n            return False\\n        return True\";\n",
       "                var nbb_formatted_code = \"class Passport(NamedTuple):\\n    fields: dict\\n    all_keys: set = set(\\n        [\\n            \\\"byr\\\",\\n            \\\"iyr\\\",\\n            \\\"eyr\\\",\\n            \\\"hgt\\\",\\n            \\\"hcl\\\",\\n            \\\"ecl\\\",\\n            \\\"pid\\\",\\n            \\\"cid\\\",\\n        ]\\n    )\\n\\n    @staticmethod\\n    def from_data(data) -> Passport:\\n        pairs = data.split()\\n        return Passport(dict([pair.split(\\\":\\\") for pair in data.split()]))\\n\\n    def is_valid(self) -> bool:\\n        keys = set(self.fields.keys())\\n        return keys == self.all_keys or (self.all_keys.difference(keys) == set([\\\"cid\\\"]))\\n\\n    def is_valid2(self) -> bool:\\n        if not self.is_valid():\\n            return False\\n        if not 1920 <= int(self.fields[\\\"byr\\\"]) <= 2002:\\n            return False\\n        if not 2010 <= int(self.fields[\\\"iyr\\\"]) <= 2020:\\n            return False\\n        if not 2020 <= int(self.fields[\\\"eyr\\\"]) <= 2030:\\n            return False\\n        hgt = self.fields[\\\"hgt\\\"]\\n        if len(hgt) >= 2:\\n            if hgt[-2:] == \\\"cm\\\":\\n                if not 150 <= int(hgt[:-2]) <= 193:\\n                    return False\\n            elif hgt[-2:] == \\\"in\\\":\\n                if not 59 <= int(hgt[:-2]) <= 76:\\n                    return False\\n            else:\\n                return False\\n        else:\\n            return False\\n\\n        hcl = self.fields[\\\"hcl\\\"]\\n        if hcl[0] != \\\"#\\\":\\n            return False\\n        if len(hcl[1:]) != 6:\\n            return False\\n        for c in hcl[1:]:\\n            if c not in \\\"0123456789abcdef\\\":\\n                return False\\n\\n        if self.fields[\\\"ecl\\\"] not in [\\\"amb\\\", \\\"blu\\\", \\\"brn\\\", \\\"gry\\\", \\\"grn\\\", \\\"hzl\\\", \\\"oth\\\"]:\\n            return False\\n        if len(self.fields[\\\"pid\\\"]) != 9 or not self.fields[\\\"pid\\\"].isdigit():\\n            return False\\n        return True\";\n",
       "                var nbb_cells = Jupyter.notebook.get_cells();\n",
       "                for (var i = 0; i < nbb_cells.length; ++i) {\n",
       "                    if (nbb_cells[i].input_prompt_number == nbb_cell_id) {\n",
       "                        if (nbb_cells[i].get_text() == nbb_unformatted_code) {\n",
       "                             nbb_cells[i].set_text(nbb_formatted_code);\n",
       "                        }\n",
       "                        break;\n",
       "                    }\n",
       "                }\n",
       "            }, 500);\n",
       "            "
      ],
      "text/plain": [
       "<IPython.core.display.Javascript object>"
      ]
     },
     "metadata": {},
     "output_type": "display_data"
    }
   ],
   "source": [
    "class Passport(NamedTuple):\n",
    "    fields: dict\n",
    "    all_keys: set = set(\n",
    "        [\n",
    "            \"byr\",\n",
    "            \"iyr\",\n",
    "            \"eyr\",\n",
    "            \"hgt\",\n",
    "            \"hcl\",\n",
    "            \"ecl\",\n",
    "            \"pid\",\n",
    "            \"cid\",\n",
    "        ]\n",
    "    )\n",
    "\n",
    "    @staticmethod\n",
    "    def from_data(data) -> Passport:\n",
    "        pairs = data.split()\n",
    "        return Passport(dict([pair.split(\":\") for pair in data.split()]))\n",
    "\n",
    "    def is_valid(self) -> bool:\n",
    "        keys = set(self.fields.keys())\n",
    "        return keys == self.all_keys or (self.all_keys.difference(keys) == set([\"cid\"]))\n",
    "\n",
    "    def is_valid2(self) -> bool:\n",
    "        if not self.is_valid():\n",
    "            return False\n",
    "        if not 1920 <= int(self.fields[\"byr\"]) <= 2002:\n",
    "            return False\n",
    "        if not 2010 <= int(self.fields[\"iyr\"]) <= 2020:\n",
    "            return False\n",
    "        if not 2020 <= int(self.fields[\"eyr\"]) <= 2030:\n",
    "            return False\n",
    "        hgt = self.fields[\"hgt\"]\n",
    "        if len(hgt) >= 2:\n",
    "            if hgt[-2:] == \"cm\":\n",
    "                if not 150 <= int(hgt[:-2]) <= 193:\n",
    "                    return False\n",
    "            elif hgt[-2:] == \"in\":\n",
    "                if not 59 <= int(hgt[:-2]) <= 76:\n",
    "                    return False\n",
    "            else:\n",
    "                return False\n",
    "        else:\n",
    "            return False\n",
    "\n",
    "        hcl = self.fields[\"hcl\"]\n",
    "        if hcl[0] != \"#\":\n",
    "            return False\n",
    "        if len(hcl[1:]) != 6:\n",
    "            return False\n",
    "        for c in hcl[1:]:\n",
    "            if c not in \"0123456789abcdef\":\n",
    "                return False\n",
    "\n",
    "        if self.fields[\"ecl\"] not in [\"amb\", \"blu\", \"brn\", \"gry\", \"grn\", \"hzl\", \"oth\"]:\n",
    "            return False\n",
    "        if len(self.fields[\"pid\"]) != 9 or not self.fields[\"pid\"].isdigit():\n",
    "            return False\n",
    "        return True"
   ]
  },
  {
   "cell_type": "code",
   "execution_count": 46,
   "metadata": {},
   "outputs": [
    {
     "data": {
      "application/javascript": [
       "\n",
       "            setTimeout(function() {\n",
       "                var nbb_cell_id = 46;\n",
       "                var nbb_unformatted_code = \"passports = \\\"\\\"\\\"\\necl:gry pid:860033327 eyr:2020 hcl:#fffffd\\nbyr:1937 iyr:2017 cid:147 hgt:183cm\\n\\niyr:2013 ecl:amb cid:350 eyr:2023 pid:028048884\\nhcl:#cfa07d byr:1929\\n\\nhcl:#ae17e1 iyr:2013\\neyr:2024\\necl:brn pid:760753108 byr:1931\\nhgt:179cm\\n\\nhcl:#cfa07d eyr:2025 pid:166559648\\niyr:2011 ecl:brn hgt:59in\\n\\\"\\\"\\\"\\npassports = passports.strip().split(\\\"\\\\n\\\\n\\\")\\nassert count_valid_passports(passports) == 2\";\n",
       "                var nbb_formatted_code = \"passports = \\\"\\\"\\\"\\necl:gry pid:860033327 eyr:2020 hcl:#fffffd\\nbyr:1937 iyr:2017 cid:147 hgt:183cm\\n\\niyr:2013 ecl:amb cid:350 eyr:2023 pid:028048884\\nhcl:#cfa07d byr:1929\\n\\nhcl:#ae17e1 iyr:2013\\neyr:2024\\necl:brn pid:760753108 byr:1931\\nhgt:179cm\\n\\nhcl:#cfa07d eyr:2025 pid:166559648\\niyr:2011 ecl:brn hgt:59in\\n\\\"\\\"\\\"\\npassports = passports.strip().split(\\\"\\\\n\\\\n\\\")\\nassert count_valid_passports(passports) == 2\";\n",
       "                var nbb_cells = Jupyter.notebook.get_cells();\n",
       "                for (var i = 0; i < nbb_cells.length; ++i) {\n",
       "                    if (nbb_cells[i].input_prompt_number == nbb_cell_id) {\n",
       "                        if (nbb_cells[i].get_text() == nbb_unformatted_code) {\n",
       "                             nbb_cells[i].set_text(nbb_formatted_code);\n",
       "                        }\n",
       "                        break;\n",
       "                    }\n",
       "                }\n",
       "            }, 500);\n",
       "            "
      ],
      "text/plain": [
       "<IPython.core.display.Javascript object>"
      ]
     },
     "metadata": {},
     "output_type": "display_data"
    }
   ],
   "source": [
    "passports = \"\"\"\n",
    "ecl:gry pid:860033327 eyr:2020 hcl:#fffffd\n",
    "byr:1937 iyr:2017 cid:147 hgt:183cm\n",
    "\n",
    "iyr:2013 ecl:amb cid:350 eyr:2023 pid:028048884\n",
    "hcl:#cfa07d byr:1929\n",
    "\n",
    "hcl:#ae17e1 iyr:2013\n",
    "eyr:2024\n",
    "ecl:brn pid:760753108 byr:1931\n",
    "hgt:179cm\n",
    "\n",
    "hcl:#cfa07d eyr:2025 pid:166559648\n",
    "iyr:2011 ecl:brn hgt:59in\n",
    "\"\"\"\n",
    "passports = passports.strip().split(\"\\n\\n\")\n",
    "assert count_valid_passports(passports) == 2"
   ]
  },
  {
   "cell_type": "code",
   "execution_count": 47,
   "metadata": {},
   "outputs": [
    {
     "data": {
      "text/plain": [
       "245"
      ]
     },
     "execution_count": 47,
     "metadata": {},
     "output_type": "execute_result"
    },
    {
     "data": {
      "application/javascript": [
       "\n",
       "            setTimeout(function() {\n",
       "                var nbb_cell_id = 47;\n",
       "                var nbb_unformatted_code = \"with open(\\\"../input/day04.txt\\\") as f:\\n    data = f.read()\\npassports = [Passport.from_data(data) for data in data.strip().split(\\\"\\\\n\\\\n\\\")]\\nsum([passport.is_valid() for passport in passports])\";\n",
       "                var nbb_formatted_code = \"with open(\\\"../input/day04.txt\\\") as f:\\n    data = f.read()\\npassports = [Passport.from_data(data) for data in data.strip().split(\\\"\\\\n\\\\n\\\")]\\nsum([passport.is_valid() for passport in passports])\";\n",
       "                var nbb_cells = Jupyter.notebook.get_cells();\n",
       "                for (var i = 0; i < nbb_cells.length; ++i) {\n",
       "                    if (nbb_cells[i].input_prompt_number == nbb_cell_id) {\n",
       "                        if (nbb_cells[i].get_text() == nbb_unformatted_code) {\n",
       "                             nbb_cells[i].set_text(nbb_formatted_code);\n",
       "                        }\n",
       "                        break;\n",
       "                    }\n",
       "                }\n",
       "            }, 500);\n",
       "            "
      ],
      "text/plain": [
       "<IPython.core.display.Javascript object>"
      ]
     },
     "metadata": {},
     "output_type": "display_data"
    }
   ],
   "source": [
    "with open(\"../input/day04.txt\") as f:\n",
    "    data = f.read()\n",
    "passports = [Passport.from_data(data) for data in data.strip().split(\"\\n\\n\")]\n",
    "sum([passport.is_valid() for passport in passports])"
   ]
  },
  {
   "cell_type": "markdown",
   "metadata": {},
   "source": [
    "## Part Two"
   ]
  },
  {
   "cell_type": "code",
   "execution_count": 54,
   "metadata": {},
   "outputs": [
    {
     "data": {
      "text/plain": [
       "133"
      ]
     },
     "execution_count": 54,
     "metadata": {},
     "output_type": "execute_result"
    },
    {
     "data": {
      "application/javascript": [
       "\n",
       "            setTimeout(function() {\n",
       "                var nbb_cell_id = 54;\n",
       "                var nbb_unformatted_code = \"with open(\\\"../input/day04.txt\\\") as f:\\n    data = f.read()\\npassports = [Passport.from_data(data) for data in data.strip().split(\\\"\\\\n\\\\n\\\")]\\nsum([passport.is_valid2() for passport in passports])\";\n",
       "                var nbb_formatted_code = \"with open(\\\"../input/day04.txt\\\") as f:\\n    data = f.read()\\npassports = [Passport.from_data(data) for data in data.strip().split(\\\"\\\\n\\\\n\\\")]\\nsum([passport.is_valid2() for passport in passports])\";\n",
       "                var nbb_cells = Jupyter.notebook.get_cells();\n",
       "                for (var i = 0; i < nbb_cells.length; ++i) {\n",
       "                    if (nbb_cells[i].input_prompt_number == nbb_cell_id) {\n",
       "                        if (nbb_cells[i].get_text() == nbb_unformatted_code) {\n",
       "                             nbb_cells[i].set_text(nbb_formatted_code);\n",
       "                        }\n",
       "                        break;\n",
       "                    }\n",
       "                }\n",
       "            }, 500);\n",
       "            "
      ],
      "text/plain": [
       "<IPython.core.display.Javascript object>"
      ]
     },
     "metadata": {},
     "output_type": "display_data"
    }
   ],
   "source": [
    "with open(\"../input/day04.txt\") as f:\n",
    "    data = f.read()\n",
    "passports = [Passport.from_data(data) for data in data.strip().split(\"\\n\\n\")]\n",
    "sum([passport.is_valid2() for passport in passports])"
   ]
  },
  {
   "cell_type": "code",
   "execution_count": null,
   "metadata": {},
   "outputs": [],
   "source": []
  },
  {
   "cell_type": "code",
   "execution_count": null,
   "metadata": {},
   "outputs": [],
   "source": []
  },
  {
   "cell_type": "code",
   "execution_count": null,
   "metadata": {},
   "outputs": [],
   "source": []
  },
  {
   "cell_type": "code",
   "execution_count": null,
   "metadata": {},
   "outputs": [],
   "source": []
  }
 ],
 "metadata": {
  "kernelspec": {
   "display_name": "Python [conda env:ml] *",
   "language": "python",
   "name": "conda-env-ml-py"
  },
  "language_info": {
   "codemirror_mode": {
    "name": "ipython",
    "version": 3
   },
   "file_extension": ".py",
   "mimetype": "text/x-python",
   "name": "python",
   "nbconvert_exporter": "python",
   "pygments_lexer": "ipython3",
   "version": "3.7.8"
  }
 },
 "nbformat": 4,
 "nbformat_minor": 4
}
