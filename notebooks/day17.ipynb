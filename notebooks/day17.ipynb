{
 "cells": [
  {
   "cell_type": "code",
   "execution_count": 7,
   "metadata": {},
   "outputs": [
    {
     "data": {
      "application/javascript": [
       "\n",
       "            setTimeout(function() {\n",
       "                var nbb_cell_id = 7;\n",
       "                var nbb_unformatted_code = \"%reload_ext nb_black\";\n",
       "                var nbb_formatted_code = \"%reload_ext nb_black\";\n",
       "                var nbb_cells = Jupyter.notebook.get_cells();\n",
       "                for (var i = 0; i < nbb_cells.length; ++i) {\n",
       "                    if (nbb_cells[i].input_prompt_number == nbb_cell_id) {\n",
       "                        if (nbb_cells[i].get_text() == nbb_unformatted_code) {\n",
       "                             nbb_cells[i].set_text(nbb_formatted_code);\n",
       "                        }\n",
       "                        break;\n",
       "                    }\n",
       "                }\n",
       "            }, 500);\n",
       "            "
      ],
      "text/plain": [
       "<IPython.core.display.Javascript object>"
      ]
     },
     "metadata": {},
     "output_type": "display_data"
    },
    {
     "data": {
      "application/javascript": [
       "\n",
       "            setTimeout(function() {\n",
       "                var nbb_cell_id = 7;\n",
       "                var nbb_unformatted_code = \"%reload_ext nb_black\";\n",
       "                var nbb_formatted_code = \"%reload_ext nb_black\";\n",
       "                var nbb_cells = Jupyter.notebook.get_cells();\n",
       "                for (var i = 0; i < nbb_cells.length; ++i) {\n",
       "                    if (nbb_cells[i].input_prompt_number == nbb_cell_id) {\n",
       "                        if (nbb_cells[i].get_text() == nbb_unformatted_code) {\n",
       "                             nbb_cells[i].set_text(nbb_formatted_code);\n",
       "                        }\n",
       "                        break;\n",
       "                    }\n",
       "                }\n",
       "            }, 500);\n",
       "            "
      ],
      "text/plain": [
       "<IPython.core.display.Javascript object>"
      ]
     },
     "metadata": {},
     "output_type": "display_data"
    }
   ],
   "source": [
    "%reload_ext nb_black"
   ]
  },
  {
   "cell_type": "markdown",
   "metadata": {},
   "source": [
    "# Day 17: Conway Cubes"
   ]
  },
  {
   "cell_type": "code",
   "execution_count": 8,
   "metadata": {},
   "outputs": [
    {
     "data": {
      "application/javascript": [
       "\n",
       "            setTimeout(function() {\n",
       "                var nbb_cell_id = 8;\n",
       "                var nbb_unformatted_code = \"from __future__ import annotations\\nfrom typing import *\\nimport itertools\";\n",
       "                var nbb_formatted_code = \"from __future__ import annotations\\nfrom typing import *\\nimport itertools\";\n",
       "                var nbb_cells = Jupyter.notebook.get_cells();\n",
       "                for (var i = 0; i < nbb_cells.length; ++i) {\n",
       "                    if (nbb_cells[i].input_prompt_number == nbb_cell_id) {\n",
       "                        if (nbb_cells[i].get_text() == nbb_unformatted_code) {\n",
       "                             nbb_cells[i].set_text(nbb_formatted_code);\n",
       "                        }\n",
       "                        break;\n",
       "                    }\n",
       "                }\n",
       "            }, 500);\n",
       "            "
      ],
      "text/plain": [
       "<IPython.core.display.Javascript object>"
      ]
     },
     "metadata": {},
     "output_type": "display_data"
    },
    {
     "data": {
      "application/javascript": [
       "\n",
       "            setTimeout(function() {\n",
       "                var nbb_cell_id = 8;\n",
       "                var nbb_unformatted_code = \"from __future__ import annotations\\nfrom typing import *\\nimport itertools\";\n",
       "                var nbb_formatted_code = \"from __future__ import annotations\\nfrom typing import *\\nimport itertools\";\n",
       "                var nbb_cells = Jupyter.notebook.get_cells();\n",
       "                for (var i = 0; i < nbb_cells.length; ++i) {\n",
       "                    if (nbb_cells[i].input_prompt_number == nbb_cell_id) {\n",
       "                        if (nbb_cells[i].get_text() == nbb_unformatted_code) {\n",
       "                             nbb_cells[i].set_text(nbb_formatted_code);\n",
       "                        }\n",
       "                        break;\n",
       "                    }\n",
       "                }\n",
       "            }, 500);\n",
       "            "
      ],
      "text/plain": [
       "<IPython.core.display.Javascript object>"
      ]
     },
     "metadata": {},
     "output_type": "display_data"
    }
   ],
   "source": [
    "from __future__ import annotations\n",
    "from typing import *\n",
    "import itertools"
   ]
  },
  {
   "cell_type": "markdown",
   "metadata": {},
   "source": [
    "## Part One"
   ]
  },
  {
   "cell_type": "code",
   "execution_count": 35,
   "metadata": {},
   "outputs": [
    {
     "data": {
      "application/javascript": [
       "\n",
       "            setTimeout(function() {\n",
       "                var nbb_cell_id = 35;\n",
       "                var nbb_unformatted_code = \"class Point(NamedTuple):\\n    x: int\\n    y: int\\n    z: int\\n\\n    def neighbors(self) -> Iterator[Point]:\\n        for dx, dy, dz in itertools.product((-1, 0, 1), repeat=3):\\n            if dx != 0 or dy != 0 or dz != 0:\\n                yield Point(self.x + dx, self.y + dy, self.z + dz)\";\n",
       "                var nbb_formatted_code = \"class Point(NamedTuple):\\n    x: int\\n    y: int\\n    z: int\\n\\n    def neighbors(self) -> Iterator[Point]:\\n        for dx, dy, dz in itertools.product((-1, 0, 1), repeat=3):\\n            if dx != 0 or dy != 0 or dz != 0:\\n                yield Point(self.x + dx, self.y + dy, self.z + dz)\";\n",
       "                var nbb_cells = Jupyter.notebook.get_cells();\n",
       "                for (var i = 0; i < nbb_cells.length; ++i) {\n",
       "                    if (nbb_cells[i].input_prompt_number == nbb_cell_id) {\n",
       "                        if (nbb_cells[i].get_text() == nbb_unformatted_code) {\n",
       "                             nbb_cells[i].set_text(nbb_formatted_code);\n",
       "                        }\n",
       "                        break;\n",
       "                    }\n",
       "                }\n",
       "            }, 500);\n",
       "            "
      ],
      "text/plain": [
       "<IPython.core.display.Javascript object>"
      ]
     },
     "metadata": {},
     "output_type": "display_data"
    },
    {
     "data": {
      "application/javascript": [
       "\n",
       "            setTimeout(function() {\n",
       "                var nbb_cell_id = 35;\n",
       "                var nbb_unformatted_code = \"class Point(NamedTuple):\\n    x: int\\n    y: int\\n    z: int\\n\\n    def neighbors(self) -> Iterator[Point]:\\n        for dx, dy, dz in itertools.product((-1, 0, 1), repeat=3):\\n            if dx != 0 or dy != 0 or dz != 0:\\n                yield Point(self.x + dx, self.y + dy, self.z + dz)\";\n",
       "                var nbb_formatted_code = \"class Point(NamedTuple):\\n    x: int\\n    y: int\\n    z: int\\n\\n    def neighbors(self) -> Iterator[Point]:\\n        for dx, dy, dz in itertools.product((-1, 0, 1), repeat=3):\\n            if dx != 0 or dy != 0 or dz != 0:\\n                yield Point(self.x + dx, self.y + dy, self.z + dz)\";\n",
       "                var nbb_cells = Jupyter.notebook.get_cells();\n",
       "                for (var i = 0; i < nbb_cells.length; ++i) {\n",
       "                    if (nbb_cells[i].input_prompt_number == nbb_cell_id) {\n",
       "                        if (nbb_cells[i].get_text() == nbb_unformatted_code) {\n",
       "                             nbb_cells[i].set_text(nbb_formatted_code);\n",
       "                        }\n",
       "                        break;\n",
       "                    }\n",
       "                }\n",
       "            }, 500);\n",
       "            "
      ],
      "text/plain": [
       "<IPython.core.display.Javascript object>"
      ]
     },
     "metadata": {},
     "output_type": "display_data"
    }
   ],
   "source": [
    "class Point(NamedTuple):\n",
    "    x: int\n",
    "    y: int\n",
    "    z: int\n",
    "\n",
    "    def neighbors(self) -> Iterator[Point]:\n",
    "        for dx, dy, dz in itertools.product((-1, 0, 1), repeat=3):\n",
    "            if dx != 0 or dy != 0 or dz != 0:\n",
    "                yield Point(self.x + dx, self.y + dy, self.z + dz)"
   ]
  },
  {
   "cell_type": "code",
   "execution_count": 36,
   "metadata": {},
   "outputs": [
    {
     "data": {
      "application/javascript": [
       "\n",
       "            setTimeout(function() {\n",
       "                var nbb_cell_id = 36;\n",
       "                var nbb_unformatted_code = \"Grid = Set[Point]\";\n",
       "                var nbb_formatted_code = \"Grid = Set[Point]\";\n",
       "                var nbb_cells = Jupyter.notebook.get_cells();\n",
       "                for (var i = 0; i < nbb_cells.length; ++i) {\n",
       "                    if (nbb_cells[i].input_prompt_number == nbb_cell_id) {\n",
       "                        if (nbb_cells[i].get_text() == nbb_unformatted_code) {\n",
       "                             nbb_cells[i].set_text(nbb_formatted_code);\n",
       "                        }\n",
       "                        break;\n",
       "                    }\n",
       "                }\n",
       "            }, 500);\n",
       "            "
      ],
      "text/plain": [
       "<IPython.core.display.Javascript object>"
      ]
     },
     "metadata": {},
     "output_type": "display_data"
    },
    {
     "data": {
      "application/javascript": [
       "\n",
       "            setTimeout(function() {\n",
       "                var nbb_cell_id = 36;\n",
       "                var nbb_unformatted_code = \"Grid = Set[Point]\";\n",
       "                var nbb_formatted_code = \"Grid = Set[Point]\";\n",
       "                var nbb_cells = Jupyter.notebook.get_cells();\n",
       "                for (var i = 0; i < nbb_cells.length; ++i) {\n",
       "                    if (nbb_cells[i].input_prompt_number == nbb_cell_id) {\n",
       "                        if (nbb_cells[i].get_text() == nbb_unformatted_code) {\n",
       "                             nbb_cells[i].set_text(nbb_formatted_code);\n",
       "                        }\n",
       "                        break;\n",
       "                    }\n",
       "                }\n",
       "            }, 500);\n",
       "            "
      ],
      "text/plain": [
       "<IPython.core.display.Javascript object>"
      ]
     },
     "metadata": {},
     "output_type": "display_data"
    }
   ],
   "source": [
    "Grid = Set[Point]"
   ]
  },
  {
   "cell_type": "code",
   "execution_count": 10,
   "metadata": {},
   "outputs": [
    {
     "data": {
      "application/javascript": [
       "\n",
       "            setTimeout(function() {\n",
       "                var nbb_cell_id = 10;\n",
       "                var nbb_unformatted_code = \"def cycle(grid: Grid) -> Grid:\\n    all_neighbors = {q for p in grid for q in p.neighbors() if q not in grid}\\n    next_grid = set()\\n\\n    for p in grid:\\n        n = sum(q in grid for q in p.neighbors())\\n        if n in (2, 3):\\n            next_grid.add(p)\\n\\n    for p in all_neighbors:\\n        n = sum(q in grid for q in p.neighbors())\\n        if n == 3:\\n            next_grid.add(p)\\n\\n    return next_grid\";\n",
       "                var nbb_formatted_code = \"def cycle(grid: Grid) -> Grid:\\n    all_neighbors = {q for p in grid for q in p.neighbors() if q not in grid}\\n    next_grid = set()\\n\\n    for p in grid:\\n        n = sum(q in grid for q in p.neighbors())\\n        if n in (2, 3):\\n            next_grid.add(p)\\n\\n    for p in all_neighbors:\\n        n = sum(q in grid for q in p.neighbors())\\n        if n == 3:\\n            next_grid.add(p)\\n\\n    return next_grid\";\n",
       "                var nbb_cells = Jupyter.notebook.get_cells();\n",
       "                for (var i = 0; i < nbb_cells.length; ++i) {\n",
       "                    if (nbb_cells[i].input_prompt_number == nbb_cell_id) {\n",
       "                        if (nbb_cells[i].get_text() == nbb_unformatted_code) {\n",
       "                             nbb_cells[i].set_text(nbb_formatted_code);\n",
       "                        }\n",
       "                        break;\n",
       "                    }\n",
       "                }\n",
       "            }, 500);\n",
       "            "
      ],
      "text/plain": [
       "<IPython.core.display.Javascript object>"
      ]
     },
     "metadata": {},
     "output_type": "display_data"
    },
    {
     "data": {
      "application/javascript": [
       "\n",
       "            setTimeout(function() {\n",
       "                var nbb_cell_id = 10;\n",
       "                var nbb_unformatted_code = \"def cycle(grid: Grid) -> Grid:\\n    all_neighbors = {q for p in grid for q in p.neighbors() if q not in grid}\\n    next_grid = set()\\n\\n    for p in grid:\\n        n = sum(q in grid for q in p.neighbors())\\n        if n in (2, 3):\\n            next_grid.add(p)\\n\\n    for p in all_neighbors:\\n        n = sum(q in grid for q in p.neighbors())\\n        if n == 3:\\n            next_grid.add(p)\\n\\n    return next_grid\";\n",
       "                var nbb_formatted_code = \"def cycle(grid: Grid) -> Grid:\\n    all_neighbors = {q for p in grid for q in p.neighbors() if q not in grid}\\n    next_grid = set()\\n\\n    for p in grid:\\n        n = sum(q in grid for q in p.neighbors())\\n        if n in (2, 3):\\n            next_grid.add(p)\\n\\n    for p in all_neighbors:\\n        n = sum(q in grid for q in p.neighbors())\\n        if n == 3:\\n            next_grid.add(p)\\n\\n    return next_grid\";\n",
       "                var nbb_cells = Jupyter.notebook.get_cells();\n",
       "                for (var i = 0; i < nbb_cells.length; ++i) {\n",
       "                    if (nbb_cells[i].input_prompt_number == nbb_cell_id) {\n",
       "                        if (nbb_cells[i].get_text() == nbb_unformatted_code) {\n",
       "                             nbb_cells[i].set_text(nbb_formatted_code);\n",
       "                        }\n",
       "                        break;\n",
       "                    }\n",
       "                }\n",
       "            }, 500);\n",
       "            "
      ],
      "text/plain": [
       "<IPython.core.display.Javascript object>"
      ]
     },
     "metadata": {},
     "output_type": "display_data"
    }
   ],
   "source": [
    "def cycle(grid: Grid) -> Grid:\n",
    "    all_neighbors = {q for p in grid for q in p.neighbors() if q not in grid}\n",
    "    next_grid = set()\n",
    "\n",
    "    for p in grid:\n",
    "        n = sum(q in grid for q in p.neighbors())\n",
    "        if n in (2, 3):\n",
    "            next_grid.add(p)\n",
    "\n",
    "    for p in all_neighbors:\n",
    "        n = sum(q in grid for q in p.neighbors())\n",
    "        if n == 3:\n",
    "            next_grid.add(p)\n",
    "\n",
    "    return next_grid"
   ]
  },
  {
   "cell_type": "code",
   "execution_count": 11,
   "metadata": {},
   "outputs": [
    {
     "data": {
      "application/javascript": [
       "\n",
       "            setTimeout(function() {\n",
       "                var nbb_cell_id = 11;\n",
       "                var nbb_unformatted_code = \"def parse(raw: str) -> Grid:\\n    raw = raw.strip()\\n    rows = raw.split(\\\"\\\\n\\\")\\n    grid = {\\n        Point(x, y, 0)\\n        for y, row in enumerate(rows)\\n        for x, c in enumerate(row)\\n        if c == \\\"#\\\"\\n    }\\n    return grid\";\n",
       "                var nbb_formatted_code = \"def parse(raw: str) -> Grid:\\n    raw = raw.strip()\\n    rows = raw.split(\\\"\\\\n\\\")\\n    grid = {\\n        Point(x, y, 0)\\n        for y, row in enumerate(rows)\\n        for x, c in enumerate(row)\\n        if c == \\\"#\\\"\\n    }\\n    return grid\";\n",
       "                var nbb_cells = Jupyter.notebook.get_cells();\n",
       "                for (var i = 0; i < nbb_cells.length; ++i) {\n",
       "                    if (nbb_cells[i].input_prompt_number == nbb_cell_id) {\n",
       "                        if (nbb_cells[i].get_text() == nbb_unformatted_code) {\n",
       "                             nbb_cells[i].set_text(nbb_formatted_code);\n",
       "                        }\n",
       "                        break;\n",
       "                    }\n",
       "                }\n",
       "            }, 500);\n",
       "            "
      ],
      "text/plain": [
       "<IPython.core.display.Javascript object>"
      ]
     },
     "metadata": {},
     "output_type": "display_data"
    },
    {
     "data": {
      "application/javascript": [
       "\n",
       "            setTimeout(function() {\n",
       "                var nbb_cell_id = 11;\n",
       "                var nbb_unformatted_code = \"def parse(raw: str) -> Grid:\\n    raw = raw.strip()\\n    rows = raw.split(\\\"\\\\n\\\")\\n    grid = {\\n        Point(x, y, 0)\\n        for y, row in enumerate(rows)\\n        for x, c in enumerate(row)\\n        if c == \\\"#\\\"\\n    }\\n    return grid\";\n",
       "                var nbb_formatted_code = \"def parse(raw: str) -> Grid:\\n    raw = raw.strip()\\n    rows = raw.split(\\\"\\\\n\\\")\\n    grid = {\\n        Point(x, y, 0)\\n        for y, row in enumerate(rows)\\n        for x, c in enumerate(row)\\n        if c == \\\"#\\\"\\n    }\\n    return grid\";\n",
       "                var nbb_cells = Jupyter.notebook.get_cells();\n",
       "                for (var i = 0; i < nbb_cells.length; ++i) {\n",
       "                    if (nbb_cells[i].input_prompt_number == nbb_cell_id) {\n",
       "                        if (nbb_cells[i].get_text() == nbb_unformatted_code) {\n",
       "                             nbb_cells[i].set_text(nbb_formatted_code);\n",
       "                        }\n",
       "                        break;\n",
       "                    }\n",
       "                }\n",
       "            }, 500);\n",
       "            "
      ],
      "text/plain": [
       "<IPython.core.display.Javascript object>"
      ]
     },
     "metadata": {},
     "output_type": "display_data"
    }
   ],
   "source": [
    "def parse(raw: str) -> Grid:\n",
    "    raw = raw.strip()\n",
    "    rows = raw.split(\"\\n\")\n",
    "    grid = {\n",
    "        Point(x, y, 0)\n",
    "        for y, row in enumerate(rows)\n",
    "        for x, c in enumerate(row)\n",
    "        if c == \"#\"\n",
    "    }\n",
    "    return grid"
   ]
  },
  {
   "cell_type": "code",
   "execution_count": 12,
   "metadata": {},
   "outputs": [
    {
     "data": {
      "application/javascript": [
       "\n",
       "            setTimeout(function() {\n",
       "                var nbb_cell_id = 12;\n",
       "                var nbb_unformatted_code = \"def count_active_cubes(grid: Grid) -> int:\\n    grid = grid.copy()\\n    for _ in range(6):\\n        grid = cycle(grid)\\n    return len(grid)\";\n",
       "                var nbb_formatted_code = \"def count_active_cubes(grid: Grid) -> int:\\n    grid = grid.copy()\\n    for _ in range(6):\\n        grid = cycle(grid)\\n    return len(grid)\";\n",
       "                var nbb_cells = Jupyter.notebook.get_cells();\n",
       "                for (var i = 0; i < nbb_cells.length; ++i) {\n",
       "                    if (nbb_cells[i].input_prompt_number == nbb_cell_id) {\n",
       "                        if (nbb_cells[i].get_text() == nbb_unformatted_code) {\n",
       "                             nbb_cells[i].set_text(nbb_formatted_code);\n",
       "                        }\n",
       "                        break;\n",
       "                    }\n",
       "                }\n",
       "            }, 500);\n",
       "            "
      ],
      "text/plain": [
       "<IPython.core.display.Javascript object>"
      ]
     },
     "metadata": {},
     "output_type": "display_data"
    },
    {
     "data": {
      "application/javascript": [
       "\n",
       "            setTimeout(function() {\n",
       "                var nbb_cell_id = 12;\n",
       "                var nbb_unformatted_code = \"def count_active_cubes(grid: Grid) -> int:\\n    grid = grid.copy()\\n    for _ in range(6):\\n        grid = cycle(grid)\\n    return len(grid)\";\n",
       "                var nbb_formatted_code = \"def count_active_cubes(grid: Grid) -> int:\\n    grid = grid.copy()\\n    for _ in range(6):\\n        grid = cycle(grid)\\n    return len(grid)\";\n",
       "                var nbb_cells = Jupyter.notebook.get_cells();\n",
       "                for (var i = 0; i < nbb_cells.length; ++i) {\n",
       "                    if (nbb_cells[i].input_prompt_number == nbb_cell_id) {\n",
       "                        if (nbb_cells[i].get_text() == nbb_unformatted_code) {\n",
       "                             nbb_cells[i].set_text(nbb_formatted_code);\n",
       "                        }\n",
       "                        break;\n",
       "                    }\n",
       "                }\n",
       "            }, 500);\n",
       "            "
      ],
      "text/plain": [
       "<IPython.core.display.Javascript object>"
      ]
     },
     "metadata": {},
     "output_type": "display_data"
    }
   ],
   "source": [
    "def count_active_cubes(grid: Grid) -> int:\n",
    "    grid = grid.copy()\n",
    "    for _ in range(6):\n",
    "        grid = cycle(grid)\n",
    "    return len(grid)"
   ]
  },
  {
   "cell_type": "code",
   "execution_count": 15,
   "metadata": {},
   "outputs": [
    {
     "data": {
      "application/javascript": [
       "\n",
       "            setTimeout(function() {\n",
       "                var nbb_cell_id = 15;\n",
       "                var nbb_unformatted_code = \"RAW = \\\"\\\"\\\".#.\\n..#\\n###\\\"\\\"\\\"\\nGRID = parse(RAW)\\nassert count_active_cubes(GRID) == 112\";\n",
       "                var nbb_formatted_code = \"RAW = \\\"\\\"\\\".#.\\n..#\\n###\\\"\\\"\\\"\\nGRID = parse(RAW)\\nassert count_active_cubes(GRID) == 112\";\n",
       "                var nbb_cells = Jupyter.notebook.get_cells();\n",
       "                for (var i = 0; i < nbb_cells.length; ++i) {\n",
       "                    if (nbb_cells[i].input_prompt_number == nbb_cell_id) {\n",
       "                        if (nbb_cells[i].get_text() == nbb_unformatted_code) {\n",
       "                             nbb_cells[i].set_text(nbb_formatted_code);\n",
       "                        }\n",
       "                        break;\n",
       "                    }\n",
       "                }\n",
       "            }, 500);\n",
       "            "
      ],
      "text/plain": [
       "<IPython.core.display.Javascript object>"
      ]
     },
     "metadata": {},
     "output_type": "display_data"
    },
    {
     "data": {
      "application/javascript": [
       "\n",
       "            setTimeout(function() {\n",
       "                var nbb_cell_id = 15;\n",
       "                var nbb_unformatted_code = \"RAW = \\\"\\\"\\\".#.\\n..#\\n###\\\"\\\"\\\"\\nGRID = parse(RAW)\\nassert count_active_cubes(GRID) == 112\";\n",
       "                var nbb_formatted_code = \"RAW = \\\"\\\"\\\".#.\\n..#\\n###\\\"\\\"\\\"\\nGRID = parse(RAW)\\nassert count_active_cubes(GRID) == 112\";\n",
       "                var nbb_cells = Jupyter.notebook.get_cells();\n",
       "                for (var i = 0; i < nbb_cells.length; ++i) {\n",
       "                    if (nbb_cells[i].input_prompt_number == nbb_cell_id) {\n",
       "                        if (nbb_cells[i].get_text() == nbb_unformatted_code) {\n",
       "                             nbb_cells[i].set_text(nbb_formatted_code);\n",
       "                        }\n",
       "                        break;\n",
       "                    }\n",
       "                }\n",
       "            }, 500);\n",
       "            "
      ],
      "text/plain": [
       "<IPython.core.display.Javascript object>"
      ]
     },
     "metadata": {},
     "output_type": "display_data"
    }
   ],
   "source": [
    "RAW = \"\"\".#.\n",
    "..#\n",
    "###\"\"\"\n",
    "GRID = parse(RAW)\n",
    "assert count_active_cubes(GRID) == 112"
   ]
  },
  {
   "cell_type": "code",
   "execution_count": 16,
   "metadata": {},
   "outputs": [
    {
     "data": {
      "text/plain": [
       "202"
      ]
     },
     "execution_count": 16,
     "metadata": {},
     "output_type": "execute_result"
    },
    {
     "data": {
      "application/javascript": [
       "\n",
       "            setTimeout(function() {\n",
       "                var nbb_cell_id = 16;\n",
       "                var nbb_unformatted_code = \"with open(\\\"../input/day17.txt\\\") as f:\\n    raw = f.read()\\ngrid = parse(raw)\\ncount_active_cubes(grid)\";\n",
       "                var nbb_formatted_code = \"with open(\\\"../input/day17.txt\\\") as f:\\n    raw = f.read()\\ngrid = parse(raw)\\ncount_active_cubes(grid)\";\n",
       "                var nbb_cells = Jupyter.notebook.get_cells();\n",
       "                for (var i = 0; i < nbb_cells.length; ++i) {\n",
       "                    if (nbb_cells[i].input_prompt_number == nbb_cell_id) {\n",
       "                        if (nbb_cells[i].get_text() == nbb_unformatted_code) {\n",
       "                             nbb_cells[i].set_text(nbb_formatted_code);\n",
       "                        }\n",
       "                        break;\n",
       "                    }\n",
       "                }\n",
       "            }, 500);\n",
       "            "
      ],
      "text/plain": [
       "<IPython.core.display.Javascript object>"
      ]
     },
     "metadata": {},
     "output_type": "display_data"
    },
    {
     "data": {
      "application/javascript": [
       "\n",
       "            setTimeout(function() {\n",
       "                var nbb_cell_id = 16;\n",
       "                var nbb_unformatted_code = \"with open(\\\"../input/day17.txt\\\") as f:\\n    raw = f.read()\\ngrid = parse(raw)\\ncount_active_cubes(grid)\";\n",
       "                var nbb_formatted_code = \"with open(\\\"../input/day17.txt\\\") as f:\\n    raw = f.read()\\ngrid = parse(raw)\\ncount_active_cubes(grid)\";\n",
       "                var nbb_cells = Jupyter.notebook.get_cells();\n",
       "                for (var i = 0; i < nbb_cells.length; ++i) {\n",
       "                    if (nbb_cells[i].input_prompt_number == nbb_cell_id) {\n",
       "                        if (nbb_cells[i].get_text() == nbb_unformatted_code) {\n",
       "                             nbb_cells[i].set_text(nbb_formatted_code);\n",
       "                        }\n",
       "                        break;\n",
       "                    }\n",
       "                }\n",
       "            }, 500);\n",
       "            "
      ],
      "text/plain": [
       "<IPython.core.display.Javascript object>"
      ]
     },
     "metadata": {},
     "output_type": "display_data"
    }
   ],
   "source": [
    "with open(\"../input/day17.txt\") as f:\n",
    "    raw = f.read()\n",
    "grid = parse(raw)\n",
    "count_active_cubes(grid)"
   ]
  },
  {
   "cell_type": "markdown",
   "metadata": {},
   "source": [
    "## Part Two"
   ]
  },
  {
   "cell_type": "code",
   "execution_count": 37,
   "metadata": {},
   "outputs": [
    {
     "data": {
      "application/javascript": [
       "\n",
       "            setTimeout(function() {\n",
       "                var nbb_cell_id = 37;\n",
       "                var nbb_unformatted_code = \"class Point2(NamedTuple):\\n    x: int\\n    y: int\\n    z: int\\n    w: int\\n\\n    def neighbors(self) -> Iterator[Point2]:\\n        for dx, dy, dz, dw in itertools.product((-1, 0, 1), repeat=4):\\n            if dx != 0 or dy != 0 or dz != 0 or dw != 0:\\n                yield Point2(self.x + dx, self.y + dy, self.z + dz, self.w + dw)\";\n",
       "                var nbb_formatted_code = \"class Point2(NamedTuple):\\n    x: int\\n    y: int\\n    z: int\\n    w: int\\n\\n    def neighbors(self) -> Iterator[Point2]:\\n        for dx, dy, dz, dw in itertools.product((-1, 0, 1), repeat=4):\\n            if dx != 0 or dy != 0 or dz != 0 or dw != 0:\\n                yield Point2(self.x + dx, self.y + dy, self.z + dz, self.w + dw)\";\n",
       "                var nbb_cells = Jupyter.notebook.get_cells();\n",
       "                for (var i = 0; i < nbb_cells.length; ++i) {\n",
       "                    if (nbb_cells[i].input_prompt_number == nbb_cell_id) {\n",
       "                        if (nbb_cells[i].get_text() == nbb_unformatted_code) {\n",
       "                             nbb_cells[i].set_text(nbb_formatted_code);\n",
       "                        }\n",
       "                        break;\n",
       "                    }\n",
       "                }\n",
       "            }, 500);\n",
       "            "
      ],
      "text/plain": [
       "<IPython.core.display.Javascript object>"
      ]
     },
     "metadata": {},
     "output_type": "display_data"
    },
    {
     "data": {
      "application/javascript": [
       "\n",
       "            setTimeout(function() {\n",
       "                var nbb_cell_id = 37;\n",
       "                var nbb_unformatted_code = \"class Point2(NamedTuple):\\n    x: int\\n    y: int\\n    z: int\\n    w: int\\n\\n    def neighbors(self) -> Iterator[Point2]:\\n        for dx, dy, dz, dw in itertools.product((-1, 0, 1), repeat=4):\\n            if dx != 0 or dy != 0 or dz != 0 or dw != 0:\\n                yield Point2(self.x + dx, self.y + dy, self.z + dz, self.w + dw)\";\n",
       "                var nbb_formatted_code = \"class Point2(NamedTuple):\\n    x: int\\n    y: int\\n    z: int\\n    w: int\\n\\n    def neighbors(self) -> Iterator[Point2]:\\n        for dx, dy, dz, dw in itertools.product((-1, 0, 1), repeat=4):\\n            if dx != 0 or dy != 0 or dz != 0 or dw != 0:\\n                yield Point2(self.x + dx, self.y + dy, self.z + dz, self.w + dw)\";\n",
       "                var nbb_cells = Jupyter.notebook.get_cells();\n",
       "                for (var i = 0; i < nbb_cells.length; ++i) {\n",
       "                    if (nbb_cells[i].input_prompt_number == nbb_cell_id) {\n",
       "                        if (nbb_cells[i].get_text() == nbb_unformatted_code) {\n",
       "                             nbb_cells[i].set_text(nbb_formatted_code);\n",
       "                        }\n",
       "                        break;\n",
       "                    }\n",
       "                }\n",
       "            }, 500);\n",
       "            "
      ],
      "text/plain": [
       "<IPython.core.display.Javascript object>"
      ]
     },
     "metadata": {},
     "output_type": "display_data"
    }
   ],
   "source": [
    "class Point2(NamedTuple):\n",
    "    x: int\n",
    "    y: int\n",
    "    z: int\n",
    "    w: int\n",
    "\n",
    "    def neighbors(self) -> Iterator[Point2]:\n",
    "        for dx, dy, dz, dw in itertools.product((-1, 0, 1), repeat=4):\n",
    "            if dx != 0 or dy != 0 or dz != 0 or dw != 0:\n",
    "                yield Point2(self.x + dx, self.y + dy, self.z + dz, self.w + dw)"
   ]
  },
  {
   "cell_type": "code",
   "execution_count": 38,
   "metadata": {},
   "outputs": [
    {
     "data": {
      "application/javascript": [
       "\n",
       "            setTimeout(function() {\n",
       "                var nbb_cell_id = 38;\n",
       "                var nbb_unformatted_code = \"Grid2 = Set[Point2]\";\n",
       "                var nbb_formatted_code = \"Grid2 = Set[Point2]\";\n",
       "                var nbb_cells = Jupyter.notebook.get_cells();\n",
       "                for (var i = 0; i < nbb_cells.length; ++i) {\n",
       "                    if (nbb_cells[i].input_prompt_number == nbb_cell_id) {\n",
       "                        if (nbb_cells[i].get_text() == nbb_unformatted_code) {\n",
       "                             nbb_cells[i].set_text(nbb_formatted_code);\n",
       "                        }\n",
       "                        break;\n",
       "                    }\n",
       "                }\n",
       "            }, 500);\n",
       "            "
      ],
      "text/plain": [
       "<IPython.core.display.Javascript object>"
      ]
     },
     "metadata": {},
     "output_type": "display_data"
    },
    {
     "data": {
      "application/javascript": [
       "\n",
       "            setTimeout(function() {\n",
       "                var nbb_cell_id = 38;\n",
       "                var nbb_unformatted_code = \"Grid2 = Set[Point2]\";\n",
       "                var nbb_formatted_code = \"Grid2 = Set[Point2]\";\n",
       "                var nbb_cells = Jupyter.notebook.get_cells();\n",
       "                for (var i = 0; i < nbb_cells.length; ++i) {\n",
       "                    if (nbb_cells[i].input_prompt_number == nbb_cell_id) {\n",
       "                        if (nbb_cells[i].get_text() == nbb_unformatted_code) {\n",
       "                             nbb_cells[i].set_text(nbb_formatted_code);\n",
       "                        }\n",
       "                        break;\n",
       "                    }\n",
       "                }\n",
       "            }, 500);\n",
       "            "
      ],
      "text/plain": [
       "<IPython.core.display.Javascript object>"
      ]
     },
     "metadata": {},
     "output_type": "display_data"
    }
   ],
   "source": [
    "Grid2 = Set[Point2]"
   ]
  },
  {
   "cell_type": "code",
   "execution_count": 29,
   "metadata": {},
   "outputs": [
    {
     "data": {
      "application/javascript": [
       "\n",
       "            setTimeout(function() {\n",
       "                var nbb_cell_id = 29;\n",
       "                var nbb_unformatted_code = \"def parse2(raw: str) -> Grid2:\\n    rows = raw.strip().split(\\\"\\\\n\\\")\\n    return {\\n        Point2(x, y, 0, 0)\\n        for y, row in enumerate(rows)\\n        for x, c in enumerate(row)\\n        if c == \\\"#\\\"\\n    }\";\n",
       "                var nbb_formatted_code = \"def parse2(raw: str) -> Grid2:\\n    rows = raw.strip().split(\\\"\\\\n\\\")\\n    return {\\n        Point2(x, y, 0, 0)\\n        for y, row in enumerate(rows)\\n        for x, c in enumerate(row)\\n        if c == \\\"#\\\"\\n    }\";\n",
       "                var nbb_cells = Jupyter.notebook.get_cells();\n",
       "                for (var i = 0; i < nbb_cells.length; ++i) {\n",
       "                    if (nbb_cells[i].input_prompt_number == nbb_cell_id) {\n",
       "                        if (nbb_cells[i].get_text() == nbb_unformatted_code) {\n",
       "                             nbb_cells[i].set_text(nbb_formatted_code);\n",
       "                        }\n",
       "                        break;\n",
       "                    }\n",
       "                }\n",
       "            }, 500);\n",
       "            "
      ],
      "text/plain": [
       "<IPython.core.display.Javascript object>"
      ]
     },
     "metadata": {},
     "output_type": "display_data"
    },
    {
     "data": {
      "application/javascript": [
       "\n",
       "            setTimeout(function() {\n",
       "                var nbb_cell_id = 29;\n",
       "                var nbb_unformatted_code = \"def parse2(raw: str) -> Grid2:\\n    rows = raw.strip().split(\\\"\\\\n\\\")\\n    return {\\n        Point2(x, y, 0, 0)\\n        for y, row in enumerate(rows)\\n        for x, c in enumerate(row)\\n        if c == \\\"#\\\"\\n    }\";\n",
       "                var nbb_formatted_code = \"def parse2(raw: str) -> Grid2:\\n    rows = raw.strip().split(\\\"\\\\n\\\")\\n    return {\\n        Point2(x, y, 0, 0)\\n        for y, row in enumerate(rows)\\n        for x, c in enumerate(row)\\n        if c == \\\"#\\\"\\n    }\";\n",
       "                var nbb_cells = Jupyter.notebook.get_cells();\n",
       "                for (var i = 0; i < nbb_cells.length; ++i) {\n",
       "                    if (nbb_cells[i].input_prompt_number == nbb_cell_id) {\n",
       "                        if (nbb_cells[i].get_text() == nbb_unformatted_code) {\n",
       "                             nbb_cells[i].set_text(nbb_formatted_code);\n",
       "                        }\n",
       "                        break;\n",
       "                    }\n",
       "                }\n",
       "            }, 500);\n",
       "            "
      ],
      "text/plain": [
       "<IPython.core.display.Javascript object>"
      ]
     },
     "metadata": {},
     "output_type": "display_data"
    }
   ],
   "source": [
    "def parse2(raw: str) -> Grid2:\n",
    "    rows = raw.strip().split(\"\\n\")\n",
    "    return {\n",
    "        Point2(x, y, 0, 0)\n",
    "        for y, row in enumerate(rows)\n",
    "        for x, c in enumerate(row)\n",
    "        if c == \"#\"\n",
    "    }"
   ]
  },
  {
   "cell_type": "code",
   "execution_count": 30,
   "metadata": {},
   "outputs": [
    {
     "data": {
      "application/javascript": [
       "\n",
       "            setTimeout(function() {\n",
       "                var nbb_cell_id = 30;\n",
       "                var nbb_unformatted_code = \"def cycle2(grid: Grid2) -> Grid2:\\n    next_grid = set()\\n    for p in grid:\\n        n = sum(q in grid for q in p.neighbors())\\n        if n in (2, 3):\\n            next_grid.add(p)\\n\\n    new_candidates = {q for p in grid for q in p.neighbors() if q not in grid}\\n    for p in new_candidates:\\n        n = sum(q in grid for q in p.neighbors())\\n        if n == 3:\\n            next_grid.add(p)\\n\\n    return next_grid\";\n",
       "                var nbb_formatted_code = \"def cycle2(grid: Grid2) -> Grid2:\\n    next_grid = set()\\n    for p in grid:\\n        n = sum(q in grid for q in p.neighbors())\\n        if n in (2, 3):\\n            next_grid.add(p)\\n\\n    new_candidates = {q for p in grid for q in p.neighbors() if q not in grid}\\n    for p in new_candidates:\\n        n = sum(q in grid for q in p.neighbors())\\n        if n == 3:\\n            next_grid.add(p)\\n\\n    return next_grid\";\n",
       "                var nbb_cells = Jupyter.notebook.get_cells();\n",
       "                for (var i = 0; i < nbb_cells.length; ++i) {\n",
       "                    if (nbb_cells[i].input_prompt_number == nbb_cell_id) {\n",
       "                        if (nbb_cells[i].get_text() == nbb_unformatted_code) {\n",
       "                             nbb_cells[i].set_text(nbb_formatted_code);\n",
       "                        }\n",
       "                        break;\n",
       "                    }\n",
       "                }\n",
       "            }, 500);\n",
       "            "
      ],
      "text/plain": [
       "<IPython.core.display.Javascript object>"
      ]
     },
     "metadata": {},
     "output_type": "display_data"
    },
    {
     "data": {
      "application/javascript": [
       "\n",
       "            setTimeout(function() {\n",
       "                var nbb_cell_id = 30;\n",
       "                var nbb_unformatted_code = \"def cycle2(grid: Grid2) -> Grid2:\\n    next_grid = set()\\n    for p in grid:\\n        n = sum(q in grid for q in p.neighbors())\\n        if n in (2, 3):\\n            next_grid.add(p)\\n\\n    new_candidates = {q for p in grid for q in p.neighbors() if q not in grid}\\n    for p in new_candidates:\\n        n = sum(q in grid for q in p.neighbors())\\n        if n == 3:\\n            next_grid.add(p)\\n\\n    return next_grid\";\n",
       "                var nbb_formatted_code = \"def cycle2(grid: Grid2) -> Grid2:\\n    next_grid = set()\\n    for p in grid:\\n        n = sum(q in grid for q in p.neighbors())\\n        if n in (2, 3):\\n            next_grid.add(p)\\n\\n    new_candidates = {q for p in grid for q in p.neighbors() if q not in grid}\\n    for p in new_candidates:\\n        n = sum(q in grid for q in p.neighbors())\\n        if n == 3:\\n            next_grid.add(p)\\n\\n    return next_grid\";\n",
       "                var nbb_cells = Jupyter.notebook.get_cells();\n",
       "                for (var i = 0; i < nbb_cells.length; ++i) {\n",
       "                    if (nbb_cells[i].input_prompt_number == nbb_cell_id) {\n",
       "                        if (nbb_cells[i].get_text() == nbb_unformatted_code) {\n",
       "                             nbb_cells[i].set_text(nbb_formatted_code);\n",
       "                        }\n",
       "                        break;\n",
       "                    }\n",
       "                }\n",
       "            }, 500);\n",
       "            "
      ],
      "text/plain": [
       "<IPython.core.display.Javascript object>"
      ]
     },
     "metadata": {},
     "output_type": "display_data"
    }
   ],
   "source": [
    "def cycle2(grid: Grid2) -> Grid2:\n",
    "    next_grid = set()\n",
    "    for p in grid:\n",
    "        n = sum(q in grid for q in p.neighbors())\n",
    "        if n in (2, 3):\n",
    "            next_grid.add(p)\n",
    "\n",
    "    new_candidates = {q for p in grid for q in p.neighbors() if q not in grid}\n",
    "    for p in new_candidates:\n",
    "        n = sum(q in grid for q in p.neighbors())\n",
    "        if n == 3:\n",
    "            next_grid.add(p)\n",
    "\n",
    "    return next_grid"
   ]
  },
  {
   "cell_type": "code",
   "execution_count": 31,
   "metadata": {},
   "outputs": [
    {
     "data": {
      "application/javascript": [
       "\n",
       "            setTimeout(function() {\n",
       "                var nbb_cell_id = 31;\n",
       "                var nbb_unformatted_code = \"def count_active_cubes2(grid: Grid2) -> int:\\n    for _ in range(6):\\n        grid = cycle2(grid)\\n    return len(grid)\";\n",
       "                var nbb_formatted_code = \"def count_active_cubes2(grid: Grid2) -> int:\\n    for _ in range(6):\\n        grid = cycle2(grid)\\n    return len(grid)\";\n",
       "                var nbb_cells = Jupyter.notebook.get_cells();\n",
       "                for (var i = 0; i < nbb_cells.length; ++i) {\n",
       "                    if (nbb_cells[i].input_prompt_number == nbb_cell_id) {\n",
       "                        if (nbb_cells[i].get_text() == nbb_unformatted_code) {\n",
       "                             nbb_cells[i].set_text(nbb_formatted_code);\n",
       "                        }\n",
       "                        break;\n",
       "                    }\n",
       "                }\n",
       "            }, 500);\n",
       "            "
      ],
      "text/plain": [
       "<IPython.core.display.Javascript object>"
      ]
     },
     "metadata": {},
     "output_type": "display_data"
    },
    {
     "data": {
      "application/javascript": [
       "\n",
       "            setTimeout(function() {\n",
       "                var nbb_cell_id = 31;\n",
       "                var nbb_unformatted_code = \"def count_active_cubes2(grid: Grid2) -> int:\\n    for _ in range(6):\\n        grid = cycle2(grid)\\n    return len(grid)\";\n",
       "                var nbb_formatted_code = \"def count_active_cubes2(grid: Grid2) -> int:\\n    for _ in range(6):\\n        grid = cycle2(grid)\\n    return len(grid)\";\n",
       "                var nbb_cells = Jupyter.notebook.get_cells();\n",
       "                for (var i = 0; i < nbb_cells.length; ++i) {\n",
       "                    if (nbb_cells[i].input_prompt_number == nbb_cell_id) {\n",
       "                        if (nbb_cells[i].get_text() == nbb_unformatted_code) {\n",
       "                             nbb_cells[i].set_text(nbb_formatted_code);\n",
       "                        }\n",
       "                        break;\n",
       "                    }\n",
       "                }\n",
       "            }, 500);\n",
       "            "
      ],
      "text/plain": [
       "<IPython.core.display.Javascript object>"
      ]
     },
     "metadata": {},
     "output_type": "display_data"
    }
   ],
   "source": [
    "def count_active_cubes2(grid: Grid2) -> int:\n",
    "    for _ in range(6):\n",
    "        grid = cycle2(grid)\n",
    "    return len(grid)"
   ]
  },
  {
   "cell_type": "code",
   "execution_count": 33,
   "metadata": {},
   "outputs": [
    {
     "data": {
      "application/javascript": [
       "\n",
       "            setTimeout(function() {\n",
       "                var nbb_cell_id = 33;\n",
       "                var nbb_unformatted_code = \"GRID2 = parse2(RAW)\\nassert count_active_cubes2(GRID2) == 848\";\n",
       "                var nbb_formatted_code = \"GRID2 = parse2(RAW)\\nassert count_active_cubes2(GRID2) == 848\";\n",
       "                var nbb_cells = Jupyter.notebook.get_cells();\n",
       "                for (var i = 0; i < nbb_cells.length; ++i) {\n",
       "                    if (nbb_cells[i].input_prompt_number == nbb_cell_id) {\n",
       "                        if (nbb_cells[i].get_text() == nbb_unformatted_code) {\n",
       "                             nbb_cells[i].set_text(nbb_formatted_code);\n",
       "                        }\n",
       "                        break;\n",
       "                    }\n",
       "                }\n",
       "            }, 500);\n",
       "            "
      ],
      "text/plain": [
       "<IPython.core.display.Javascript object>"
      ]
     },
     "metadata": {},
     "output_type": "display_data"
    },
    {
     "data": {
      "application/javascript": [
       "\n",
       "            setTimeout(function() {\n",
       "                var nbb_cell_id = 33;\n",
       "                var nbb_unformatted_code = \"GRID2 = parse2(RAW)\\nassert count_active_cubes2(GRID2) == 848\";\n",
       "                var nbb_formatted_code = \"GRID2 = parse2(RAW)\\nassert count_active_cubes2(GRID2) == 848\";\n",
       "                var nbb_cells = Jupyter.notebook.get_cells();\n",
       "                for (var i = 0; i < nbb_cells.length; ++i) {\n",
       "                    if (nbb_cells[i].input_prompt_number == nbb_cell_id) {\n",
       "                        if (nbb_cells[i].get_text() == nbb_unformatted_code) {\n",
       "                             nbb_cells[i].set_text(nbb_formatted_code);\n",
       "                        }\n",
       "                        break;\n",
       "                    }\n",
       "                }\n",
       "            }, 500);\n",
       "            "
      ],
      "text/plain": [
       "<IPython.core.display.Javascript object>"
      ]
     },
     "metadata": {},
     "output_type": "display_data"
    }
   ],
   "source": [
    "GRID2 = parse2(RAW)\n",
    "assert count_active_cubes2(GRID2) == 848"
   ]
  },
  {
   "cell_type": "code",
   "execution_count": 34,
   "metadata": {},
   "outputs": [
    {
     "data": {
      "text/plain": [
       "2028"
      ]
     },
     "execution_count": 34,
     "metadata": {},
     "output_type": "execute_result"
    },
    {
     "data": {
      "application/javascript": [
       "\n",
       "            setTimeout(function() {\n",
       "                var nbb_cell_id = 34;\n",
       "                var nbb_unformatted_code = \"with open(\\\"../input/day17.txt\\\") as f:\\n    raw = f.read()\\ngrid2 = parse2(raw)\\ncount_active_cubes2(grid2)\";\n",
       "                var nbb_formatted_code = \"with open(\\\"../input/day17.txt\\\") as f:\\n    raw = f.read()\\ngrid2 = parse2(raw)\\ncount_active_cubes2(grid2)\";\n",
       "                var nbb_cells = Jupyter.notebook.get_cells();\n",
       "                for (var i = 0; i < nbb_cells.length; ++i) {\n",
       "                    if (nbb_cells[i].input_prompt_number == nbb_cell_id) {\n",
       "                        if (nbb_cells[i].get_text() == nbb_unformatted_code) {\n",
       "                             nbb_cells[i].set_text(nbb_formatted_code);\n",
       "                        }\n",
       "                        break;\n",
       "                    }\n",
       "                }\n",
       "            }, 500);\n",
       "            "
      ],
      "text/plain": [
       "<IPython.core.display.Javascript object>"
      ]
     },
     "metadata": {},
     "output_type": "display_data"
    },
    {
     "data": {
      "application/javascript": [
       "\n",
       "            setTimeout(function() {\n",
       "                var nbb_cell_id = 34;\n",
       "                var nbb_unformatted_code = \"with open(\\\"../input/day17.txt\\\") as f:\\n    raw = f.read()\\ngrid2 = parse2(raw)\\ncount_active_cubes2(grid2)\";\n",
       "                var nbb_formatted_code = \"with open(\\\"../input/day17.txt\\\") as f:\\n    raw = f.read()\\ngrid2 = parse2(raw)\\ncount_active_cubes2(grid2)\";\n",
       "                var nbb_cells = Jupyter.notebook.get_cells();\n",
       "                for (var i = 0; i < nbb_cells.length; ++i) {\n",
       "                    if (nbb_cells[i].input_prompt_number == nbb_cell_id) {\n",
       "                        if (nbb_cells[i].get_text() == nbb_unformatted_code) {\n",
       "                             nbb_cells[i].set_text(nbb_formatted_code);\n",
       "                        }\n",
       "                        break;\n",
       "                    }\n",
       "                }\n",
       "            }, 500);\n",
       "            "
      ],
      "text/plain": [
       "<IPython.core.display.Javascript object>"
      ]
     },
     "metadata": {},
     "output_type": "display_data"
    }
   ],
   "source": [
    "with open(\"../input/day17.txt\") as f:\n",
    "    raw = f.read()\n",
    "grid2 = parse2(raw)\n",
    "count_active_cubes2(grid2)"
   ]
  },
  {
   "cell_type": "code",
   "execution_count": null,
   "metadata": {},
   "outputs": [],
   "source": []
  }
 ],
 "metadata": {
  "kernelspec": {
   "display_name": "Python [conda env:ml] *",
   "language": "python",
   "name": "conda-env-ml-py"
  },
  "language_info": {
   "codemirror_mode": {
    "name": "ipython",
    "version": 3
   },
   "file_extension": ".py",
   "mimetype": "text/x-python",
   "name": "python",
   "nbconvert_exporter": "python",
   "pygments_lexer": "ipython3",
   "version": "3.8.6"
  }
 },
 "nbformat": 4,
 "nbformat_minor": 4
}
