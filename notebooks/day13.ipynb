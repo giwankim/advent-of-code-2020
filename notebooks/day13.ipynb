{
 "cells": [
  {
   "cell_type": "code",
   "execution_count": 1,
   "metadata": {},
   "outputs": [
    {
     "data": {
      "application/javascript": [
       "\n",
       "            setTimeout(function() {\n",
       "                var nbb_cell_id = 1;\n",
       "                var nbb_unformatted_code = \"%reload_ext nb_black\";\n",
       "                var nbb_formatted_code = \"%reload_ext nb_black\";\n",
       "                var nbb_cells = Jupyter.notebook.get_cells();\n",
       "                for (var i = 0; i < nbb_cells.length; ++i) {\n",
       "                    if (nbb_cells[i].input_prompt_number == nbb_cell_id) {\n",
       "                        if (nbb_cells[i].get_text() == nbb_unformatted_code) {\n",
       "                             nbb_cells[i].set_text(nbb_formatted_code);\n",
       "                        }\n",
       "                        break;\n",
       "                    }\n",
       "                }\n",
       "            }, 500);\n",
       "            "
      ],
      "text/plain": [
       "<IPython.core.display.Javascript object>"
      ]
     },
     "metadata": {},
     "output_type": "display_data"
    }
   ],
   "source": [
    "%reload_ext nb_black"
   ]
  },
  {
   "cell_type": "markdown",
   "metadata": {},
   "source": [
    "# Day 13"
   ]
  },
  {
   "cell_type": "code",
   "execution_count": 24,
   "metadata": {},
   "outputs": [
    {
     "data": {
      "application/javascript": [
       "\n",
       "            setTimeout(function() {\n",
       "                var nbb_cell_id = 24;\n",
       "                var nbb_unformatted_code = \"from typing import Dict, List, NamedTuple, Tuple\\nimport functools\";\n",
       "                var nbb_formatted_code = \"from typing import Dict, List, NamedTuple, Tuple\\nimport functools\";\n",
       "                var nbb_cells = Jupyter.notebook.get_cells();\n",
       "                for (var i = 0; i < nbb_cells.length; ++i) {\n",
       "                    if (nbb_cells[i].input_prompt_number == nbb_cell_id) {\n",
       "                        if (nbb_cells[i].get_text() == nbb_unformatted_code) {\n",
       "                             nbb_cells[i].set_text(nbb_formatted_code);\n",
       "                        }\n",
       "                        break;\n",
       "                    }\n",
       "                }\n",
       "            }, 500);\n",
       "            "
      ],
      "text/plain": [
       "<IPython.core.display.Javascript object>"
      ]
     },
     "metadata": {},
     "output_type": "display_data"
    }
   ],
   "source": [
    "from typing import Dict, List, NamedTuple, Tuple\n",
    "import functools"
   ]
  },
  {
   "cell_type": "markdown",
   "metadata": {},
   "source": [
    "## Part One"
   ]
  },
  {
   "cell_type": "code",
   "execution_count": 3,
   "metadata": {},
   "outputs": [
    {
     "data": {
      "application/javascript": [
       "\n",
       "            setTimeout(function() {\n",
       "                var nbb_cell_id = 3;\n",
       "                var nbb_unformatted_code = \"def parse(raw: str) -> Tuple[int, List[str]]:\\n    raw = raw.strip()\\n    time, buses = raw.split(\\\"\\\\n\\\")\\n    time = int(time)\\n    buses = buses.split(\\\",\\\")\\n    return time, buses\";\n",
       "                var nbb_formatted_code = \"def parse(raw: str) -> Tuple[int, List[str]]:\\n    raw = raw.strip()\\n    time, buses = raw.split(\\\"\\\\n\\\")\\n    time = int(time)\\n    buses = buses.split(\\\",\\\")\\n    return time, buses\";\n",
       "                var nbb_cells = Jupyter.notebook.get_cells();\n",
       "                for (var i = 0; i < nbb_cells.length; ++i) {\n",
       "                    if (nbb_cells[i].input_prompt_number == nbb_cell_id) {\n",
       "                        if (nbb_cells[i].get_text() == nbb_unformatted_code) {\n",
       "                             nbb_cells[i].set_text(nbb_formatted_code);\n",
       "                        }\n",
       "                        break;\n",
       "                    }\n",
       "                }\n",
       "            }, 500);\n",
       "            "
      ],
      "text/plain": [
       "<IPython.core.display.Javascript object>"
      ]
     },
     "metadata": {},
     "output_type": "display_data"
    }
   ],
   "source": [
    "def parse(raw: str) -> Tuple[int, List[str]]:\n",
    "    raw = raw.strip()\n",
    "    time, buses = raw.split(\"\\n\")\n",
    "    time = int(time)\n",
    "    buses = buses.split(\",\")\n",
    "    return time, buses"
   ]
  },
  {
   "cell_type": "code",
   "execution_count": 4,
   "metadata": {},
   "outputs": [
    {
     "data": {
      "application/javascript": [
       "\n",
       "            setTimeout(function() {\n",
       "                var nbb_cell_id = 4;\n",
       "                var nbb_unformatted_code = \"def wait(time: int, buses: List[str]) -> int:\\n    depart = time\\n    while True:\\n        for bus in buses:\\n            if bus == \\\"x\\\":\\n                continue\\n            bus = int(bus)\\n            if depart % bus == 0:\\n                return (depart - time) * bus\\n        depart += 1\\n    return -1\";\n",
       "                var nbb_formatted_code = \"def wait(time: int, buses: List[str]) -> int:\\n    depart = time\\n    while True:\\n        for bus in buses:\\n            if bus == \\\"x\\\":\\n                continue\\n            bus = int(bus)\\n            if depart % bus == 0:\\n                return (depart - time) * bus\\n        depart += 1\\n    return -1\";\n",
       "                var nbb_cells = Jupyter.notebook.get_cells();\n",
       "                for (var i = 0; i < nbb_cells.length; ++i) {\n",
       "                    if (nbb_cells[i].input_prompt_number == nbb_cell_id) {\n",
       "                        if (nbb_cells[i].get_text() == nbb_unformatted_code) {\n",
       "                             nbb_cells[i].set_text(nbb_formatted_code);\n",
       "                        }\n",
       "                        break;\n",
       "                    }\n",
       "                }\n",
       "            }, 500);\n",
       "            "
      ],
      "text/plain": [
       "<IPython.core.display.Javascript object>"
      ]
     },
     "metadata": {},
     "output_type": "display_data"
    }
   ],
   "source": [
    "def wait(time: int, buses: List[str]) -> int:\n",
    "    depart = time\n",
    "    while True:\n",
    "        for bus in buses:\n",
    "            if bus == \"x\":\n",
    "                continue\n",
    "            bus = int(bus)\n",
    "            if depart % bus == 0:\n",
    "                return (depart - time) * bus\n",
    "        depart += 1\n",
    "    return -1"
   ]
  },
  {
   "cell_type": "code",
   "execution_count": 5,
   "metadata": {},
   "outputs": [
    {
     "data": {
      "application/javascript": [
       "\n",
       "            setTimeout(function() {\n",
       "                var nbb_cell_id = 5;\n",
       "                var nbb_unformatted_code = \"RAW = \\\"\\\"\\\"939\\n7,13,x,x,59,x,31,19\\n\\\"\\\"\\\"\\ntime, buses = parse(RAW)\\nassert wait(time, buses) == 295\";\n",
       "                var nbb_formatted_code = \"RAW = \\\"\\\"\\\"939\\n7,13,x,x,59,x,31,19\\n\\\"\\\"\\\"\\ntime, buses = parse(RAW)\\nassert wait(time, buses) == 295\";\n",
       "                var nbb_cells = Jupyter.notebook.get_cells();\n",
       "                for (var i = 0; i < nbb_cells.length; ++i) {\n",
       "                    if (nbb_cells[i].input_prompt_number == nbb_cell_id) {\n",
       "                        if (nbb_cells[i].get_text() == nbb_unformatted_code) {\n",
       "                             nbb_cells[i].set_text(nbb_formatted_code);\n",
       "                        }\n",
       "                        break;\n",
       "                    }\n",
       "                }\n",
       "            }, 500);\n",
       "            "
      ],
      "text/plain": [
       "<IPython.core.display.Javascript object>"
      ]
     },
     "metadata": {},
     "output_type": "display_data"
    }
   ],
   "source": [
    "RAW = \"\"\"939\n",
    "7,13,x,x,59,x,31,19\n",
    "\"\"\"\n",
    "time, buses = parse(RAW)\n",
    "assert wait(time, buses) == 295"
   ]
  },
  {
   "cell_type": "code",
   "execution_count": 6,
   "metadata": {},
   "outputs": [
    {
     "data": {
      "text/plain": [
       "5257"
      ]
     },
     "execution_count": 6,
     "metadata": {},
     "output_type": "execute_result"
    },
    {
     "data": {
      "application/javascript": [
       "\n",
       "            setTimeout(function() {\n",
       "                var nbb_cell_id = 6;\n",
       "                var nbb_unformatted_code = \"with open(\\\"../input/day13.txt\\\") as f:\\n    raw = f.read()\\ntime, buses = parse(raw)\\nwait(time, buses)\";\n",
       "                var nbb_formatted_code = \"with open(\\\"../input/day13.txt\\\") as f:\\n    raw = f.read()\\ntime, buses = parse(raw)\\nwait(time, buses)\";\n",
       "                var nbb_cells = Jupyter.notebook.get_cells();\n",
       "                for (var i = 0; i < nbb_cells.length; ++i) {\n",
       "                    if (nbb_cells[i].input_prompt_number == nbb_cell_id) {\n",
       "                        if (nbb_cells[i].get_text() == nbb_unformatted_code) {\n",
       "                             nbb_cells[i].set_text(nbb_formatted_code);\n",
       "                        }\n",
       "                        break;\n",
       "                    }\n",
       "                }\n",
       "            }, 500);\n",
       "            "
      ],
      "text/plain": [
       "<IPython.core.display.Javascript object>"
      ]
     },
     "metadata": {},
     "output_type": "display_data"
    }
   ],
   "source": [
    "with open(\"../input/day13.txt\") as f:\n",
    "    raw = f.read()\n",
    "time, buses = parse(raw)\n",
    "wait(time, buses)"
   ]
  },
  {
   "cell_type": "markdown",
   "metadata": {},
   "source": [
    "## Part Two"
   ]
  },
  {
   "cell_type": "code",
   "execution_count": 31,
   "metadata": {},
   "outputs": [
    {
     "data": {
      "application/javascript": [
       "\n",
       "            setTimeout(function() {\n",
       "                var nbb_cell_id = 31;\n",
       "                var nbb_unformatted_code = \"def extended_euclid(a: int, b: int) -> Tuple[int, int]:\\n    \\\"\\\"\\\"\\n    >>> extended_euclid(10, 6)\\n    (-1, 2)\\n\\n    >>> extended_euclid(7, 5)\\n    (-2, 3)\\n    \\\"\\\"\\\"\\n    if b == 0:\\n        return (1, 0)\\n    (x, y) = extended_euclid(b, a % b)\\n    k = a // b\\n    return (y, x - k * y)\\n\\n\\ndef invert_modulo(a: int, n: int) -> int:\\n    \\\"\\\"\\\"\\n    >>> invert_modulo(2, 5)\\n    3\\n\\n    >>> invert_modulo(8, 7)\\n    1\\n    \\\"\\\"\\\"\\n    (b, x) = extended_euclid(a, n)\\n    if b < 0:\\n        b = (b % n + n) % n\\n    return b\\n\\n\\ndef chinese_remainder_theorem(a: List[int], n: List[int]) -> int:\\n    answer = 0\\n    N = functools.reduce(lambda a, b: a * b, n)\\n    for ai, ni in zip(a, n):\\n        Ni = N // ni\\n        Mi = invert_modulo(Ni, ni)\\n        answer += ai * Mi * Ni\\n    return answer % N\";\n",
       "                var nbb_formatted_code = \"def extended_euclid(a: int, b: int) -> Tuple[int, int]:\\n    \\\"\\\"\\\"\\n    >>> extended_euclid(10, 6)\\n    (-1, 2)\\n\\n    >>> extended_euclid(7, 5)\\n    (-2, 3)\\n    \\\"\\\"\\\"\\n    if b == 0:\\n        return (1, 0)\\n    (x, y) = extended_euclid(b, a % b)\\n    k = a // b\\n    return (y, x - k * y)\\n\\n\\ndef invert_modulo(a: int, n: int) -> int:\\n    \\\"\\\"\\\"\\n    >>> invert_modulo(2, 5)\\n    3\\n\\n    >>> invert_modulo(8, 7)\\n    1\\n    \\\"\\\"\\\"\\n    (b, x) = extended_euclid(a, n)\\n    if b < 0:\\n        b = (b % n + n) % n\\n    return b\\n\\n\\ndef chinese_remainder_theorem(a: List[int], n: List[int]) -> int:\\n    answer = 0\\n    N = functools.reduce(lambda a, b: a * b, n)\\n    for ai, ni in zip(a, n):\\n        Ni = N // ni\\n        Mi = invert_modulo(Ni, ni)\\n        answer += ai * Mi * Ni\\n    return answer % N\";\n",
       "                var nbb_cells = Jupyter.notebook.get_cells();\n",
       "                for (var i = 0; i < nbb_cells.length; ++i) {\n",
       "                    if (nbb_cells[i].input_prompt_number == nbb_cell_id) {\n",
       "                        if (nbb_cells[i].get_text() == nbb_unformatted_code) {\n",
       "                             nbb_cells[i].set_text(nbb_formatted_code);\n",
       "                        }\n",
       "                        break;\n",
       "                    }\n",
       "                }\n",
       "            }, 500);\n",
       "            "
      ],
      "text/plain": [
       "<IPython.core.display.Javascript object>"
      ]
     },
     "metadata": {},
     "output_type": "display_data"
    }
   ],
   "source": [
    "def extended_euclid(a: int, b: int) -> Tuple[int, int]:\n",
    "    \"\"\"\n",
    "    >>> extended_euclid(10, 6)\n",
    "    (-1, 2)\n",
    "\n",
    "    >>> extended_euclid(7, 5)\n",
    "    (-2, 3)\n",
    "    \"\"\"\n",
    "    if b == 0:\n",
    "        return (1, 0)\n",
    "    (x, y) = extended_euclid(b, a % b)\n",
    "    k = a // b\n",
    "    return (y, x - k * y)\n",
    "\n",
    "\n",
    "def invert_modulo(a: int, n: int) -> int:\n",
    "    \"\"\"\n",
    "    >>> invert_modulo(2, 5)\n",
    "    3\n",
    "\n",
    "    >>> invert_modulo(8, 7)\n",
    "    1\n",
    "    \"\"\"\n",
    "    (b, x) = extended_euclid(a, n)\n",
    "    if b < 0:\n",
    "        b = (b % n + n) % n\n",
    "    return b\n",
    "\n",
    "\n",
    "def chinese_remainder_theorem(a: List[int], n: List[int]) -> int:\n",
    "    answer = 0\n",
    "    N = functools.reduce(lambda a, b: a * b, n)\n",
    "    for ai, ni in zip(a, n):\n",
    "        Ni = N // ni\n",
    "        Mi = invert_modulo(Ni, ni)\n",
    "        answer += ai * Mi * Ni\n",
    "    return answer % N"
   ]
  },
  {
   "cell_type": "code",
   "execution_count": 26,
   "metadata": {},
   "outputs": [
    {
     "data": {
      "application/javascript": [
       "\n",
       "            setTimeout(function() {\n",
       "                var nbb_cell_id = 26;\n",
       "                var nbb_unformatted_code = \"def parse2(raw: str) -> Tuple[Tuple[int], Tuple[int]]:\\n    raw = raw.strip()\\n    buses = raw.split(\\\",\\\")\\n    buses = [(int(o) - i, int(o)) for i, o in enumerate(buses) if o != \\\"x\\\"]\\n    a, n = zip(*buses)\\n    return a, n\";\n",
       "                var nbb_formatted_code = \"def parse2(raw: str) -> Tuple[Tuple[int], Tuple[int]]:\\n    raw = raw.strip()\\n    buses = raw.split(\\\",\\\")\\n    buses = [(int(o) - i, int(o)) for i, o in enumerate(buses) if o != \\\"x\\\"]\\n    a, n = zip(*buses)\\n    return a, n\";\n",
       "                var nbb_cells = Jupyter.notebook.get_cells();\n",
       "                for (var i = 0; i < nbb_cells.length; ++i) {\n",
       "                    if (nbb_cells[i].input_prompt_number == nbb_cell_id) {\n",
       "                        if (nbb_cells[i].get_text() == nbb_unformatted_code) {\n",
       "                             nbb_cells[i].set_text(nbb_formatted_code);\n",
       "                        }\n",
       "                        break;\n",
       "                    }\n",
       "                }\n",
       "            }, 500);\n",
       "            "
      ],
      "text/plain": [
       "<IPython.core.display.Javascript object>"
      ]
     },
     "metadata": {},
     "output_type": "display_data"
    }
   ],
   "source": [
    "def parse2(raw: str) -> Tuple[Tuple[int], Tuple[int]]:\n",
    "    raw = raw.strip()\n",
    "    buses = raw.split(\",\")\n",
    "    buses = [(int(o) - i, int(o)) for i, o in enumerate(buses) if o != \"x\"]\n",
    "    a, n = zip(*buses)\n",
    "    return a, n"
   ]
  },
  {
   "cell_type": "code",
   "execution_count": 27,
   "metadata": {},
   "outputs": [
    {
     "data": {
      "text/plain": [
       "1068781"
      ]
     },
     "execution_count": 27,
     "metadata": {},
     "output_type": "execute_result"
    },
    {
     "data": {
      "application/javascript": [
       "\n",
       "            setTimeout(function() {\n",
       "                var nbb_cell_id = 27;\n",
       "                var nbb_unformatted_code = \"a, n = parse2(RAW2)\\nchinese_remainder(a, n)\";\n",
       "                var nbb_formatted_code = \"a, n = parse2(RAW2)\\nchinese_remainder(a, n)\";\n",
       "                var nbb_cells = Jupyter.notebook.get_cells();\n",
       "                for (var i = 0; i < nbb_cells.length; ++i) {\n",
       "                    if (nbb_cells[i].input_prompt_number == nbb_cell_id) {\n",
       "                        if (nbb_cells[i].get_text() == nbb_unformatted_code) {\n",
       "                             nbb_cells[i].set_text(nbb_formatted_code);\n",
       "                        }\n",
       "                        break;\n",
       "                    }\n",
       "                }\n",
       "            }, 500);\n",
       "            "
      ],
      "text/plain": [
       "<IPython.core.display.Javascript object>"
      ]
     },
     "metadata": {},
     "output_type": "display_data"
    }
   ],
   "source": [
    "a, n = parse2(RAW2)\n",
    "chinese_remainder(a, n)"
   ]
  },
  {
   "cell_type": "code",
   "execution_count": 32,
   "metadata": {},
   "outputs": [
    {
     "data": {
      "application/javascript": [
       "\n",
       "            setTimeout(function() {\n",
       "                var nbb_cell_id = 32;\n",
       "                var nbb_unformatted_code = \"RAW2 = \\\"7,13,x,x,59,x,31,19\\\"\\na, n = parse2(RAW2)\\nassert chinese_remainder_theorem(a, n) == 1068781\";\n",
       "                var nbb_formatted_code = \"RAW2 = \\\"7,13,x,x,59,x,31,19\\\"\\na, n = parse2(RAW2)\\nassert chinese_remainder_theorem(a, n) == 1068781\";\n",
       "                var nbb_cells = Jupyter.notebook.get_cells();\n",
       "                for (var i = 0; i < nbb_cells.length; ++i) {\n",
       "                    if (nbb_cells[i].input_prompt_number == nbb_cell_id) {\n",
       "                        if (nbb_cells[i].get_text() == nbb_unformatted_code) {\n",
       "                             nbb_cells[i].set_text(nbb_formatted_code);\n",
       "                        }\n",
       "                        break;\n",
       "                    }\n",
       "                }\n",
       "            }, 500);\n",
       "            "
      ],
      "text/plain": [
       "<IPython.core.display.Javascript object>"
      ]
     },
     "metadata": {},
     "output_type": "display_data"
    }
   ],
   "source": [
    "RAW2 = \"7,13,x,x,59,x,31,19\"\n",
    "a, n = parse2(RAW2)\n",
    "assert chinese_remainder_theorem(a, n) == 1068781"
   ]
  },
  {
   "cell_type": "code",
   "execution_count": 36,
   "metadata": {},
   "outputs": [
    {
     "data": {
      "application/javascript": [
       "\n",
       "            setTimeout(function() {\n",
       "                var nbb_cell_id = 36;\n",
       "                var nbb_unformatted_code = \"RAW3 = \\\"17,x,13,19\\\"\\na, n = parse2(RAW3)\\nassert chinese_remainder_theorem(a, n) == 3417\";\n",
       "                var nbb_formatted_code = \"RAW3 = \\\"17,x,13,19\\\"\\na, n = parse2(RAW3)\\nassert chinese_remainder_theorem(a, n) == 3417\";\n",
       "                var nbb_cells = Jupyter.notebook.get_cells();\n",
       "                for (var i = 0; i < nbb_cells.length; ++i) {\n",
       "                    if (nbb_cells[i].input_prompt_number == nbb_cell_id) {\n",
       "                        if (nbb_cells[i].get_text() == nbb_unformatted_code) {\n",
       "                             nbb_cells[i].set_text(nbb_formatted_code);\n",
       "                        }\n",
       "                        break;\n",
       "                    }\n",
       "                }\n",
       "            }, 500);\n",
       "            "
      ],
      "text/plain": [
       "<IPython.core.display.Javascript object>"
      ]
     },
     "metadata": {},
     "output_type": "display_data"
    }
   ],
   "source": [
    "RAW3 = \"17,x,13,19\"\n",
    "a, n = parse2(RAW3)\n",
    "assert chinese_remainder_theorem(a, n) == 3417"
   ]
  },
  {
   "cell_type": "code",
   "execution_count": 35,
   "metadata": {},
   "outputs": [
    {
     "data": {
      "application/javascript": [
       "\n",
       "            setTimeout(function() {\n",
       "                var nbb_cell_id = 35;\n",
       "                var nbb_unformatted_code = \"RAW4 = \\\"67,7,59,61\\\"\\na, n = parse2(RAW4)\\nassert chinese_remainder_theorem(a, n) == 754018\";\n",
       "                var nbb_formatted_code = \"RAW4 = \\\"67,7,59,61\\\"\\na, n = parse2(RAW4)\\nassert chinese_remainder_theorem(a, n) == 754018\";\n",
       "                var nbb_cells = Jupyter.notebook.get_cells();\n",
       "                for (var i = 0; i < nbb_cells.length; ++i) {\n",
       "                    if (nbb_cells[i].input_prompt_number == nbb_cell_id) {\n",
       "                        if (nbb_cells[i].get_text() == nbb_unformatted_code) {\n",
       "                             nbb_cells[i].set_text(nbb_formatted_code);\n",
       "                        }\n",
       "                        break;\n",
       "                    }\n",
       "                }\n",
       "            }, 500);\n",
       "            "
      ],
      "text/plain": [
       "<IPython.core.display.Javascript object>"
      ]
     },
     "metadata": {},
     "output_type": "display_data"
    }
   ],
   "source": [
    "RAW4 = \"67,7,59,61\"\n",
    "a, n = parse2(RAW4)\n",
    "assert chinese_remainder_theorem(a, n) == 754018"
   ]
  },
  {
   "cell_type": "code",
   "execution_count": 37,
   "metadata": {},
   "outputs": [
    {
     "data": {
      "application/javascript": [
       "\n",
       "            setTimeout(function() {\n",
       "                var nbb_cell_id = 37;\n",
       "                var nbb_unformatted_code = \"RAW5 = \\\"67,x,7,59,61\\\"\\na, n = parse2(RAW5)\\nassert chinese_remainder_theorem(a, n) == 779210\";\n",
       "                var nbb_formatted_code = \"RAW5 = \\\"67,x,7,59,61\\\"\\na, n = parse2(RAW5)\\nassert chinese_remainder_theorem(a, n) == 779210\";\n",
       "                var nbb_cells = Jupyter.notebook.get_cells();\n",
       "                for (var i = 0; i < nbb_cells.length; ++i) {\n",
       "                    if (nbb_cells[i].input_prompt_number == nbb_cell_id) {\n",
       "                        if (nbb_cells[i].get_text() == nbb_unformatted_code) {\n",
       "                             nbb_cells[i].set_text(nbb_formatted_code);\n",
       "                        }\n",
       "                        break;\n",
       "                    }\n",
       "                }\n",
       "            }, 500);\n",
       "            "
      ],
      "text/plain": [
       "<IPython.core.display.Javascript object>"
      ]
     },
     "metadata": {},
     "output_type": "display_data"
    }
   ],
   "source": [
    "RAW5 = \"67,x,7,59,61\"\n",
    "a, n = parse2(RAW5)\n",
    "assert chinese_remainder_theorem(a, n) == 779210"
   ]
  },
  {
   "cell_type": "code",
   "execution_count": 38,
   "metadata": {},
   "outputs": [
    {
     "data": {
      "application/javascript": [
       "\n",
       "            setTimeout(function() {\n",
       "                var nbb_cell_id = 38;\n",
       "                var nbb_unformatted_code = \"RAW6 = \\\"67,7,x,59,61\\\"\\na, n = parse2(RAW6)\\nassert chinese_remainder_theorem(a, n) == 1261476\";\n",
       "                var nbb_formatted_code = \"RAW6 = \\\"67,7,x,59,61\\\"\\na, n = parse2(RAW6)\\nassert chinese_remainder_theorem(a, n) == 1261476\";\n",
       "                var nbb_cells = Jupyter.notebook.get_cells();\n",
       "                for (var i = 0; i < nbb_cells.length; ++i) {\n",
       "                    if (nbb_cells[i].input_prompt_number == nbb_cell_id) {\n",
       "                        if (nbb_cells[i].get_text() == nbb_unformatted_code) {\n",
       "                             nbb_cells[i].set_text(nbb_formatted_code);\n",
       "                        }\n",
       "                        break;\n",
       "                    }\n",
       "                }\n",
       "            }, 500);\n",
       "            "
      ],
      "text/plain": [
       "<IPython.core.display.Javascript object>"
      ]
     },
     "metadata": {},
     "output_type": "display_data"
    }
   ],
   "source": [
    "RAW6 = \"67,7,x,59,61\"\n",
    "a, n = parse2(RAW6)\n",
    "assert chinese_remainder_theorem(a, n) == 1261476"
   ]
  },
  {
   "cell_type": "code",
   "execution_count": 39,
   "metadata": {},
   "outputs": [
    {
     "data": {
      "application/javascript": [
       "\n",
       "            setTimeout(function() {\n",
       "                var nbb_cell_id = 39;\n",
       "                var nbb_unformatted_code = \"RAW7 = \\\"1789,37,47,1889\\\"\\na, n = parse2(RAW7)\\nassert chinese_remainder_theorem(a, n) == 1202161486\";\n",
       "                var nbb_formatted_code = \"RAW7 = \\\"1789,37,47,1889\\\"\\na, n = parse2(RAW7)\\nassert chinese_remainder_theorem(a, n) == 1202161486\";\n",
       "                var nbb_cells = Jupyter.notebook.get_cells();\n",
       "                for (var i = 0; i < nbb_cells.length; ++i) {\n",
       "                    if (nbb_cells[i].input_prompt_number == nbb_cell_id) {\n",
       "                        if (nbb_cells[i].get_text() == nbb_unformatted_code) {\n",
       "                             nbb_cells[i].set_text(nbb_formatted_code);\n",
       "                        }\n",
       "                        break;\n",
       "                    }\n",
       "                }\n",
       "            }, 500);\n",
       "            "
      ],
      "text/plain": [
       "<IPython.core.display.Javascript object>"
      ]
     },
     "metadata": {},
     "output_type": "display_data"
    }
   ],
   "source": [
    "RAW7 = \"1789,37,47,1889\"\n",
    "a, n = parse2(RAW7)\n",
    "assert chinese_remainder_theorem(a, n) == 1202161486"
   ]
  },
  {
   "cell_type": "code",
   "execution_count": 40,
   "metadata": {},
   "outputs": [
    {
     "data": {
      "text/plain": [
       "538703333547789"
      ]
     },
     "execution_count": 40,
     "metadata": {},
     "output_type": "execute_result"
    },
    {
     "data": {
      "application/javascript": [
       "\n",
       "            setTimeout(function() {\n",
       "                var nbb_cell_id = 40;\n",
       "                var nbb_unformatted_code = \"with open(\\\"../input/day13.txt\\\") as f:\\n    raw = f.read()\\nraw = raw.split(\\\"\\\\n\\\")[1]\\na, n = parse2(raw)\\nchinese_remainder_theorem(a, n)\";\n",
       "                var nbb_formatted_code = \"with open(\\\"../input/day13.txt\\\") as f:\\n    raw = f.read()\\nraw = raw.split(\\\"\\\\n\\\")[1]\\na, n = parse2(raw)\\nchinese_remainder_theorem(a, n)\";\n",
       "                var nbb_cells = Jupyter.notebook.get_cells();\n",
       "                for (var i = 0; i < nbb_cells.length; ++i) {\n",
       "                    if (nbb_cells[i].input_prompt_number == nbb_cell_id) {\n",
       "                        if (nbb_cells[i].get_text() == nbb_unformatted_code) {\n",
       "                             nbb_cells[i].set_text(nbb_formatted_code);\n",
       "                        }\n",
       "                        break;\n",
       "                    }\n",
       "                }\n",
       "            }, 500);\n",
       "            "
      ],
      "text/plain": [
       "<IPython.core.display.Javascript object>"
      ]
     },
     "metadata": {},
     "output_type": "display_data"
    }
   ],
   "source": [
    "with open(\"../input/day13.txt\") as f:\n",
    "    raw = f.read()\n",
    "raw = raw.split(\"\\n\")[1]\n",
    "a, n = parse2(raw)\n",
    "chinese_remainder_theorem(a, n)"
   ]
  },
  {
   "cell_type": "code",
   "execution_count": null,
   "metadata": {},
   "outputs": [],
   "source": []
  }
 ],
 "metadata": {
  "kernelspec": {
   "display_name": "Python [conda env:ml] *",
   "language": "python",
   "name": "conda-env-ml-py"
  },
  "language_info": {
   "codemirror_mode": {
    "name": "ipython",
    "version": 3
   },
   "file_extension": ".py",
   "mimetype": "text/x-python",
   "name": "python",
   "nbconvert_exporter": "python",
   "pygments_lexer": "ipython3",
   "version": "3.8.6"
  }
 },
 "nbformat": 4,
 "nbformat_minor": 4
}
