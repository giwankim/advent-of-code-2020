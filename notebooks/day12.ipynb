{
 "cells": [
  {
   "cell_type": "code",
   "execution_count": 1,
   "metadata": {},
   "outputs": [
    {
     "data": {
      "application/javascript": [
       "\n",
       "            setTimeout(function() {\n",
       "                var nbb_cell_id = 1;\n",
       "                var nbb_unformatted_code = \"%reload_ext nb_black\";\n",
       "                var nbb_formatted_code = \"%reload_ext nb_black\";\n",
       "                var nbb_cells = Jupyter.notebook.get_cells();\n",
       "                for (var i = 0; i < nbb_cells.length; ++i) {\n",
       "                    if (nbb_cells[i].input_prompt_number == nbb_cell_id) {\n",
       "                        if (nbb_cells[i].get_text() == nbb_unformatted_code) {\n",
       "                             nbb_cells[i].set_text(nbb_formatted_code);\n",
       "                        }\n",
       "                        break;\n",
       "                    }\n",
       "                }\n",
       "            }, 500);\n",
       "            "
      ],
      "text/plain": [
       "<IPython.core.display.Javascript object>"
      ]
     },
     "metadata": {},
     "output_type": "display_data"
    }
   ],
   "source": [
    "%reload_ext nb_black"
   ]
  },
  {
   "cell_type": "markdown",
   "metadata": {},
   "source": [
    "# Day 12"
   ]
  },
  {
   "cell_type": "code",
   "execution_count": 3,
   "metadata": {},
   "outputs": [
    {
     "data": {
      "application/javascript": [
       "\n",
       "            setTimeout(function() {\n",
       "                var nbb_cell_id = 3;\n",
       "                var nbb_unformatted_code = \"from typing import Dict, NamedTuple, List, Tuple\";\n",
       "                var nbb_formatted_code = \"from typing import Dict, NamedTuple, List, Tuple\";\n",
       "                var nbb_cells = Jupyter.notebook.get_cells();\n",
       "                for (var i = 0; i < nbb_cells.length; ++i) {\n",
       "                    if (nbb_cells[i].input_prompt_number == nbb_cell_id) {\n",
       "                        if (nbb_cells[i].get_text() == nbb_unformatted_code) {\n",
       "                             nbb_cells[i].set_text(nbb_formatted_code);\n",
       "                        }\n",
       "                        break;\n",
       "                    }\n",
       "                }\n",
       "            }, 500);\n",
       "            "
      ],
      "text/plain": [
       "<IPython.core.display.Javascript object>"
      ]
     },
     "metadata": {},
     "output_type": "display_data"
    }
   ],
   "source": [
    "from typing import Dict, NamedTuple, List, Tuple"
   ]
  },
  {
   "cell_type": "markdown",
   "metadata": {},
   "source": [
    "## Part One"
   ]
  },
  {
   "cell_type": "code",
   "execution_count": 9,
   "metadata": {},
   "outputs": [
    {
     "data": {
      "application/javascript": [
       "\n",
       "            setTimeout(function() {\n",
       "                var nbb_cell_id = 9;\n",
       "                var nbb_unformatted_code = \"Instruction = Tuple[str, int]\";\n",
       "                var nbb_formatted_code = \"Instruction = Tuple[str, int]\";\n",
       "                var nbb_cells = Jupyter.notebook.get_cells();\n",
       "                for (var i = 0; i < nbb_cells.length; ++i) {\n",
       "                    if (nbb_cells[i].input_prompt_number == nbb_cell_id) {\n",
       "                        if (nbb_cells[i].get_text() == nbb_unformatted_code) {\n",
       "                             nbb_cells[i].set_text(nbb_formatted_code);\n",
       "                        }\n",
       "                        break;\n",
       "                    }\n",
       "                }\n",
       "            }, 500);\n",
       "            "
      ],
      "text/plain": [
       "<IPython.core.display.Javascript object>"
      ]
     },
     "metadata": {},
     "output_type": "display_data"
    }
   ],
   "source": [
    "Instruction = Tuple[str, int]"
   ]
  },
  {
   "cell_type": "code",
   "execution_count": 12,
   "metadata": {},
   "outputs": [
    {
     "data": {
      "application/javascript": [
       "\n",
       "            setTimeout(function() {\n",
       "                var nbb_cell_id = 12;\n",
       "                var nbb_unformatted_code = \"def parse(raw: str) -> List[Instruction]:\\n    lst = raw.strip().split(\\\"\\\\n\\\")\\n    lst = [(o[0], int(o[1:])) for o in lst]\\n    return lst\";\n",
       "                var nbb_formatted_code = \"def parse(raw: str) -> List[Instruction]:\\n    lst = raw.strip().split(\\\"\\\\n\\\")\\n    lst = [(o[0], int(o[1:])) for o in lst]\\n    return lst\";\n",
       "                var nbb_cells = Jupyter.notebook.get_cells();\n",
       "                for (var i = 0; i < nbb_cells.length; ++i) {\n",
       "                    if (nbb_cells[i].input_prompt_number == nbb_cell_id) {\n",
       "                        if (nbb_cells[i].get_text() == nbb_unformatted_code) {\n",
       "                             nbb_cells[i].set_text(nbb_formatted_code);\n",
       "                        }\n",
       "                        break;\n",
       "                    }\n",
       "                }\n",
       "            }, 500);\n",
       "            "
      ],
      "text/plain": [
       "<IPython.core.display.Javascript object>"
      ]
     },
     "metadata": {},
     "output_type": "display_data"
    }
   ],
   "source": [
    "def parse(raw: str) -> List[Instruction]:\n",
    "    lst = raw.strip().split(\"\\n\")\n",
    "    lst = [(o[0], int(o[1:])) for o in lst]\n",
    "    return lst"
   ]
  },
  {
   "cell_type": "code",
   "execution_count": 27,
   "metadata": {},
   "outputs": [
    {
     "data": {
      "application/javascript": [
       "\n",
       "            setTimeout(function() {\n",
       "                var nbb_cell_id = 27;\n",
       "                var nbb_unformatted_code = \"def simulate(instructions: List[Instruction]) -> int:\\n    dirs = ((1, 0), (0, -1), (-1, 0), (0, 1))\\n    x, y, orient = 0, 0, 0\\n    for action, units in instructions:\\n        if action == \\\"N\\\":\\n            y += units\\n        elif action == \\\"S\\\":\\n            y -= units\\n        elif action == \\\"E\\\":\\n            x += units\\n        elif action == \\\"W\\\":\\n            x -= units\\n        elif action == \\\"L\\\":\\n            orient -= units // 90\\n            orient %= 4\\n        elif action == \\\"R\\\":\\n            orient += units // 90\\n            orient %= 4\\n        elif action == \\\"F\\\":\\n            dx, dy = dirs[orient]\\n            x += dx * units\\n            y += dy * units\\n        else:\\n            raise RuntimeError(action, \\\"is not a defined action\\\")\\n#         print(f\\\"{action}{units}, ({x},{y})\\\")\\n    return abs(x) + abs(y)\";\n",
       "                var nbb_formatted_code = \"def simulate(instructions: List[Instruction]) -> int:\\n    dirs = ((1, 0), (0, -1), (-1, 0), (0, 1))\\n    x, y, orient = 0, 0, 0\\n    for action, units in instructions:\\n        if action == \\\"N\\\":\\n            y += units\\n        elif action == \\\"S\\\":\\n            y -= units\\n        elif action == \\\"E\\\":\\n            x += units\\n        elif action == \\\"W\\\":\\n            x -= units\\n        elif action == \\\"L\\\":\\n            orient -= units // 90\\n            orient %= 4\\n        elif action == \\\"R\\\":\\n            orient += units // 90\\n            orient %= 4\\n        elif action == \\\"F\\\":\\n            dx, dy = dirs[orient]\\n            x += dx * units\\n            y += dy * units\\n        else:\\n            raise RuntimeError(action, \\\"is not a defined action\\\")\\n    #         print(f\\\"{action}{units}, ({x},{y})\\\")\\n    return abs(x) + abs(y)\";\n",
       "                var nbb_cells = Jupyter.notebook.get_cells();\n",
       "                for (var i = 0; i < nbb_cells.length; ++i) {\n",
       "                    if (nbb_cells[i].input_prompt_number == nbb_cell_id) {\n",
       "                        if (nbb_cells[i].get_text() == nbb_unformatted_code) {\n",
       "                             nbb_cells[i].set_text(nbb_formatted_code);\n",
       "                        }\n",
       "                        break;\n",
       "                    }\n",
       "                }\n",
       "            }, 500);\n",
       "            "
      ],
      "text/plain": [
       "<IPython.core.display.Javascript object>"
      ]
     },
     "metadata": {},
     "output_type": "display_data"
    }
   ],
   "source": [
    "def simulate(instructions: List[Instruction]) -> int:\n",
    "    dirs = ((1, 0), (0, -1), (-1, 0), (0, 1))\n",
    "    x, y, orient = 0, 0, 0\n",
    "    for action, units in instructions:\n",
    "        if action == \"N\":\n",
    "            y += units\n",
    "        elif action == \"S\":\n",
    "            y -= units\n",
    "        elif action == \"E\":\n",
    "            x += units\n",
    "        elif action == \"W\":\n",
    "            x -= units\n",
    "        elif action == \"L\":\n",
    "            orient -= units // 90\n",
    "            orient %= 4\n",
    "        elif action == \"R\":\n",
    "            orient += units // 90\n",
    "            orient %= 4\n",
    "        elif action == \"F\":\n",
    "            dx, dy = dirs[orient]\n",
    "            x += dx * units\n",
    "            y += dy * units\n",
    "        else:\n",
    "            raise RuntimeError(action, \"is not a defined action\")\n",
    "    #         print(f\"{action}{units}, ({x},{y})\")\n",
    "    return abs(x) + abs(y)"
   ]
  },
  {
   "cell_type": "code",
   "execution_count": 28,
   "metadata": {},
   "outputs": [
    {
     "data": {
      "application/javascript": [
       "\n",
       "            setTimeout(function() {\n",
       "                var nbb_cell_id = 28;\n",
       "                var nbb_unformatted_code = \"RAW = \\\"\\\"\\\"F10\\nN3\\nF7\\nR90\\nF11\\n\\\"\\\"\\\"\\nassert simulate(parse(RAW)) == 25\";\n",
       "                var nbb_formatted_code = \"RAW = \\\"\\\"\\\"F10\\nN3\\nF7\\nR90\\nF11\\n\\\"\\\"\\\"\\nassert simulate(parse(RAW)) == 25\";\n",
       "                var nbb_cells = Jupyter.notebook.get_cells();\n",
       "                for (var i = 0; i < nbb_cells.length; ++i) {\n",
       "                    if (nbb_cells[i].input_prompt_number == nbb_cell_id) {\n",
       "                        if (nbb_cells[i].get_text() == nbb_unformatted_code) {\n",
       "                             nbb_cells[i].set_text(nbb_formatted_code);\n",
       "                        }\n",
       "                        break;\n",
       "                    }\n",
       "                }\n",
       "            }, 500);\n",
       "            "
      ],
      "text/plain": [
       "<IPython.core.display.Javascript object>"
      ]
     },
     "metadata": {},
     "output_type": "display_data"
    }
   ],
   "source": [
    "RAW = \"\"\"F10\n",
    "N3\n",
    "F7\n",
    "R90\n",
    "F11\n",
    "\"\"\"\n",
    "assert simulate(parse(RAW)) == 25"
   ]
  },
  {
   "cell_type": "code",
   "execution_count": 29,
   "metadata": {},
   "outputs": [
    {
     "name": "stdout",
     "output_type": "stream",
     "text": [
      "796\n"
     ]
    },
    {
     "data": {
      "application/javascript": [
       "\n",
       "            setTimeout(function() {\n",
       "                var nbb_cell_id = 29;\n",
       "                var nbb_unformatted_code = \"with open(\\\"../input/day12.txt\\\") as f:\\n    raw = f.read()\\ninstructions = parse(raw)\\nprint(simulate(instructions))\";\n",
       "                var nbb_formatted_code = \"with open(\\\"../input/day12.txt\\\") as f:\\n    raw = f.read()\\ninstructions = parse(raw)\\nprint(simulate(instructions))\";\n",
       "                var nbb_cells = Jupyter.notebook.get_cells();\n",
       "                for (var i = 0; i < nbb_cells.length; ++i) {\n",
       "                    if (nbb_cells[i].input_prompt_number == nbb_cell_id) {\n",
       "                        if (nbb_cells[i].get_text() == nbb_unformatted_code) {\n",
       "                             nbb_cells[i].set_text(nbb_formatted_code);\n",
       "                        }\n",
       "                        break;\n",
       "                    }\n",
       "                }\n",
       "            }, 500);\n",
       "            "
      ],
      "text/plain": [
       "<IPython.core.display.Javascript object>"
      ]
     },
     "metadata": {},
     "output_type": "display_data"
    }
   ],
   "source": [
    "with open(\"../input/day12.txt\") as f:\n",
    "    raw = f.read()\n",
    "instructions = parse(raw)\n",
    "print(simulate(instructions))"
   ]
  },
  {
   "cell_type": "markdown",
   "metadata": {},
   "source": [
    "## Part Two"
   ]
  },
  {
   "cell_type": "code",
   "execution_count": 37,
   "metadata": {},
   "outputs": [
    {
     "data": {
      "application/javascript": [
       "\n",
       "            setTimeout(function() {\n",
       "                var nbb_cell_id = 37;\n",
       "                var nbb_unformatted_code = \"def simulate2(instructions: List[Instruction]) -> int:\\n    waypoint = [10, 1]\\n    ship = [0, 0, 0]\\n    for action, units in instructions:\\n        if action == \\\"F\\\":\\n            ship[0] += waypoint[0] * units\\n            ship[1] += waypoint[1] * units\\n        elif action == \\\"N\\\":\\n            waypoint[1] += units\\n        elif action == \\\"S\\\":\\n            waypoint[1] -= units\\n        elif action == \\\"E\\\":\\n            waypoint[0] += units\\n        elif action == \\\"W\\\":\\n            waypoint[0] -= units\\n        elif action == \\\"R\\\":\\n            for _ in range(units // 90):\\n                waypoint[0], waypoint[1] = waypoint[1], -waypoint[0]\\n        elif action == \\\"L\\\":\\n            for _ in range(units // 90):\\n                waypoint[0], waypoint[1] = -waypoint[1], waypoint[0]\\n        else:\\n            raise RuntimeError(action, \\\"is not a defined action\\\")\\n#         print(f\\\"{action}{units}, ({ship[0]},{ship[1]})\\\")\\n    return abs(ship[0]) + abs(ship[1])\";\n",
       "                var nbb_formatted_code = \"def simulate2(instructions: List[Instruction]) -> int:\\n    waypoint = [10, 1]\\n    ship = [0, 0, 0]\\n    for action, units in instructions:\\n        if action == \\\"F\\\":\\n            ship[0] += waypoint[0] * units\\n            ship[1] += waypoint[1] * units\\n        elif action == \\\"N\\\":\\n            waypoint[1] += units\\n        elif action == \\\"S\\\":\\n            waypoint[1] -= units\\n        elif action == \\\"E\\\":\\n            waypoint[0] += units\\n        elif action == \\\"W\\\":\\n            waypoint[0] -= units\\n        elif action == \\\"R\\\":\\n            for _ in range(units // 90):\\n                waypoint[0], waypoint[1] = waypoint[1], -waypoint[0]\\n        elif action == \\\"L\\\":\\n            for _ in range(units // 90):\\n                waypoint[0], waypoint[1] = -waypoint[1], waypoint[0]\\n        else:\\n            raise RuntimeError(action, \\\"is not a defined action\\\")\\n    #         print(f\\\"{action}{units}, ({ship[0]},{ship[1]})\\\")\\n    return abs(ship[0]) + abs(ship[1])\";\n",
       "                var nbb_cells = Jupyter.notebook.get_cells();\n",
       "                for (var i = 0; i < nbb_cells.length; ++i) {\n",
       "                    if (nbb_cells[i].input_prompt_number == nbb_cell_id) {\n",
       "                        if (nbb_cells[i].get_text() == nbb_unformatted_code) {\n",
       "                             nbb_cells[i].set_text(nbb_formatted_code);\n",
       "                        }\n",
       "                        break;\n",
       "                    }\n",
       "                }\n",
       "            }, 500);\n",
       "            "
      ],
      "text/plain": [
       "<IPython.core.display.Javascript object>"
      ]
     },
     "metadata": {},
     "output_type": "display_data"
    }
   ],
   "source": [
    "def simulate2(instructions: List[Instruction]) -> int:\n",
    "    waypoint = [10, 1]\n",
    "    ship = [0, 0, 0]\n",
    "    for action, units in instructions:\n",
    "        if action == \"F\":\n",
    "            ship[0] += waypoint[0] * units\n",
    "            ship[1] += waypoint[1] * units\n",
    "        elif action == \"N\":\n",
    "            waypoint[1] += units\n",
    "        elif action == \"S\":\n",
    "            waypoint[1] -= units\n",
    "        elif action == \"E\":\n",
    "            waypoint[0] += units\n",
    "        elif action == \"W\":\n",
    "            waypoint[0] -= units\n",
    "        elif action == \"R\":\n",
    "            for _ in range(units // 90):\n",
    "                waypoint[0], waypoint[1] = waypoint[1], -waypoint[0]\n",
    "        elif action == \"L\":\n",
    "            for _ in range(units // 90):\n",
    "                waypoint[0], waypoint[1] = -waypoint[1], waypoint[0]\n",
    "        else:\n",
    "            raise RuntimeError(action, \"is not a defined action\")\n",
    "    #         print(f\"{action}{units}, ({ship[0]},{ship[1]})\")\n",
    "    return abs(ship[0]) + abs(ship[1])"
   ]
  },
  {
   "cell_type": "code",
   "execution_count": 38,
   "metadata": {},
   "outputs": [
    {
     "data": {
      "application/javascript": [
       "\n",
       "            setTimeout(function() {\n",
       "                var nbb_cell_id = 38;\n",
       "                var nbb_unformatted_code = \"assert simulate2(parse(RAW)) == 286\";\n",
       "                var nbb_formatted_code = \"assert simulate2(parse(RAW)) == 286\";\n",
       "                var nbb_cells = Jupyter.notebook.get_cells();\n",
       "                for (var i = 0; i < nbb_cells.length; ++i) {\n",
       "                    if (nbb_cells[i].input_prompt_number == nbb_cell_id) {\n",
       "                        if (nbb_cells[i].get_text() == nbb_unformatted_code) {\n",
       "                             nbb_cells[i].set_text(nbb_formatted_code);\n",
       "                        }\n",
       "                        break;\n",
       "                    }\n",
       "                }\n",
       "            }, 500);\n",
       "            "
      ],
      "text/plain": [
       "<IPython.core.display.Javascript object>"
      ]
     },
     "metadata": {},
     "output_type": "display_data"
    }
   ],
   "source": [
    "assert simulate2(parse(RAW)) == 286"
   ]
  },
  {
   "cell_type": "code",
   "execution_count": 39,
   "metadata": {},
   "outputs": [
    {
     "name": "stdout",
     "output_type": "stream",
     "text": [
      "39446\n"
     ]
    },
    {
     "data": {
      "application/javascript": [
       "\n",
       "            setTimeout(function() {\n",
       "                var nbb_cell_id = 39;\n",
       "                var nbb_unformatted_code = \"with open(\\\"../input/day12.txt\\\") as f:\\n    raw = f.read()\\ninstructions = parse(raw)\\nprint(simulate2(instructions))\";\n",
       "                var nbb_formatted_code = \"with open(\\\"../input/day12.txt\\\") as f:\\n    raw = f.read()\\ninstructions = parse(raw)\\nprint(simulate2(instructions))\";\n",
       "                var nbb_cells = Jupyter.notebook.get_cells();\n",
       "                for (var i = 0; i < nbb_cells.length; ++i) {\n",
       "                    if (nbb_cells[i].input_prompt_number == nbb_cell_id) {\n",
       "                        if (nbb_cells[i].get_text() == nbb_unformatted_code) {\n",
       "                             nbb_cells[i].set_text(nbb_formatted_code);\n",
       "                        }\n",
       "                        break;\n",
       "                    }\n",
       "                }\n",
       "            }, 500);\n",
       "            "
      ],
      "text/plain": [
       "<IPython.core.display.Javascript object>"
      ]
     },
     "metadata": {},
     "output_type": "display_data"
    }
   ],
   "source": [
    "with open(\"../input/day12.txt\") as f:\n",
    "    raw = f.read()\n",
    "instructions = parse(raw)\n",
    "print(simulate2(instructions))"
   ]
  },
  {
   "cell_type": "code",
   "execution_count": null,
   "metadata": {},
   "outputs": [],
   "source": []
  }
 ],
 "metadata": {
  "kernelspec": {
   "display_name": "Python [conda env:ml] *",
   "language": "python",
   "name": "conda-env-ml-py"
  },
  "language_info": {
   "codemirror_mode": {
    "name": "ipython",
    "version": 3
   },
   "file_extension": ".py",
   "mimetype": "text/x-python",
   "name": "python",
   "nbconvert_exporter": "python",
   "pygments_lexer": "ipython3",
   "version": "3.8.6"
  }
 },
 "nbformat": 4,
 "nbformat_minor": 4
}
